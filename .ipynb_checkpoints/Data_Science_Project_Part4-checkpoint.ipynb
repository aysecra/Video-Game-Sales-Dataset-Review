{
 "cells": [
  {
   "cell_type": "markdown",
   "metadata": {},
   "source": [
    "# PART 4"
   ]
  },
  {
   "cell_type": "code",
   "execution_count": 1,
   "metadata": {},
   "outputs": [],
   "source": [
    "import numpy as np\n",
    "import pandas as pd\n",
    "import matplotlib.pyplot as plt\n",
    "import seaborn as sns\n",
    "from plotly import graph_objects as go\n",
    "from plotly import express as px\n",
    "from plotly.offline import init_notebook_mode, iplot"
   ]
  },
  {
   "cell_type": "markdown",
   "metadata": {},
   "source": [
    "# GTA, Driver and Watch Dogs Market Overview"
   ]
  },
  {
   "cell_type": "code",
   "execution_count": 3,
   "metadata": {},
   "outputs": [],
   "source": [
    "games = pd.read_csv(\"vgsales.csv\")"
   ]
  },
  {
   "cell_type": "code",
   "execution_count": 4,
   "metadata": {
    "scrolled": true
   },
   "outputs": [
    {
     "data": {
      "text/html": [
       "<div>\n",
       "<style scoped>\n",
       "    .dataframe tbody tr th:only-of-type {\n",
       "        vertical-align: middle;\n",
       "    }\n",
       "\n",
       "    .dataframe tbody tr th {\n",
       "        vertical-align: top;\n",
       "    }\n",
       "\n",
       "    .dataframe thead th {\n",
       "        text-align: right;\n",
       "    }\n",
       "</style>\n",
       "<table border=\"1\" class=\"dataframe\">\n",
       "  <thead>\n",
       "    <tr style=\"text-align: right;\">\n",
       "      <th></th>\n",
       "      <th>Rank</th>\n",
       "      <th>Name</th>\n",
       "      <th>Platform</th>\n",
       "      <th>Year</th>\n",
       "      <th>Genre</th>\n",
       "      <th>Publisher</th>\n",
       "      <th>NA_Sales</th>\n",
       "      <th>EU_Sales</th>\n",
       "      <th>JP_Sales</th>\n",
       "      <th>Other_Sales</th>\n",
       "      <th>Global_Sales</th>\n",
       "    </tr>\n",
       "  </thead>\n",
       "  <tbody>\n",
       "    <tr>\n",
       "      <th>16</th>\n",
       "      <td>17</td>\n",
       "      <td>Grand Theft Auto V</td>\n",
       "      <td>PS3</td>\n",
       "      <td>2013.0</td>\n",
       "      <td>Action</td>\n",
       "      <td>Take-Two Interactive</td>\n",
       "      <td>7.01</td>\n",
       "      <td>9.27</td>\n",
       "      <td>0.97</td>\n",
       "      <td>4.14</td>\n",
       "      <td>21.40</td>\n",
       "    </tr>\n",
       "    <tr>\n",
       "      <th>17</th>\n",
       "      <td>18</td>\n",
       "      <td>Grand Theft Auto: San Andreas</td>\n",
       "      <td>PS2</td>\n",
       "      <td>2004.0</td>\n",
       "      <td>Action</td>\n",
       "      <td>Take-Two Interactive</td>\n",
       "      <td>9.43</td>\n",
       "      <td>0.40</td>\n",
       "      <td>0.41</td>\n",
       "      <td>10.57</td>\n",
       "      <td>20.81</td>\n",
       "    </tr>\n",
       "    <tr>\n",
       "      <th>23</th>\n",
       "      <td>24</td>\n",
       "      <td>Grand Theft Auto V</td>\n",
       "      <td>X360</td>\n",
       "      <td>2013.0</td>\n",
       "      <td>Action</td>\n",
       "      <td>Take-Two Interactive</td>\n",
       "      <td>9.63</td>\n",
       "      <td>5.31</td>\n",
       "      <td>0.06</td>\n",
       "      <td>1.38</td>\n",
       "      <td>16.38</td>\n",
       "    </tr>\n",
       "    <tr>\n",
       "      <th>24</th>\n",
       "      <td>25</td>\n",
       "      <td>Grand Theft Auto: Vice City</td>\n",
       "      <td>PS2</td>\n",
       "      <td>2002.0</td>\n",
       "      <td>Action</td>\n",
       "      <td>Take-Two Interactive</td>\n",
       "      <td>8.41</td>\n",
       "      <td>5.49</td>\n",
       "      <td>0.47</td>\n",
       "      <td>1.78</td>\n",
       "      <td>16.15</td>\n",
       "    </tr>\n",
       "    <tr>\n",
       "      <th>38</th>\n",
       "      <td>39</td>\n",
       "      <td>Grand Theft Auto III</td>\n",
       "      <td>PS2</td>\n",
       "      <td>2001.0</td>\n",
       "      <td>Action</td>\n",
       "      <td>Take-Two Interactive</td>\n",
       "      <td>6.99</td>\n",
       "      <td>4.51</td>\n",
       "      <td>0.30</td>\n",
       "      <td>1.30</td>\n",
       "      <td>13.10</td>\n",
       "    </tr>\n",
       "    <tr>\n",
       "      <th>44</th>\n",
       "      <td>45</td>\n",
       "      <td>Grand Theft Auto V</td>\n",
       "      <td>PS4</td>\n",
       "      <td>2014.0</td>\n",
       "      <td>Action</td>\n",
       "      <td>Take-Two Interactive</td>\n",
       "      <td>3.80</td>\n",
       "      <td>5.81</td>\n",
       "      <td>0.36</td>\n",
       "      <td>2.02</td>\n",
       "      <td>11.98</td>\n",
       "    </tr>\n",
       "    <tr>\n",
       "      <th>51</th>\n",
       "      <td>52</td>\n",
       "      <td>Grand Theft Auto IV</td>\n",
       "      <td>X360</td>\n",
       "      <td>2008.0</td>\n",
       "      <td>Action</td>\n",
       "      <td>Take-Two Interactive</td>\n",
       "      <td>6.76</td>\n",
       "      <td>3.10</td>\n",
       "      <td>0.14</td>\n",
       "      <td>1.03</td>\n",
       "      <td>11.02</td>\n",
       "    </tr>\n",
       "    <tr>\n",
       "      <th>56</th>\n",
       "      <td>57</td>\n",
       "      <td>Grand Theft Auto IV</td>\n",
       "      <td>PS3</td>\n",
       "      <td>2008.0</td>\n",
       "      <td>Action</td>\n",
       "      <td>Take-Two Interactive</td>\n",
       "      <td>4.76</td>\n",
       "      <td>3.76</td>\n",
       "      <td>0.44</td>\n",
       "      <td>1.62</td>\n",
       "      <td>10.57</td>\n",
       "    </tr>\n",
       "    <tr>\n",
       "      <th>90</th>\n",
       "      <td>91</td>\n",
       "      <td>Grand Theft Auto: Liberty City Stories</td>\n",
       "      <td>PSP</td>\n",
       "      <td>2005.0</td>\n",
       "      <td>Action</td>\n",
       "      <td>Take-Two Interactive</td>\n",
       "      <td>2.90</td>\n",
       "      <td>2.83</td>\n",
       "      <td>0.24</td>\n",
       "      <td>1.75</td>\n",
       "      <td>7.72</td>\n",
       "    </tr>\n",
       "    <tr>\n",
       "      <th>197</th>\n",
       "      <td>198</td>\n",
       "      <td>Grand Theft Auto V</td>\n",
       "      <td>XOne</td>\n",
       "      <td>2014.0</td>\n",
       "      <td>Action</td>\n",
       "      <td>Take-Two Interactive</td>\n",
       "      <td>2.66</td>\n",
       "      <td>2.01</td>\n",
       "      <td>0.00</td>\n",
       "      <td>0.41</td>\n",
       "      <td>5.08</td>\n",
       "    </tr>\n",
       "    <tr>\n",
       "      <th>198</th>\n",
       "      <td>199</td>\n",
       "      <td>Grand Theft Auto: Vice City Stories</td>\n",
       "      <td>PSP</td>\n",
       "      <td>2006.0</td>\n",
       "      <td>Action</td>\n",
       "      <td>Take-Two Interactive</td>\n",
       "      <td>1.70</td>\n",
       "      <td>2.02</td>\n",
       "      <td>0.16</td>\n",
       "      <td>1.21</td>\n",
       "      <td>5.08</td>\n",
       "    </tr>\n",
       "    <tr>\n",
       "      <th>360</th>\n",
       "      <td>361</td>\n",
       "      <td>Grand Theft Auto: Liberty City Stories</td>\n",
       "      <td>PS2</td>\n",
       "      <td>2006.0</td>\n",
       "      <td>Action</td>\n",
       "      <td>Take-Two Interactive</td>\n",
       "      <td>1.56</td>\n",
       "      <td>1.40</td>\n",
       "      <td>0.07</td>\n",
       "      <td>0.50</td>\n",
       "      <td>3.54</td>\n",
       "    </tr>\n",
       "    <tr>\n",
       "      <th>388</th>\n",
       "      <td>389</td>\n",
       "      <td>Grand Theft Auto 2</td>\n",
       "      <td>PS</td>\n",
       "      <td>1998.0</td>\n",
       "      <td>Action</td>\n",
       "      <td>Take-Two Interactive</td>\n",
       "      <td>1.13</td>\n",
       "      <td>2.07</td>\n",
       "      <td>0.00</td>\n",
       "      <td>0.22</td>\n",
       "      <td>3.42</td>\n",
       "    </tr>\n",
       "    <tr>\n",
       "      <th>684</th>\n",
       "      <td>686</td>\n",
       "      <td>Grand Theft Auto</td>\n",
       "      <td>PS</td>\n",
       "      <td>1997.0</td>\n",
       "      <td>Action</td>\n",
       "      <td>Take-Two Interactive</td>\n",
       "      <td>0.79</td>\n",
       "      <td>1.35</td>\n",
       "      <td>0.04</td>\n",
       "      <td>0.14</td>\n",
       "      <td>2.32</td>\n",
       "    </tr>\n",
       "    <tr>\n",
       "      <th>873</th>\n",
       "      <td>875</td>\n",
       "      <td>Grand Theft Auto: San Andreas</td>\n",
       "      <td>XB</td>\n",
       "      <td>2005.0</td>\n",
       "      <td>Action</td>\n",
       "      <td>Take-Two Interactive</td>\n",
       "      <td>1.26</td>\n",
       "      <td>0.61</td>\n",
       "      <td>0.00</td>\n",
       "      <td>0.09</td>\n",
       "      <td>1.95</td>\n",
       "    </tr>\n",
       "    <tr>\n",
       "      <th>1441</th>\n",
       "      <td>1443</td>\n",
       "      <td>Grand Theft Auto: Chinatown Wars</td>\n",
       "      <td>DS</td>\n",
       "      <td>2009.0</td>\n",
       "      <td>Action</td>\n",
       "      <td>Take-Two Interactive</td>\n",
       "      <td>0.59</td>\n",
       "      <td>0.57</td>\n",
       "      <td>0.05</td>\n",
       "      <td>0.14</td>\n",
       "      <td>1.35</td>\n",
       "    </tr>\n",
       "    <tr>\n",
       "      <th>1896</th>\n",
       "      <td>1898</td>\n",
       "      <td>Grand Theft Auto V</td>\n",
       "      <td>PC</td>\n",
       "      <td>2015.0</td>\n",
       "      <td>Action</td>\n",
       "      <td>Take-Two Interactive</td>\n",
       "      <td>0.36</td>\n",
       "      <td>0.64</td>\n",
       "      <td>0.00</td>\n",
       "      <td>0.08</td>\n",
       "      <td>1.08</td>\n",
       "    </tr>\n",
       "    <tr>\n",
       "      <th>1902</th>\n",
       "      <td>1904</td>\n",
       "      <td>Grand Theft Auto: Chinatown Wars</td>\n",
       "      <td>PSP</td>\n",
       "      <td>2009.0</td>\n",
       "      <td>Action</td>\n",
       "      <td>Take-Two Interactive</td>\n",
       "      <td>0.28</td>\n",
       "      <td>0.50</td>\n",
       "      <td>0.03</td>\n",
       "      <td>0.28</td>\n",
       "      <td>1.08</td>\n",
       "    </tr>\n",
       "    <tr>\n",
       "      <th>2120</th>\n",
       "      <td>2122</td>\n",
       "      <td>Grand Theft Auto: San Andreas</td>\n",
       "      <td>PC</td>\n",
       "      <td>2005.0</td>\n",
       "      <td>Action</td>\n",
       "      <td>Take-Two Interactive</td>\n",
       "      <td>0.00</td>\n",
       "      <td>0.92</td>\n",
       "      <td>0.00</td>\n",
       "      <td>0.05</td>\n",
       "      <td>0.98</td>\n",
       "    </tr>\n",
       "    <tr>\n",
       "      <th>2138</th>\n",
       "      <td>2140</td>\n",
       "      <td>Grand Theft Auto: Vice City Stories</td>\n",
       "      <td>PS2</td>\n",
       "      <td>2007.0</td>\n",
       "      <td>Action</td>\n",
       "      <td>Take-Two Interactive</td>\n",
       "      <td>0.78</td>\n",
       "      <td>0.03</td>\n",
       "      <td>0.03</td>\n",
       "      <td>0.13</td>\n",
       "      <td>0.97</td>\n",
       "    </tr>\n",
       "    <tr>\n",
       "      <th>2357</th>\n",
       "      <td>2359</td>\n",
       "      <td>Grand Theft Auto IV</td>\n",
       "      <td>PC</td>\n",
       "      <td>2008.0</td>\n",
       "      <td>Action</td>\n",
       "      <td>Take-Two Interactive</td>\n",
       "      <td>0.01</td>\n",
       "      <td>0.79</td>\n",
       "      <td>0.00</td>\n",
       "      <td>0.08</td>\n",
       "      <td>0.88</td>\n",
       "    </tr>\n",
       "    <tr>\n",
       "      <th>6905</th>\n",
       "      <td>6907</td>\n",
       "      <td>Grand Theft Auto</td>\n",
       "      <td>GBA</td>\n",
       "      <td>2004.0</td>\n",
       "      <td>Action</td>\n",
       "      <td>Take-Two Interactive</td>\n",
       "      <td>0.17</td>\n",
       "      <td>0.06</td>\n",
       "      <td>0.00</td>\n",
       "      <td>0.00</td>\n",
       "      <td>0.24</td>\n",
       "    </tr>\n",
       "    <tr>\n",
       "      <th>9827</th>\n",
       "      <td>9829</td>\n",
       "      <td>Grand Theft Auto: San Andreas</td>\n",
       "      <td>X360</td>\n",
       "      <td>2008.0</td>\n",
       "      <td>Action</td>\n",
       "      <td>Take-Two Interactive</td>\n",
       "      <td>0.08</td>\n",
       "      <td>0.03</td>\n",
       "      <td>0.00</td>\n",
       "      <td>0.01</td>\n",
       "      <td>0.12</td>\n",
       "    </tr>\n",
       "    <tr>\n",
       "      <th>10379</th>\n",
       "      <td>10381</td>\n",
       "      <td>Grand Theft Auto: Mission Pack #1, London 1969</td>\n",
       "      <td>PS</td>\n",
       "      <td>1998.0</td>\n",
       "      <td>Adventure</td>\n",
       "      <td>Take-Two Interactive</td>\n",
       "      <td>0.06</td>\n",
       "      <td>0.04</td>\n",
       "      <td>0.00</td>\n",
       "      <td>0.01</td>\n",
       "      <td>0.11</td>\n",
       "    </tr>\n",
       "    <tr>\n",
       "      <th>13732</th>\n",
       "      <td>13734</td>\n",
       "      <td>Grand Theft Auto: Vice City</td>\n",
       "      <td>PC</td>\n",
       "      <td>2003.0</td>\n",
       "      <td>Action</td>\n",
       "      <td>Take-Two Interactive</td>\n",
       "      <td>0.00</td>\n",
       "      <td>0.03</td>\n",
       "      <td>0.00</td>\n",
       "      <td>0.01</td>\n",
       "      <td>0.04</td>\n",
       "    </tr>\n",
       "    <tr>\n",
       "      <th>16093</th>\n",
       "      <td>16096</td>\n",
       "      <td>Grand Theft Auto III</td>\n",
       "      <td>PC</td>\n",
       "      <td>2002.0</td>\n",
       "      <td>Action</td>\n",
       "      <td>Take-Two Interactive</td>\n",
       "      <td>0.00</td>\n",
       "      <td>0.01</td>\n",
       "      <td>0.00</td>\n",
       "      <td>0.00</td>\n",
       "      <td>0.01</td>\n",
       "    </tr>\n",
       "  </tbody>\n",
       "</table>\n",
       "</div>"
      ],
      "text/plain": [
       "        Rank                                            Name Platform    Year  \\\n",
       "16        17                              Grand Theft Auto V      PS3  2013.0   \n",
       "17        18                   Grand Theft Auto: San Andreas      PS2  2004.0   \n",
       "23        24                              Grand Theft Auto V     X360  2013.0   \n",
       "24        25                     Grand Theft Auto: Vice City      PS2  2002.0   \n",
       "38        39                            Grand Theft Auto III      PS2  2001.0   \n",
       "44        45                              Grand Theft Auto V      PS4  2014.0   \n",
       "51        52                             Grand Theft Auto IV     X360  2008.0   \n",
       "56        57                             Grand Theft Auto IV      PS3  2008.0   \n",
       "90        91          Grand Theft Auto: Liberty City Stories      PSP  2005.0   \n",
       "197      198                              Grand Theft Auto V     XOne  2014.0   \n",
       "198      199             Grand Theft Auto: Vice City Stories      PSP  2006.0   \n",
       "360      361          Grand Theft Auto: Liberty City Stories      PS2  2006.0   \n",
       "388      389                              Grand Theft Auto 2       PS  1998.0   \n",
       "684      686                                Grand Theft Auto       PS  1997.0   \n",
       "873      875                   Grand Theft Auto: San Andreas       XB  2005.0   \n",
       "1441    1443                Grand Theft Auto: Chinatown Wars       DS  2009.0   \n",
       "1896    1898                              Grand Theft Auto V       PC  2015.0   \n",
       "1902    1904                Grand Theft Auto: Chinatown Wars      PSP  2009.0   \n",
       "2120    2122                   Grand Theft Auto: San Andreas       PC  2005.0   \n",
       "2138    2140             Grand Theft Auto: Vice City Stories      PS2  2007.0   \n",
       "2357    2359                             Grand Theft Auto IV       PC  2008.0   \n",
       "6905    6907                                Grand Theft Auto      GBA  2004.0   \n",
       "9827    9829                   Grand Theft Auto: San Andreas     X360  2008.0   \n",
       "10379  10381  Grand Theft Auto: Mission Pack #1, London 1969       PS  1998.0   \n",
       "13732  13734                     Grand Theft Auto: Vice City       PC  2003.0   \n",
       "16093  16096                            Grand Theft Auto III       PC  2002.0   \n",
       "\n",
       "           Genre             Publisher  NA_Sales  EU_Sales  JP_Sales  \\\n",
       "16        Action  Take-Two Interactive      7.01      9.27      0.97   \n",
       "17        Action  Take-Two Interactive      9.43      0.40      0.41   \n",
       "23        Action  Take-Two Interactive      9.63      5.31      0.06   \n",
       "24        Action  Take-Two Interactive      8.41      5.49      0.47   \n",
       "38        Action  Take-Two Interactive      6.99      4.51      0.30   \n",
       "44        Action  Take-Two Interactive      3.80      5.81      0.36   \n",
       "51        Action  Take-Two Interactive      6.76      3.10      0.14   \n",
       "56        Action  Take-Two Interactive      4.76      3.76      0.44   \n",
       "90        Action  Take-Two Interactive      2.90      2.83      0.24   \n",
       "197       Action  Take-Two Interactive      2.66      2.01      0.00   \n",
       "198       Action  Take-Two Interactive      1.70      2.02      0.16   \n",
       "360       Action  Take-Two Interactive      1.56      1.40      0.07   \n",
       "388       Action  Take-Two Interactive      1.13      2.07      0.00   \n",
       "684       Action  Take-Two Interactive      0.79      1.35      0.04   \n",
       "873       Action  Take-Two Interactive      1.26      0.61      0.00   \n",
       "1441      Action  Take-Two Interactive      0.59      0.57      0.05   \n",
       "1896      Action  Take-Two Interactive      0.36      0.64      0.00   \n",
       "1902      Action  Take-Two Interactive      0.28      0.50      0.03   \n",
       "2120      Action  Take-Two Interactive      0.00      0.92      0.00   \n",
       "2138      Action  Take-Two Interactive      0.78      0.03      0.03   \n",
       "2357      Action  Take-Two Interactive      0.01      0.79      0.00   \n",
       "6905      Action  Take-Two Interactive      0.17      0.06      0.00   \n",
       "9827      Action  Take-Two Interactive      0.08      0.03      0.00   \n",
       "10379  Adventure  Take-Two Interactive      0.06      0.04      0.00   \n",
       "13732     Action  Take-Two Interactive      0.00      0.03      0.00   \n",
       "16093     Action  Take-Two Interactive      0.00      0.01      0.00   \n",
       "\n",
       "       Other_Sales  Global_Sales  \n",
       "16            4.14         21.40  \n",
       "17           10.57         20.81  \n",
       "23            1.38         16.38  \n",
       "24            1.78         16.15  \n",
       "38            1.30         13.10  \n",
       "44            2.02         11.98  \n",
       "51            1.03         11.02  \n",
       "56            1.62         10.57  \n",
       "90            1.75          7.72  \n",
       "197           0.41          5.08  \n",
       "198           1.21          5.08  \n",
       "360           0.50          3.54  \n",
       "388           0.22          3.42  \n",
       "684           0.14          2.32  \n",
       "873           0.09          1.95  \n",
       "1441          0.14          1.35  \n",
       "1896          0.08          1.08  \n",
       "1902          0.28          1.08  \n",
       "2120          0.05          0.98  \n",
       "2138          0.13          0.97  \n",
       "2357          0.08          0.88  \n",
       "6905          0.00          0.24  \n",
       "9827          0.01          0.12  \n",
       "10379         0.01          0.11  \n",
       "13732         0.01          0.04  \n",
       "16093         0.00          0.01  "
      ]
     },
     "execution_count": 4,
     "metadata": {},
     "output_type": "execute_result"
    }
   ],
   "source": [
    "GTA = games[games[\"Name\"].str.match(\"Grand Theft Auto\") == True]\n",
    "GTA"
   ]
  },
  {
   "cell_type": "code",
   "execution_count": 12,
   "metadata": {},
   "outputs": [
    {
     "data": {
      "application/vnd.plotly.v1+json": {
       "config": {
        "plotlyServerURL": "https://plot.ly"
       },
       "data": [
        {
         "customdata": [
          [
           "Grand Theft Auto"
          ],
          [
           "Grand Theft Auto"
          ]
         ],
         "hovertemplate": "Name=%{customdata[0]}<br>Global_Sales=%{marker.size}<br>Year=%{y}<extra></extra>",
         "legendgroup": "Grand Theft Auto",
         "marker": {
          "color": "#636efa",
          "size": [
           2.32,
           0.24
          ],
          "sizemode": "area",
          "sizeref": 0.09445,
          "symbol": "circle"
         },
         "mode": "markers",
         "name": "Grand Theft Auto",
         "orientation": "v",
         "showlegend": true,
         "type": "scatter",
         "x": [
          2.32,
          0.24
         ],
         "xaxis": "x",
         "y": [
          1997,
          2004
         ],
         "yaxis": "y"
        },
        {
         "customdata": [
          [
           "Grand Theft Auto 2"
          ]
         ],
         "hovertemplate": "Name=%{customdata[0]}<br>Global_Sales=%{marker.size}<br>Year=%{y}<extra></extra>",
         "legendgroup": "Grand Theft Auto 2",
         "marker": {
          "color": "#EF553B",
          "size": [
           3.42
          ],
          "sizemode": "area",
          "sizeref": 0.09445,
          "symbol": "circle"
         },
         "mode": "markers",
         "name": "Grand Theft Auto 2",
         "orientation": "v",
         "showlegend": true,
         "type": "scatter",
         "x": [
          3.42
         ],
         "xaxis": "x",
         "y": [
          1998
         ],
         "yaxis": "y"
        },
        {
         "customdata": [
          [
           "Grand Theft Auto III"
          ],
          [
           "Grand Theft Auto III"
          ]
         ],
         "hovertemplate": "Name=%{customdata[0]}<br>Global_Sales=%{marker.size}<br>Year=%{y}<extra></extra>",
         "legendgroup": "Grand Theft Auto III",
         "marker": {
          "color": "#00cc96",
          "size": [
           13.1,
           0.01
          ],
          "sizemode": "area",
          "sizeref": 0.09445,
          "symbol": "circle"
         },
         "mode": "markers",
         "name": "Grand Theft Auto III",
         "orientation": "v",
         "showlegend": true,
         "type": "scatter",
         "x": [
          13.1,
          0.01
         ],
         "xaxis": "x",
         "y": [
          2001,
          2002
         ],
         "yaxis": "y"
        },
        {
         "customdata": [
          [
           "Grand Theft Auto IV"
          ]
         ],
         "hovertemplate": "Name=%{customdata[0]}<br>Global_Sales=%{marker.size}<br>Year=%{y}<extra></extra>",
         "legendgroup": "Grand Theft Auto IV",
         "marker": {
          "color": "#ab63fa",
          "size": [
           22.47
          ],
          "sizemode": "area",
          "sizeref": 0.09445,
          "symbol": "circle"
         },
         "mode": "markers",
         "name": "Grand Theft Auto IV",
         "orientation": "v",
         "showlegend": true,
         "type": "scatter",
         "x": [
          22.47
         ],
         "xaxis": "x",
         "y": [
          2008
         ],
         "yaxis": "y"
        },
        {
         "customdata": [
          [
           "Grand Theft Auto V"
          ],
          [
           "Grand Theft Auto V"
          ],
          [
           "Grand Theft Auto V"
          ]
         ],
         "hovertemplate": "Name=%{customdata[0]}<br>Global_Sales=%{marker.size}<br>Year=%{y}<extra></extra>",
         "legendgroup": "Grand Theft Auto V",
         "marker": {
          "color": "#FFA15A",
          "size": [
           37.78,
           17.060000000000002,
           1.08
          ],
          "sizemode": "area",
          "sizeref": 0.09445,
          "symbol": "circle"
         },
         "mode": "markers",
         "name": "Grand Theft Auto V",
         "orientation": "v",
         "showlegend": true,
         "type": "scatter",
         "x": [
          37.78,
          17.060000000000002,
          1.08
         ],
         "xaxis": "x",
         "y": [
          2013,
          2014,
          2015
         ],
         "yaxis": "y"
        },
        {
         "customdata": [
          [
           "Grand Theft Auto: Chinatown Wars"
          ]
         ],
         "hovertemplate": "Name=%{customdata[0]}<br>Global_Sales=%{marker.size}<br>Year=%{y}<extra></extra>",
         "legendgroup": "Grand Theft Auto: Chinatown Wars",
         "marker": {
          "color": "#19d3f3",
          "size": [
           2.43
          ],
          "sizemode": "area",
          "sizeref": 0.09445,
          "symbol": "circle"
         },
         "mode": "markers",
         "name": "Grand Theft Auto: Chinatown Wars",
         "orientation": "v",
         "showlegend": true,
         "type": "scatter",
         "x": [
          2.43
         ],
         "xaxis": "x",
         "y": [
          2009
         ],
         "yaxis": "y"
        },
        {
         "customdata": [
          [
           "Grand Theft Auto: Liberty City Stories"
          ],
          [
           "Grand Theft Auto: Liberty City Stories"
          ]
         ],
         "hovertemplate": "Name=%{customdata[0]}<br>Global_Sales=%{marker.size}<br>Year=%{y}<extra></extra>",
         "legendgroup": "Grand Theft Auto: Liberty City Stories",
         "marker": {
          "color": "#FF6692",
          "size": [
           7.72,
           3.54
          ],
          "sizemode": "area",
          "sizeref": 0.09445,
          "symbol": "circle"
         },
         "mode": "markers",
         "name": "Grand Theft Auto: Liberty City Stories",
         "orientation": "v",
         "showlegend": true,
         "type": "scatter",
         "x": [
          7.72,
          3.54
         ],
         "xaxis": "x",
         "y": [
          2005,
          2006
         ],
         "yaxis": "y"
        },
        {
         "customdata": [
          [
           "Grand Theft Auto: Mission Pack #1, London 1969"
          ]
         ],
         "hovertemplate": "Name=%{customdata[0]}<br>Global_Sales=%{marker.size}<br>Year=%{y}<extra></extra>",
         "legendgroup": "Grand Theft Auto: Mission Pack #1, London 1969",
         "marker": {
          "color": "#B6E880",
          "size": [
           0.11
          ],
          "sizemode": "area",
          "sizeref": 0.09445,
          "symbol": "circle"
         },
         "mode": "markers",
         "name": "Grand Theft Auto: Mission Pack #1, London 1969",
         "orientation": "v",
         "showlegend": true,
         "type": "scatter",
         "x": [
          0.11
         ],
         "xaxis": "x",
         "y": [
          1998
         ],
         "yaxis": "y"
        },
        {
         "customdata": [
          [
           "Grand Theft Auto: San Andreas"
          ],
          [
           "Grand Theft Auto: San Andreas"
          ],
          [
           "Grand Theft Auto: San Andreas"
          ]
         ],
         "hovertemplate": "Name=%{customdata[0]}<br>Global_Sales=%{marker.size}<br>Year=%{y}<extra></extra>",
         "legendgroup": "Grand Theft Auto: San Andreas",
         "marker": {
          "color": "#FF97FF",
          "size": [
           20.81,
           2.9299999999999997,
           0.12
          ],
          "sizemode": "area",
          "sizeref": 0.09445,
          "symbol": "circle"
         },
         "mode": "markers",
         "name": "Grand Theft Auto: San Andreas",
         "orientation": "v",
         "showlegend": true,
         "type": "scatter",
         "x": [
          20.81,
          2.9299999999999997,
          0.12
         ],
         "xaxis": "x",
         "y": [
          2004,
          2005,
          2008
         ],
         "yaxis": "y"
        },
        {
         "customdata": [
          [
           "Grand Theft Auto: Vice City"
          ],
          [
           "Grand Theft Auto: Vice City"
          ]
         ],
         "hovertemplate": "Name=%{customdata[0]}<br>Global_Sales=%{marker.size}<br>Year=%{y}<extra></extra>",
         "legendgroup": "Grand Theft Auto: Vice City",
         "marker": {
          "color": "#FECB52",
          "size": [
           16.15,
           0.04
          ],
          "sizemode": "area",
          "sizeref": 0.09445,
          "symbol": "circle"
         },
         "mode": "markers",
         "name": "Grand Theft Auto: Vice City",
         "orientation": "v",
         "showlegend": true,
         "type": "scatter",
         "x": [
          16.15,
          0.04
         ],
         "xaxis": "x",
         "y": [
          2002,
          2003
         ],
         "yaxis": "y"
        },
        {
         "customdata": [
          [
           "Grand Theft Auto: Vice City Stories"
          ],
          [
           "Grand Theft Auto: Vice City Stories"
          ]
         ],
         "hovertemplate": "Name=%{customdata[0]}<br>Global_Sales=%{marker.size}<br>Year=%{y}<extra></extra>",
         "legendgroup": "Grand Theft Auto: Vice City Stories",
         "marker": {
          "color": "#636efa",
          "size": [
           5.08,
           0.97
          ],
          "sizemode": "area",
          "sizeref": 0.09445,
          "symbol": "circle"
         },
         "mode": "markers",
         "name": "Grand Theft Auto: Vice City Stories",
         "orientation": "v",
         "showlegend": true,
         "type": "scatter",
         "x": [
          5.08,
          0.97
         ],
         "xaxis": "x",
         "y": [
          2006,
          2007
         ],
         "yaxis": "y"
        }
       ],
       "layout": {
        "legend": {
         "itemsizing": "constant",
         "title": {
          "text": "Name"
         },
         "tracegroupgap": 0
        },
        "template": {
         "data": {
          "bar": [
           {
            "error_x": {
             "color": "#2a3f5f"
            },
            "error_y": {
             "color": "#2a3f5f"
            },
            "marker": {
             "line": {
              "color": "#E5ECF6",
              "width": 0.5
             }
            },
            "type": "bar"
           }
          ],
          "barpolar": [
           {
            "marker": {
             "line": {
              "color": "#E5ECF6",
              "width": 0.5
             }
            },
            "type": "barpolar"
           }
          ],
          "carpet": [
           {
            "aaxis": {
             "endlinecolor": "#2a3f5f",
             "gridcolor": "white",
             "linecolor": "white",
             "minorgridcolor": "white",
             "startlinecolor": "#2a3f5f"
            },
            "baxis": {
             "endlinecolor": "#2a3f5f",
             "gridcolor": "white",
             "linecolor": "white",
             "minorgridcolor": "white",
             "startlinecolor": "#2a3f5f"
            },
            "type": "carpet"
           }
          ],
          "choropleth": [
           {
            "colorbar": {
             "outlinewidth": 0,
             "ticks": ""
            },
            "type": "choropleth"
           }
          ],
          "contour": [
           {
            "colorbar": {
             "outlinewidth": 0,
             "ticks": ""
            },
            "colorscale": [
             [
              0,
              "#0d0887"
             ],
             [
              0.1111111111111111,
              "#46039f"
             ],
             [
              0.2222222222222222,
              "#7201a8"
             ],
             [
              0.3333333333333333,
              "#9c179e"
             ],
             [
              0.4444444444444444,
              "#bd3786"
             ],
             [
              0.5555555555555556,
              "#d8576b"
             ],
             [
              0.6666666666666666,
              "#ed7953"
             ],
             [
              0.7777777777777778,
              "#fb9f3a"
             ],
             [
              0.8888888888888888,
              "#fdca26"
             ],
             [
              1,
              "#f0f921"
             ]
            ],
            "type": "contour"
           }
          ],
          "contourcarpet": [
           {
            "colorbar": {
             "outlinewidth": 0,
             "ticks": ""
            },
            "type": "contourcarpet"
           }
          ],
          "heatmap": [
           {
            "colorbar": {
             "outlinewidth": 0,
             "ticks": ""
            },
            "colorscale": [
             [
              0,
              "#0d0887"
             ],
             [
              0.1111111111111111,
              "#46039f"
             ],
             [
              0.2222222222222222,
              "#7201a8"
             ],
             [
              0.3333333333333333,
              "#9c179e"
             ],
             [
              0.4444444444444444,
              "#bd3786"
             ],
             [
              0.5555555555555556,
              "#d8576b"
             ],
             [
              0.6666666666666666,
              "#ed7953"
             ],
             [
              0.7777777777777778,
              "#fb9f3a"
             ],
             [
              0.8888888888888888,
              "#fdca26"
             ],
             [
              1,
              "#f0f921"
             ]
            ],
            "type": "heatmap"
           }
          ],
          "heatmapgl": [
           {
            "colorbar": {
             "outlinewidth": 0,
             "ticks": ""
            },
            "colorscale": [
             [
              0,
              "#0d0887"
             ],
             [
              0.1111111111111111,
              "#46039f"
             ],
             [
              0.2222222222222222,
              "#7201a8"
             ],
             [
              0.3333333333333333,
              "#9c179e"
             ],
             [
              0.4444444444444444,
              "#bd3786"
             ],
             [
              0.5555555555555556,
              "#d8576b"
             ],
             [
              0.6666666666666666,
              "#ed7953"
             ],
             [
              0.7777777777777778,
              "#fb9f3a"
             ],
             [
              0.8888888888888888,
              "#fdca26"
             ],
             [
              1,
              "#f0f921"
             ]
            ],
            "type": "heatmapgl"
           }
          ],
          "histogram": [
           {
            "marker": {
             "colorbar": {
              "outlinewidth": 0,
              "ticks": ""
             }
            },
            "type": "histogram"
           }
          ],
          "histogram2d": [
           {
            "colorbar": {
             "outlinewidth": 0,
             "ticks": ""
            },
            "colorscale": [
             [
              0,
              "#0d0887"
             ],
             [
              0.1111111111111111,
              "#46039f"
             ],
             [
              0.2222222222222222,
              "#7201a8"
             ],
             [
              0.3333333333333333,
              "#9c179e"
             ],
             [
              0.4444444444444444,
              "#bd3786"
             ],
             [
              0.5555555555555556,
              "#d8576b"
             ],
             [
              0.6666666666666666,
              "#ed7953"
             ],
             [
              0.7777777777777778,
              "#fb9f3a"
             ],
             [
              0.8888888888888888,
              "#fdca26"
             ],
             [
              1,
              "#f0f921"
             ]
            ],
            "type": "histogram2d"
           }
          ],
          "histogram2dcontour": [
           {
            "colorbar": {
             "outlinewidth": 0,
             "ticks": ""
            },
            "colorscale": [
             [
              0,
              "#0d0887"
             ],
             [
              0.1111111111111111,
              "#46039f"
             ],
             [
              0.2222222222222222,
              "#7201a8"
             ],
             [
              0.3333333333333333,
              "#9c179e"
             ],
             [
              0.4444444444444444,
              "#bd3786"
             ],
             [
              0.5555555555555556,
              "#d8576b"
             ],
             [
              0.6666666666666666,
              "#ed7953"
             ],
             [
              0.7777777777777778,
              "#fb9f3a"
             ],
             [
              0.8888888888888888,
              "#fdca26"
             ],
             [
              1,
              "#f0f921"
             ]
            ],
            "type": "histogram2dcontour"
           }
          ],
          "mesh3d": [
           {
            "colorbar": {
             "outlinewidth": 0,
             "ticks": ""
            },
            "type": "mesh3d"
           }
          ],
          "parcoords": [
           {
            "line": {
             "colorbar": {
              "outlinewidth": 0,
              "ticks": ""
             }
            },
            "type": "parcoords"
           }
          ],
          "pie": [
           {
            "automargin": true,
            "type": "pie"
           }
          ],
          "scatter": [
           {
            "marker": {
             "colorbar": {
              "outlinewidth": 0,
              "ticks": ""
             }
            },
            "type": "scatter"
           }
          ],
          "scatter3d": [
           {
            "line": {
             "colorbar": {
              "outlinewidth": 0,
              "ticks": ""
             }
            },
            "marker": {
             "colorbar": {
              "outlinewidth": 0,
              "ticks": ""
             }
            },
            "type": "scatter3d"
           }
          ],
          "scattercarpet": [
           {
            "marker": {
             "colorbar": {
              "outlinewidth": 0,
              "ticks": ""
             }
            },
            "type": "scattercarpet"
           }
          ],
          "scattergeo": [
           {
            "marker": {
             "colorbar": {
              "outlinewidth": 0,
              "ticks": ""
             }
            },
            "type": "scattergeo"
           }
          ],
          "scattergl": [
           {
            "marker": {
             "colorbar": {
              "outlinewidth": 0,
              "ticks": ""
             }
            },
            "type": "scattergl"
           }
          ],
          "scattermapbox": [
           {
            "marker": {
             "colorbar": {
              "outlinewidth": 0,
              "ticks": ""
             }
            },
            "type": "scattermapbox"
           }
          ],
          "scatterpolar": [
           {
            "marker": {
             "colorbar": {
              "outlinewidth": 0,
              "ticks": ""
             }
            },
            "type": "scatterpolar"
           }
          ],
          "scatterpolargl": [
           {
            "marker": {
             "colorbar": {
              "outlinewidth": 0,
              "ticks": ""
             }
            },
            "type": "scatterpolargl"
           }
          ],
          "scatterternary": [
           {
            "marker": {
             "colorbar": {
              "outlinewidth": 0,
              "ticks": ""
             }
            },
            "type": "scatterternary"
           }
          ],
          "surface": [
           {
            "colorbar": {
             "outlinewidth": 0,
             "ticks": ""
            },
            "colorscale": [
             [
              0,
              "#0d0887"
             ],
             [
              0.1111111111111111,
              "#46039f"
             ],
             [
              0.2222222222222222,
              "#7201a8"
             ],
             [
              0.3333333333333333,
              "#9c179e"
             ],
             [
              0.4444444444444444,
              "#bd3786"
             ],
             [
              0.5555555555555556,
              "#d8576b"
             ],
             [
              0.6666666666666666,
              "#ed7953"
             ],
             [
              0.7777777777777778,
              "#fb9f3a"
             ],
             [
              0.8888888888888888,
              "#fdca26"
             ],
             [
              1,
              "#f0f921"
             ]
            ],
            "type": "surface"
           }
          ],
          "table": [
           {
            "cells": {
             "fill": {
              "color": "#EBF0F8"
             },
             "line": {
              "color": "white"
             }
            },
            "header": {
             "fill": {
              "color": "#C8D4E3"
             },
             "line": {
              "color": "white"
             }
            },
            "type": "table"
           }
          ]
         },
         "layout": {
          "annotationdefaults": {
           "arrowcolor": "#2a3f5f",
           "arrowhead": 0,
           "arrowwidth": 1
          },
          "autotypenumbers": "strict",
          "coloraxis": {
           "colorbar": {
            "outlinewidth": 0,
            "ticks": ""
           }
          },
          "colorscale": {
           "diverging": [
            [
             0,
             "#8e0152"
            ],
            [
             0.1,
             "#c51b7d"
            ],
            [
             0.2,
             "#de77ae"
            ],
            [
             0.3,
             "#f1b6da"
            ],
            [
             0.4,
             "#fde0ef"
            ],
            [
             0.5,
             "#f7f7f7"
            ],
            [
             0.6,
             "#e6f5d0"
            ],
            [
             0.7,
             "#b8e186"
            ],
            [
             0.8,
             "#7fbc41"
            ],
            [
             0.9,
             "#4d9221"
            ],
            [
             1,
             "#276419"
            ]
           ],
           "sequential": [
            [
             0,
             "#0d0887"
            ],
            [
             0.1111111111111111,
             "#46039f"
            ],
            [
             0.2222222222222222,
             "#7201a8"
            ],
            [
             0.3333333333333333,
             "#9c179e"
            ],
            [
             0.4444444444444444,
             "#bd3786"
            ],
            [
             0.5555555555555556,
             "#d8576b"
            ],
            [
             0.6666666666666666,
             "#ed7953"
            ],
            [
             0.7777777777777778,
             "#fb9f3a"
            ],
            [
             0.8888888888888888,
             "#fdca26"
            ],
            [
             1,
             "#f0f921"
            ]
           ],
           "sequentialminus": [
            [
             0,
             "#0d0887"
            ],
            [
             0.1111111111111111,
             "#46039f"
            ],
            [
             0.2222222222222222,
             "#7201a8"
            ],
            [
             0.3333333333333333,
             "#9c179e"
            ],
            [
             0.4444444444444444,
             "#bd3786"
            ],
            [
             0.5555555555555556,
             "#d8576b"
            ],
            [
             0.6666666666666666,
             "#ed7953"
            ],
            [
             0.7777777777777778,
             "#fb9f3a"
            ],
            [
             0.8888888888888888,
             "#fdca26"
            ],
            [
             1,
             "#f0f921"
            ]
           ]
          },
          "colorway": [
           "#636efa",
           "#EF553B",
           "#00cc96",
           "#ab63fa",
           "#FFA15A",
           "#19d3f3",
           "#FF6692",
           "#B6E880",
           "#FF97FF",
           "#FECB52"
          ],
          "font": {
           "color": "#2a3f5f"
          },
          "geo": {
           "bgcolor": "white",
           "lakecolor": "white",
           "landcolor": "#E5ECF6",
           "showlakes": true,
           "showland": true,
           "subunitcolor": "white"
          },
          "hoverlabel": {
           "align": "left"
          },
          "hovermode": "closest",
          "mapbox": {
           "style": "light"
          },
          "paper_bgcolor": "white",
          "plot_bgcolor": "#E5ECF6",
          "polar": {
           "angularaxis": {
            "gridcolor": "white",
            "linecolor": "white",
            "ticks": ""
           },
           "bgcolor": "#E5ECF6",
           "radialaxis": {
            "gridcolor": "white",
            "linecolor": "white",
            "ticks": ""
           }
          },
          "scene": {
           "xaxis": {
            "backgroundcolor": "#E5ECF6",
            "gridcolor": "white",
            "gridwidth": 2,
            "linecolor": "white",
            "showbackground": true,
            "ticks": "",
            "zerolinecolor": "white"
           },
           "yaxis": {
            "backgroundcolor": "#E5ECF6",
            "gridcolor": "white",
            "gridwidth": 2,
            "linecolor": "white",
            "showbackground": true,
            "ticks": "",
            "zerolinecolor": "white"
           },
           "zaxis": {
            "backgroundcolor": "#E5ECF6",
            "gridcolor": "white",
            "gridwidth": 2,
            "linecolor": "white",
            "showbackground": true,
            "ticks": "",
            "zerolinecolor": "white"
           }
          },
          "shapedefaults": {
           "line": {
            "color": "#2a3f5f"
           }
          },
          "ternary": {
           "aaxis": {
            "gridcolor": "white",
            "linecolor": "white",
            "ticks": ""
           },
           "baxis": {
            "gridcolor": "white",
            "linecolor": "white",
            "ticks": ""
           },
           "bgcolor": "#E5ECF6",
           "caxis": {
            "gridcolor": "white",
            "linecolor": "white",
            "ticks": ""
           }
          },
          "title": {
           "x": 0.05
          },
          "xaxis": {
           "automargin": true,
           "gridcolor": "white",
           "linecolor": "white",
           "ticks": "",
           "title": {
            "standoff": 15
           },
           "zerolinecolor": "white",
           "zerolinewidth": 2
          },
          "yaxis": {
           "automargin": true,
           "gridcolor": "white",
           "linecolor": "white",
           "ticks": "",
           "title": {
            "standoff": 15
           },
           "zerolinecolor": "white",
           "zerolinewidth": 2
          }
         }
        },
        "title": {
         "text": "Year Wise Grand Theft Auto (GTA) Series"
        },
        "xaxis": {
         "anchor": "y",
         "domain": [
          0,
          1
         ],
         "title": {
          "text": "Global_Sales"
         }
        },
        "yaxis": {
         "anchor": "x",
         "domain": [
          0,
          1
         ],
         "title": {
          "text": "Year"
         }
        }
       }
      },
      "text/html": [
       "<div>                            <div id=\"37b80aac-dec7-45e0-b6ad-5942b4005d49\" class=\"plotly-graph-div\" style=\"height:525px; width:100%;\"></div>            <script type=\"text/javascript\">                require([\"plotly\"], function(Plotly) {                    window.PLOTLYENV=window.PLOTLYENV || {};                                    if (document.getElementById(\"37b80aac-dec7-45e0-b6ad-5942b4005d49\")) {                    Plotly.newPlot(                        \"37b80aac-dec7-45e0-b6ad-5942b4005d49\",                        [{\"customdata\": [[\"Grand Theft Auto\"], [\"Grand Theft Auto\"]], \"hovertemplate\": \"Name=%{customdata[0]}<br>Global_Sales=%{marker.size}<br>Year=%{y}<extra></extra>\", \"legendgroup\": \"Grand Theft Auto\", \"marker\": {\"color\": \"#636efa\", \"size\": [2.32, 0.24], \"sizemode\": \"area\", \"sizeref\": 0.09445, \"symbol\": \"circle\"}, \"mode\": \"markers\", \"name\": \"Grand Theft Auto\", \"orientation\": \"v\", \"showlegend\": true, \"type\": \"scatter\", \"x\": [2.32, 0.24], \"xaxis\": \"x\", \"y\": [1997.0, 2004.0], \"yaxis\": \"y\"}, {\"customdata\": [[\"Grand Theft Auto 2\"]], \"hovertemplate\": \"Name=%{customdata[0]}<br>Global_Sales=%{marker.size}<br>Year=%{y}<extra></extra>\", \"legendgroup\": \"Grand Theft Auto 2\", \"marker\": {\"color\": \"#EF553B\", \"size\": [3.42], \"sizemode\": \"area\", \"sizeref\": 0.09445, \"symbol\": \"circle\"}, \"mode\": \"markers\", \"name\": \"Grand Theft Auto 2\", \"orientation\": \"v\", \"showlegend\": true, \"type\": \"scatter\", \"x\": [3.42], \"xaxis\": \"x\", \"y\": [1998.0], \"yaxis\": \"y\"}, {\"customdata\": [[\"Grand Theft Auto III\"], [\"Grand Theft Auto III\"]], \"hovertemplate\": \"Name=%{customdata[0]}<br>Global_Sales=%{marker.size}<br>Year=%{y}<extra></extra>\", \"legendgroup\": \"Grand Theft Auto III\", \"marker\": {\"color\": \"#00cc96\", \"size\": [13.1, 0.01], \"sizemode\": \"area\", \"sizeref\": 0.09445, \"symbol\": \"circle\"}, \"mode\": \"markers\", \"name\": \"Grand Theft Auto III\", \"orientation\": \"v\", \"showlegend\": true, \"type\": \"scatter\", \"x\": [13.1, 0.01], \"xaxis\": \"x\", \"y\": [2001.0, 2002.0], \"yaxis\": \"y\"}, {\"customdata\": [[\"Grand Theft Auto IV\"]], \"hovertemplate\": \"Name=%{customdata[0]}<br>Global_Sales=%{marker.size}<br>Year=%{y}<extra></extra>\", \"legendgroup\": \"Grand Theft Auto IV\", \"marker\": {\"color\": \"#ab63fa\", \"size\": [22.47], \"sizemode\": \"area\", \"sizeref\": 0.09445, \"symbol\": \"circle\"}, \"mode\": \"markers\", \"name\": \"Grand Theft Auto IV\", \"orientation\": \"v\", \"showlegend\": true, \"type\": \"scatter\", \"x\": [22.47], \"xaxis\": \"x\", \"y\": [2008.0], \"yaxis\": \"y\"}, {\"customdata\": [[\"Grand Theft Auto V\"], [\"Grand Theft Auto V\"], [\"Grand Theft Auto V\"]], \"hovertemplate\": \"Name=%{customdata[0]}<br>Global_Sales=%{marker.size}<br>Year=%{y}<extra></extra>\", \"legendgroup\": \"Grand Theft Auto V\", \"marker\": {\"color\": \"#FFA15A\", \"size\": [37.78, 17.060000000000002, 1.08], \"sizemode\": \"area\", \"sizeref\": 0.09445, \"symbol\": \"circle\"}, \"mode\": \"markers\", \"name\": \"Grand Theft Auto V\", \"orientation\": \"v\", \"showlegend\": true, \"type\": \"scatter\", \"x\": [37.78, 17.060000000000002, 1.08], \"xaxis\": \"x\", \"y\": [2013.0, 2014.0, 2015.0], \"yaxis\": \"y\"}, {\"customdata\": [[\"Grand Theft Auto: Chinatown Wars\"]], \"hovertemplate\": \"Name=%{customdata[0]}<br>Global_Sales=%{marker.size}<br>Year=%{y}<extra></extra>\", \"legendgroup\": \"Grand Theft Auto: Chinatown Wars\", \"marker\": {\"color\": \"#19d3f3\", \"size\": [2.43], \"sizemode\": \"area\", \"sizeref\": 0.09445, \"symbol\": \"circle\"}, \"mode\": \"markers\", \"name\": \"Grand Theft Auto: Chinatown Wars\", \"orientation\": \"v\", \"showlegend\": true, \"type\": \"scatter\", \"x\": [2.43], \"xaxis\": \"x\", \"y\": [2009.0], \"yaxis\": \"y\"}, {\"customdata\": [[\"Grand Theft Auto: Liberty City Stories\"], [\"Grand Theft Auto: Liberty City Stories\"]], \"hovertemplate\": \"Name=%{customdata[0]}<br>Global_Sales=%{marker.size}<br>Year=%{y}<extra></extra>\", \"legendgroup\": \"Grand Theft Auto: Liberty City Stories\", \"marker\": {\"color\": \"#FF6692\", \"size\": [7.72, 3.54], \"sizemode\": \"area\", \"sizeref\": 0.09445, \"symbol\": \"circle\"}, \"mode\": \"markers\", \"name\": \"Grand Theft Auto: Liberty City Stories\", \"orientation\": \"v\", \"showlegend\": true, \"type\": \"scatter\", \"x\": [7.72, 3.54], \"xaxis\": \"x\", \"y\": [2005.0, 2006.0], \"yaxis\": \"y\"}, {\"customdata\": [[\"Grand Theft Auto: Mission Pack #1, London 1969\"]], \"hovertemplate\": \"Name=%{customdata[0]}<br>Global_Sales=%{marker.size}<br>Year=%{y}<extra></extra>\", \"legendgroup\": \"Grand Theft Auto: Mission Pack #1, London 1969\", \"marker\": {\"color\": \"#B6E880\", \"size\": [0.11], \"sizemode\": \"area\", \"sizeref\": 0.09445, \"symbol\": \"circle\"}, \"mode\": \"markers\", \"name\": \"Grand Theft Auto: Mission Pack #1, London 1969\", \"orientation\": \"v\", \"showlegend\": true, \"type\": \"scatter\", \"x\": [0.11], \"xaxis\": \"x\", \"y\": [1998.0], \"yaxis\": \"y\"}, {\"customdata\": [[\"Grand Theft Auto: San Andreas\"], [\"Grand Theft Auto: San Andreas\"], [\"Grand Theft Auto: San Andreas\"]], \"hovertemplate\": \"Name=%{customdata[0]}<br>Global_Sales=%{marker.size}<br>Year=%{y}<extra></extra>\", \"legendgroup\": \"Grand Theft Auto: San Andreas\", \"marker\": {\"color\": \"#FF97FF\", \"size\": [20.81, 2.9299999999999997, 0.12], \"sizemode\": \"area\", \"sizeref\": 0.09445, \"symbol\": \"circle\"}, \"mode\": \"markers\", \"name\": \"Grand Theft Auto: San Andreas\", \"orientation\": \"v\", \"showlegend\": true, \"type\": \"scatter\", \"x\": [20.81, 2.9299999999999997, 0.12], \"xaxis\": \"x\", \"y\": [2004.0, 2005.0, 2008.0], \"yaxis\": \"y\"}, {\"customdata\": [[\"Grand Theft Auto: Vice City\"], [\"Grand Theft Auto: Vice City\"]], \"hovertemplate\": \"Name=%{customdata[0]}<br>Global_Sales=%{marker.size}<br>Year=%{y}<extra></extra>\", \"legendgroup\": \"Grand Theft Auto: Vice City\", \"marker\": {\"color\": \"#FECB52\", \"size\": [16.15, 0.04], \"sizemode\": \"area\", \"sizeref\": 0.09445, \"symbol\": \"circle\"}, \"mode\": \"markers\", \"name\": \"Grand Theft Auto: Vice City\", \"orientation\": \"v\", \"showlegend\": true, \"type\": \"scatter\", \"x\": [16.15, 0.04], \"xaxis\": \"x\", \"y\": [2002.0, 2003.0], \"yaxis\": \"y\"}, {\"customdata\": [[\"Grand Theft Auto: Vice City Stories\"], [\"Grand Theft Auto: Vice City Stories\"]], \"hovertemplate\": \"Name=%{customdata[0]}<br>Global_Sales=%{marker.size}<br>Year=%{y}<extra></extra>\", \"legendgroup\": \"Grand Theft Auto: Vice City Stories\", \"marker\": {\"color\": \"#636efa\", \"size\": [5.08, 0.97], \"sizemode\": \"area\", \"sizeref\": 0.09445, \"symbol\": \"circle\"}, \"mode\": \"markers\", \"name\": \"Grand Theft Auto: Vice City Stories\", \"orientation\": \"v\", \"showlegend\": true, \"type\": \"scatter\", \"x\": [5.08, 0.97], \"xaxis\": \"x\", \"y\": [2006.0, 2007.0], \"yaxis\": \"y\"}],                        {\"legend\": {\"itemsizing\": \"constant\", \"title\": {\"text\": \"Name\"}, \"tracegroupgap\": 0}, \"template\": {\"data\": {\"bar\": [{\"error_x\": {\"color\": \"#2a3f5f\"}, \"error_y\": {\"color\": \"#2a3f5f\"}, \"marker\": {\"line\": {\"color\": \"#E5ECF6\", \"width\": 0.5}}, \"type\": \"bar\"}], \"barpolar\": [{\"marker\": {\"line\": {\"color\": \"#E5ECF6\", \"width\": 0.5}}, \"type\": \"barpolar\"}], \"carpet\": [{\"aaxis\": {\"endlinecolor\": \"#2a3f5f\", \"gridcolor\": \"white\", \"linecolor\": \"white\", \"minorgridcolor\": \"white\", \"startlinecolor\": \"#2a3f5f\"}, \"baxis\": {\"endlinecolor\": \"#2a3f5f\", \"gridcolor\": \"white\", \"linecolor\": \"white\", \"minorgridcolor\": \"white\", \"startlinecolor\": \"#2a3f5f\"}, \"type\": \"carpet\"}], \"choropleth\": [{\"colorbar\": {\"outlinewidth\": 0, \"ticks\": \"\"}, \"type\": \"choropleth\"}], \"contour\": [{\"colorbar\": {\"outlinewidth\": 0, \"ticks\": \"\"}, \"colorscale\": [[0.0, \"#0d0887\"], [0.1111111111111111, \"#46039f\"], [0.2222222222222222, \"#7201a8\"], [0.3333333333333333, \"#9c179e\"], [0.4444444444444444, \"#bd3786\"], [0.5555555555555556, \"#d8576b\"], [0.6666666666666666, \"#ed7953\"], [0.7777777777777778, \"#fb9f3a\"], [0.8888888888888888, \"#fdca26\"], [1.0, \"#f0f921\"]], \"type\": \"contour\"}], \"contourcarpet\": [{\"colorbar\": {\"outlinewidth\": 0, \"ticks\": \"\"}, \"type\": \"contourcarpet\"}], \"heatmap\": [{\"colorbar\": {\"outlinewidth\": 0, \"ticks\": \"\"}, \"colorscale\": [[0.0, \"#0d0887\"], [0.1111111111111111, \"#46039f\"], [0.2222222222222222, \"#7201a8\"], [0.3333333333333333, \"#9c179e\"], [0.4444444444444444, \"#bd3786\"], [0.5555555555555556, \"#d8576b\"], [0.6666666666666666, \"#ed7953\"], [0.7777777777777778, \"#fb9f3a\"], [0.8888888888888888, \"#fdca26\"], [1.0, \"#f0f921\"]], \"type\": \"heatmap\"}], \"heatmapgl\": [{\"colorbar\": {\"outlinewidth\": 0, \"ticks\": \"\"}, \"colorscale\": [[0.0, \"#0d0887\"], [0.1111111111111111, \"#46039f\"], [0.2222222222222222, \"#7201a8\"], [0.3333333333333333, \"#9c179e\"], [0.4444444444444444, \"#bd3786\"], [0.5555555555555556, \"#d8576b\"], [0.6666666666666666, \"#ed7953\"], [0.7777777777777778, \"#fb9f3a\"], [0.8888888888888888, \"#fdca26\"], [1.0, \"#f0f921\"]], \"type\": \"heatmapgl\"}], \"histogram\": [{\"marker\": {\"colorbar\": {\"outlinewidth\": 0, \"ticks\": \"\"}}, \"type\": \"histogram\"}], \"histogram2d\": [{\"colorbar\": {\"outlinewidth\": 0, \"ticks\": \"\"}, \"colorscale\": [[0.0, \"#0d0887\"], [0.1111111111111111, \"#46039f\"], [0.2222222222222222, \"#7201a8\"], [0.3333333333333333, \"#9c179e\"], [0.4444444444444444, \"#bd3786\"], [0.5555555555555556, \"#d8576b\"], [0.6666666666666666, \"#ed7953\"], [0.7777777777777778, \"#fb9f3a\"], [0.8888888888888888, \"#fdca26\"], [1.0, \"#f0f921\"]], \"type\": \"histogram2d\"}], \"histogram2dcontour\": [{\"colorbar\": {\"outlinewidth\": 0, \"ticks\": \"\"}, \"colorscale\": [[0.0, \"#0d0887\"], [0.1111111111111111, \"#46039f\"], [0.2222222222222222, \"#7201a8\"], [0.3333333333333333, \"#9c179e\"], [0.4444444444444444, \"#bd3786\"], [0.5555555555555556, \"#d8576b\"], [0.6666666666666666, \"#ed7953\"], [0.7777777777777778, \"#fb9f3a\"], [0.8888888888888888, \"#fdca26\"], [1.0, \"#f0f921\"]], \"type\": \"histogram2dcontour\"}], \"mesh3d\": [{\"colorbar\": {\"outlinewidth\": 0, \"ticks\": \"\"}, \"type\": \"mesh3d\"}], \"parcoords\": [{\"line\": {\"colorbar\": {\"outlinewidth\": 0, \"ticks\": \"\"}}, \"type\": \"parcoords\"}], \"pie\": [{\"automargin\": true, \"type\": \"pie\"}], \"scatter\": [{\"marker\": {\"colorbar\": {\"outlinewidth\": 0, \"ticks\": \"\"}}, \"type\": \"scatter\"}], \"scatter3d\": [{\"line\": {\"colorbar\": {\"outlinewidth\": 0, \"ticks\": \"\"}}, \"marker\": {\"colorbar\": {\"outlinewidth\": 0, \"ticks\": \"\"}}, \"type\": \"scatter3d\"}], \"scattercarpet\": [{\"marker\": {\"colorbar\": {\"outlinewidth\": 0, \"ticks\": \"\"}}, \"type\": \"scattercarpet\"}], \"scattergeo\": [{\"marker\": {\"colorbar\": {\"outlinewidth\": 0, \"ticks\": \"\"}}, \"type\": \"scattergeo\"}], \"scattergl\": [{\"marker\": {\"colorbar\": {\"outlinewidth\": 0, \"ticks\": \"\"}}, \"type\": \"scattergl\"}], \"scattermapbox\": [{\"marker\": {\"colorbar\": {\"outlinewidth\": 0, \"ticks\": \"\"}}, \"type\": \"scattermapbox\"}], \"scatterpolar\": [{\"marker\": {\"colorbar\": {\"outlinewidth\": 0, \"ticks\": \"\"}}, \"type\": \"scatterpolar\"}], \"scatterpolargl\": [{\"marker\": {\"colorbar\": {\"outlinewidth\": 0, \"ticks\": \"\"}}, \"type\": \"scatterpolargl\"}], \"scatterternary\": [{\"marker\": {\"colorbar\": {\"outlinewidth\": 0, \"ticks\": \"\"}}, \"type\": \"scatterternary\"}], \"surface\": [{\"colorbar\": {\"outlinewidth\": 0, \"ticks\": \"\"}, \"colorscale\": [[0.0, \"#0d0887\"], [0.1111111111111111, \"#46039f\"], [0.2222222222222222, \"#7201a8\"], [0.3333333333333333, \"#9c179e\"], [0.4444444444444444, \"#bd3786\"], [0.5555555555555556, \"#d8576b\"], [0.6666666666666666, \"#ed7953\"], [0.7777777777777778, \"#fb9f3a\"], [0.8888888888888888, \"#fdca26\"], [1.0, \"#f0f921\"]], \"type\": \"surface\"}], \"table\": [{\"cells\": {\"fill\": {\"color\": \"#EBF0F8\"}, \"line\": {\"color\": \"white\"}}, \"header\": {\"fill\": {\"color\": \"#C8D4E3\"}, \"line\": {\"color\": \"white\"}}, \"type\": \"table\"}]}, \"layout\": {\"annotationdefaults\": {\"arrowcolor\": \"#2a3f5f\", \"arrowhead\": 0, \"arrowwidth\": 1}, \"autotypenumbers\": \"strict\", \"coloraxis\": {\"colorbar\": {\"outlinewidth\": 0, \"ticks\": \"\"}}, \"colorscale\": {\"diverging\": [[0, \"#8e0152\"], [0.1, \"#c51b7d\"], [0.2, \"#de77ae\"], [0.3, \"#f1b6da\"], [0.4, \"#fde0ef\"], [0.5, \"#f7f7f7\"], [0.6, \"#e6f5d0\"], [0.7, \"#b8e186\"], [0.8, \"#7fbc41\"], [0.9, \"#4d9221\"], [1, \"#276419\"]], \"sequential\": [[0.0, \"#0d0887\"], [0.1111111111111111, \"#46039f\"], [0.2222222222222222, \"#7201a8\"], [0.3333333333333333, \"#9c179e\"], [0.4444444444444444, \"#bd3786\"], [0.5555555555555556, \"#d8576b\"], [0.6666666666666666, \"#ed7953\"], [0.7777777777777778, \"#fb9f3a\"], [0.8888888888888888, \"#fdca26\"], [1.0, \"#f0f921\"]], \"sequentialminus\": [[0.0, \"#0d0887\"], [0.1111111111111111, \"#46039f\"], [0.2222222222222222, \"#7201a8\"], [0.3333333333333333, \"#9c179e\"], [0.4444444444444444, \"#bd3786\"], [0.5555555555555556, \"#d8576b\"], [0.6666666666666666, \"#ed7953\"], [0.7777777777777778, \"#fb9f3a\"], [0.8888888888888888, \"#fdca26\"], [1.0, \"#f0f921\"]]}, \"colorway\": [\"#636efa\", \"#EF553B\", \"#00cc96\", \"#ab63fa\", \"#FFA15A\", \"#19d3f3\", \"#FF6692\", \"#B6E880\", \"#FF97FF\", \"#FECB52\"], \"font\": {\"color\": \"#2a3f5f\"}, \"geo\": {\"bgcolor\": \"white\", \"lakecolor\": \"white\", \"landcolor\": \"#E5ECF6\", \"showlakes\": true, \"showland\": true, \"subunitcolor\": \"white\"}, \"hoverlabel\": {\"align\": \"left\"}, \"hovermode\": \"closest\", \"mapbox\": {\"style\": \"light\"}, \"paper_bgcolor\": \"white\", \"plot_bgcolor\": \"#E5ECF6\", \"polar\": {\"angularaxis\": {\"gridcolor\": \"white\", \"linecolor\": \"white\", \"ticks\": \"\"}, \"bgcolor\": \"#E5ECF6\", \"radialaxis\": {\"gridcolor\": \"white\", \"linecolor\": \"white\", \"ticks\": \"\"}}, \"scene\": {\"xaxis\": {\"backgroundcolor\": \"#E5ECF6\", \"gridcolor\": \"white\", \"gridwidth\": 2, \"linecolor\": \"white\", \"showbackground\": true, \"ticks\": \"\", \"zerolinecolor\": \"white\"}, \"yaxis\": {\"backgroundcolor\": \"#E5ECF6\", \"gridcolor\": \"white\", \"gridwidth\": 2, \"linecolor\": \"white\", \"showbackground\": true, \"ticks\": \"\", \"zerolinecolor\": \"white\"}, \"zaxis\": {\"backgroundcolor\": \"#E5ECF6\", \"gridcolor\": \"white\", \"gridwidth\": 2, \"linecolor\": \"white\", \"showbackground\": true, \"ticks\": \"\", \"zerolinecolor\": \"white\"}}, \"shapedefaults\": {\"line\": {\"color\": \"#2a3f5f\"}}, \"ternary\": {\"aaxis\": {\"gridcolor\": \"white\", \"linecolor\": \"white\", \"ticks\": \"\"}, \"baxis\": {\"gridcolor\": \"white\", \"linecolor\": \"white\", \"ticks\": \"\"}, \"bgcolor\": \"#E5ECF6\", \"caxis\": {\"gridcolor\": \"white\", \"linecolor\": \"white\", \"ticks\": \"\"}}, \"title\": {\"x\": 0.05}, \"xaxis\": {\"automargin\": true, \"gridcolor\": \"white\", \"linecolor\": \"white\", \"ticks\": \"\", \"title\": {\"standoff\": 15}, \"zerolinecolor\": \"white\", \"zerolinewidth\": 2}, \"yaxis\": {\"automargin\": true, \"gridcolor\": \"white\", \"linecolor\": \"white\", \"ticks\": \"\", \"title\": {\"standoff\": 15}, \"zerolinecolor\": \"white\", \"zerolinewidth\": 2}}}, \"title\": {\"text\": \"Year Wise Grand Theft Auto (GTA) Series\"}, \"xaxis\": {\"anchor\": \"y\", \"domain\": [0.0, 1.0], \"title\": {\"text\": \"Global_Sales\"}}, \"yaxis\": {\"anchor\": \"x\", \"domain\": [0.0, 1.0], \"title\": {\"text\": \"Year\"}}},                        {\"responsive\": true}                    ).then(function(){\n",
       "                            \n",
       "var gd = document.getElementById('37b80aac-dec7-45e0-b6ad-5942b4005d49');\n",
       "var x = new MutationObserver(function (mutations, observer) {{\n",
       "        var display = window.getComputedStyle(gd).display;\n",
       "        if (!display || display === 'none') {{\n",
       "            console.log([gd, 'removed!']);\n",
       "            Plotly.purge(gd);\n",
       "            observer.disconnect();\n",
       "        }}\n",
       "}});\n",
       "\n",
       "// Listen for the removal of the full notebook cells\n",
       "var notebookContainer = gd.closest('#notebook-container');\n",
       "if (notebookContainer) {{\n",
       "    x.observe(notebookContainer, {childList: true});\n",
       "}}\n",
       "\n",
       "// Listen for the clearing of the current output cell\n",
       "var outputEl = gd.closest('.output');\n",
       "if (outputEl) {{\n",
       "    x.observe(outputEl, {childList: true});\n",
       "}}\n",
       "\n",
       "                        })                };                });            </script>        </div>"
      ]
     },
     "metadata": {},
     "output_type": "display_data"
    }
   ],
   "source": [
    "gta_sales_inyears = GTA.groupby(['Name','Year'], as_index=False)['Global_Sales'].sum()\n",
    "\n",
    "fig = px.scatter(gta_sales_inyears, x=\"Global_Sales\", y=\"Year\", color=\"Name\", size=\"Global_Sales\",\n",
    "                hover_data=[\"Name\"], title=\"Year Wise Grand Theft Auto (GTA) Series\",\n",
    "                labels={\"x\": \"Global_Sales\", \"y\": \"Year\"})\n",
    "fig.show()"
   ]
  },
  {
   "cell_type": "code",
   "execution_count": 7,
   "metadata": {},
   "outputs": [
    {
     "data": {
      "application/vnd.plotly.v1+json": {
       "config": {
        "plotlyServerURL": "https://plot.ly"
       },
       "data": [
        {
         "branchvalues": "total",
         "domain": {
          "x": [
           0,
           1
          ],
          "y": [
           0,
           1
          ]
         },
         "hovertemplate": "labels=%{label}<br>Global_Sales=%{value}<br>parent=%{parent}<br>id=%{id}<extra></extra>",
         "ids": [
          "Take-Two Interactive/Action/Grand Theft Auto",
          "Take-Two Interactive/Action/Grand Theft Auto 2",
          "Take-Two Interactive/Action/Grand Theft Auto III",
          "Take-Two Interactive/Action/Grand Theft Auto IV",
          "Take-Two Interactive/Action/Grand Theft Auto V",
          "Take-Two Interactive/Action/Grand Theft Auto: Chinatown Wars",
          "Take-Two Interactive/Action/Grand Theft Auto: Liberty City Stories",
          "Take-Two Interactive/Adventure/Grand Theft Auto: Mission Pack #1, London 1969",
          "Take-Two Interactive/Action/Grand Theft Auto: San Andreas",
          "Take-Two Interactive/Action/Grand Theft Auto: Vice City",
          "Take-Two Interactive/Action/Grand Theft Auto: Vice City Stories",
          "Take-Two Interactive/Action",
          "Take-Two Interactive/Adventure",
          "Take-Two Interactive"
         ],
         "labels": [
          "Grand Theft Auto",
          "Grand Theft Auto 2",
          "Grand Theft Auto III",
          "Grand Theft Auto IV",
          "Grand Theft Auto V",
          "Grand Theft Auto: Chinatown Wars",
          "Grand Theft Auto: Liberty City Stories",
          "Grand Theft Auto: Mission Pack #1, London 1969",
          "Grand Theft Auto: San Andreas",
          "Grand Theft Auto: Vice City",
          "Grand Theft Auto: Vice City Stories",
          "Action",
          "Adventure",
          "Take-Two Interactive"
         ],
         "name": "",
         "parents": [
          "Take-Two Interactive/Action",
          "Take-Two Interactive/Action",
          "Take-Two Interactive/Action",
          "Take-Two Interactive/Action",
          "Take-Two Interactive/Action",
          "Take-Two Interactive/Action",
          "Take-Two Interactive/Action",
          "Take-Two Interactive/Adventure",
          "Take-Two Interactive/Action",
          "Take-Two Interactive/Action",
          "Take-Two Interactive/Action",
          "Take-Two Interactive",
          "Take-Two Interactive",
          ""
         ],
         "type": "sunburst",
         "values": [
          2.5599999999999996,
          3.42,
          13.11,
          22.47,
          55.92,
          2.43,
          11.26,
          0.11,
          23.86,
          16.189999999999998,
          6.05,
          157.26999999999995,
          0.11,
          157.37999999999997
         ]
        }
       ],
       "layout": {
        "grid": {
         "columns": 2,
         "rows": 2
        },
        "legend": {
         "tracegroupgap": 0
        },
        "margin": {
         "b": 5,
         "l": 2,
         "r": 2,
         "t": 40
        },
        "template": {
         "data": {
          "bar": [
           {
            "error_x": {
             "color": "#2a3f5f"
            },
            "error_y": {
             "color": "#2a3f5f"
            },
            "marker": {
             "line": {
              "color": "#E5ECF6",
              "width": 0.5
             }
            },
            "type": "bar"
           }
          ],
          "barpolar": [
           {
            "marker": {
             "line": {
              "color": "#E5ECF6",
              "width": 0.5
             }
            },
            "type": "barpolar"
           }
          ],
          "carpet": [
           {
            "aaxis": {
             "endlinecolor": "#2a3f5f",
             "gridcolor": "white",
             "linecolor": "white",
             "minorgridcolor": "white",
             "startlinecolor": "#2a3f5f"
            },
            "baxis": {
             "endlinecolor": "#2a3f5f",
             "gridcolor": "white",
             "linecolor": "white",
             "minorgridcolor": "white",
             "startlinecolor": "#2a3f5f"
            },
            "type": "carpet"
           }
          ],
          "choropleth": [
           {
            "colorbar": {
             "outlinewidth": 0,
             "ticks": ""
            },
            "type": "choropleth"
           }
          ],
          "contour": [
           {
            "colorbar": {
             "outlinewidth": 0,
             "ticks": ""
            },
            "colorscale": [
             [
              0,
              "#0d0887"
             ],
             [
              0.1111111111111111,
              "#46039f"
             ],
             [
              0.2222222222222222,
              "#7201a8"
             ],
             [
              0.3333333333333333,
              "#9c179e"
             ],
             [
              0.4444444444444444,
              "#bd3786"
             ],
             [
              0.5555555555555556,
              "#d8576b"
             ],
             [
              0.6666666666666666,
              "#ed7953"
             ],
             [
              0.7777777777777778,
              "#fb9f3a"
             ],
             [
              0.8888888888888888,
              "#fdca26"
             ],
             [
              1,
              "#f0f921"
             ]
            ],
            "type": "contour"
           }
          ],
          "contourcarpet": [
           {
            "colorbar": {
             "outlinewidth": 0,
             "ticks": ""
            },
            "type": "contourcarpet"
           }
          ],
          "heatmap": [
           {
            "colorbar": {
             "outlinewidth": 0,
             "ticks": ""
            },
            "colorscale": [
             [
              0,
              "#0d0887"
             ],
             [
              0.1111111111111111,
              "#46039f"
             ],
             [
              0.2222222222222222,
              "#7201a8"
             ],
             [
              0.3333333333333333,
              "#9c179e"
             ],
             [
              0.4444444444444444,
              "#bd3786"
             ],
             [
              0.5555555555555556,
              "#d8576b"
             ],
             [
              0.6666666666666666,
              "#ed7953"
             ],
             [
              0.7777777777777778,
              "#fb9f3a"
             ],
             [
              0.8888888888888888,
              "#fdca26"
             ],
             [
              1,
              "#f0f921"
             ]
            ],
            "type": "heatmap"
           }
          ],
          "heatmapgl": [
           {
            "colorbar": {
             "outlinewidth": 0,
             "ticks": ""
            },
            "colorscale": [
             [
              0,
              "#0d0887"
             ],
             [
              0.1111111111111111,
              "#46039f"
             ],
             [
              0.2222222222222222,
              "#7201a8"
             ],
             [
              0.3333333333333333,
              "#9c179e"
             ],
             [
              0.4444444444444444,
              "#bd3786"
             ],
             [
              0.5555555555555556,
              "#d8576b"
             ],
             [
              0.6666666666666666,
              "#ed7953"
             ],
             [
              0.7777777777777778,
              "#fb9f3a"
             ],
             [
              0.8888888888888888,
              "#fdca26"
             ],
             [
              1,
              "#f0f921"
             ]
            ],
            "type": "heatmapgl"
           }
          ],
          "histogram": [
           {
            "marker": {
             "colorbar": {
              "outlinewidth": 0,
              "ticks": ""
             }
            },
            "type": "histogram"
           }
          ],
          "histogram2d": [
           {
            "colorbar": {
             "outlinewidth": 0,
             "ticks": ""
            },
            "colorscale": [
             [
              0,
              "#0d0887"
             ],
             [
              0.1111111111111111,
              "#46039f"
             ],
             [
              0.2222222222222222,
              "#7201a8"
             ],
             [
              0.3333333333333333,
              "#9c179e"
             ],
             [
              0.4444444444444444,
              "#bd3786"
             ],
             [
              0.5555555555555556,
              "#d8576b"
             ],
             [
              0.6666666666666666,
              "#ed7953"
             ],
             [
              0.7777777777777778,
              "#fb9f3a"
             ],
             [
              0.8888888888888888,
              "#fdca26"
             ],
             [
              1,
              "#f0f921"
             ]
            ],
            "type": "histogram2d"
           }
          ],
          "histogram2dcontour": [
           {
            "colorbar": {
             "outlinewidth": 0,
             "ticks": ""
            },
            "colorscale": [
             [
              0,
              "#0d0887"
             ],
             [
              0.1111111111111111,
              "#46039f"
             ],
             [
              0.2222222222222222,
              "#7201a8"
             ],
             [
              0.3333333333333333,
              "#9c179e"
             ],
             [
              0.4444444444444444,
              "#bd3786"
             ],
             [
              0.5555555555555556,
              "#d8576b"
             ],
             [
              0.6666666666666666,
              "#ed7953"
             ],
             [
              0.7777777777777778,
              "#fb9f3a"
             ],
             [
              0.8888888888888888,
              "#fdca26"
             ],
             [
              1,
              "#f0f921"
             ]
            ],
            "type": "histogram2dcontour"
           }
          ],
          "mesh3d": [
           {
            "colorbar": {
             "outlinewidth": 0,
             "ticks": ""
            },
            "type": "mesh3d"
           }
          ],
          "parcoords": [
           {
            "line": {
             "colorbar": {
              "outlinewidth": 0,
              "ticks": ""
             }
            },
            "type": "parcoords"
           }
          ],
          "pie": [
           {
            "automargin": true,
            "type": "pie"
           }
          ],
          "scatter": [
           {
            "marker": {
             "colorbar": {
              "outlinewidth": 0,
              "ticks": ""
             }
            },
            "type": "scatter"
           }
          ],
          "scatter3d": [
           {
            "line": {
             "colorbar": {
              "outlinewidth": 0,
              "ticks": ""
             }
            },
            "marker": {
             "colorbar": {
              "outlinewidth": 0,
              "ticks": ""
             }
            },
            "type": "scatter3d"
           }
          ],
          "scattercarpet": [
           {
            "marker": {
             "colorbar": {
              "outlinewidth": 0,
              "ticks": ""
             }
            },
            "type": "scattercarpet"
           }
          ],
          "scattergeo": [
           {
            "marker": {
             "colorbar": {
              "outlinewidth": 0,
              "ticks": ""
             }
            },
            "type": "scattergeo"
           }
          ],
          "scattergl": [
           {
            "marker": {
             "colorbar": {
              "outlinewidth": 0,
              "ticks": ""
             }
            },
            "type": "scattergl"
           }
          ],
          "scattermapbox": [
           {
            "marker": {
             "colorbar": {
              "outlinewidth": 0,
              "ticks": ""
             }
            },
            "type": "scattermapbox"
           }
          ],
          "scatterpolar": [
           {
            "marker": {
             "colorbar": {
              "outlinewidth": 0,
              "ticks": ""
             }
            },
            "type": "scatterpolar"
           }
          ],
          "scatterpolargl": [
           {
            "marker": {
             "colorbar": {
              "outlinewidth": 0,
              "ticks": ""
             }
            },
            "type": "scatterpolargl"
           }
          ],
          "scatterternary": [
           {
            "marker": {
             "colorbar": {
              "outlinewidth": 0,
              "ticks": ""
             }
            },
            "type": "scatterternary"
           }
          ],
          "surface": [
           {
            "colorbar": {
             "outlinewidth": 0,
             "ticks": ""
            },
            "colorscale": [
             [
              0,
              "#0d0887"
             ],
             [
              0.1111111111111111,
              "#46039f"
             ],
             [
              0.2222222222222222,
              "#7201a8"
             ],
             [
              0.3333333333333333,
              "#9c179e"
             ],
             [
              0.4444444444444444,
              "#bd3786"
             ],
             [
              0.5555555555555556,
              "#d8576b"
             ],
             [
              0.6666666666666666,
              "#ed7953"
             ],
             [
              0.7777777777777778,
              "#fb9f3a"
             ],
             [
              0.8888888888888888,
              "#fdca26"
             ],
             [
              1,
              "#f0f921"
             ]
            ],
            "type": "surface"
           }
          ],
          "table": [
           {
            "cells": {
             "fill": {
              "color": "#EBF0F8"
             },
             "line": {
              "color": "white"
             }
            },
            "header": {
             "fill": {
              "color": "#C8D4E3"
             },
             "line": {
              "color": "white"
             }
            },
            "type": "table"
           }
          ]
         },
         "layout": {
          "annotationdefaults": {
           "arrowcolor": "#2a3f5f",
           "arrowhead": 0,
           "arrowwidth": 1
          },
          "autotypenumbers": "strict",
          "coloraxis": {
           "colorbar": {
            "outlinewidth": 0,
            "ticks": ""
           }
          },
          "colorscale": {
           "diverging": [
            [
             0,
             "#8e0152"
            ],
            [
             0.1,
             "#c51b7d"
            ],
            [
             0.2,
             "#de77ae"
            ],
            [
             0.3,
             "#f1b6da"
            ],
            [
             0.4,
             "#fde0ef"
            ],
            [
             0.5,
             "#f7f7f7"
            ],
            [
             0.6,
             "#e6f5d0"
            ],
            [
             0.7,
             "#b8e186"
            ],
            [
             0.8,
             "#7fbc41"
            ],
            [
             0.9,
             "#4d9221"
            ],
            [
             1,
             "#276419"
            ]
           ],
           "sequential": [
            [
             0,
             "#0d0887"
            ],
            [
             0.1111111111111111,
             "#46039f"
            ],
            [
             0.2222222222222222,
             "#7201a8"
            ],
            [
             0.3333333333333333,
             "#9c179e"
            ],
            [
             0.4444444444444444,
             "#bd3786"
            ],
            [
             0.5555555555555556,
             "#d8576b"
            ],
            [
             0.6666666666666666,
             "#ed7953"
            ],
            [
             0.7777777777777778,
             "#fb9f3a"
            ],
            [
             0.8888888888888888,
             "#fdca26"
            ],
            [
             1,
             "#f0f921"
            ]
           ],
           "sequentialminus": [
            [
             0,
             "#0d0887"
            ],
            [
             0.1111111111111111,
             "#46039f"
            ],
            [
             0.2222222222222222,
             "#7201a8"
            ],
            [
             0.3333333333333333,
             "#9c179e"
            ],
            [
             0.4444444444444444,
             "#bd3786"
            ],
            [
             0.5555555555555556,
             "#d8576b"
            ],
            [
             0.6666666666666666,
             "#ed7953"
            ],
            [
             0.7777777777777778,
             "#fb9f3a"
            ],
            [
             0.8888888888888888,
             "#fdca26"
            ],
            [
             1,
             "#f0f921"
            ]
           ]
          },
          "colorway": [
           "#636efa",
           "#EF553B",
           "#00cc96",
           "#ab63fa",
           "#FFA15A",
           "#19d3f3",
           "#FF6692",
           "#B6E880",
           "#FF97FF",
           "#FECB52"
          ],
          "font": {
           "color": "#2a3f5f"
          },
          "geo": {
           "bgcolor": "white",
           "lakecolor": "white",
           "landcolor": "#E5ECF6",
           "showlakes": true,
           "showland": true,
           "subunitcolor": "white"
          },
          "hoverlabel": {
           "align": "left"
          },
          "hovermode": "closest",
          "mapbox": {
           "style": "light"
          },
          "paper_bgcolor": "white",
          "plot_bgcolor": "#E5ECF6",
          "polar": {
           "angularaxis": {
            "gridcolor": "white",
            "linecolor": "white",
            "ticks": ""
           },
           "bgcolor": "#E5ECF6",
           "radialaxis": {
            "gridcolor": "white",
            "linecolor": "white",
            "ticks": ""
           }
          },
          "scene": {
           "xaxis": {
            "backgroundcolor": "#E5ECF6",
            "gridcolor": "white",
            "gridwidth": 2,
            "linecolor": "white",
            "showbackground": true,
            "ticks": "",
            "zerolinecolor": "white"
           },
           "yaxis": {
            "backgroundcolor": "#E5ECF6",
            "gridcolor": "white",
            "gridwidth": 2,
            "linecolor": "white",
            "showbackground": true,
            "ticks": "",
            "zerolinecolor": "white"
           },
           "zaxis": {
            "backgroundcolor": "#E5ECF6",
            "gridcolor": "white",
            "gridwidth": 2,
            "linecolor": "white",
            "showbackground": true,
            "ticks": "",
            "zerolinecolor": "white"
           }
          },
          "shapedefaults": {
           "line": {
            "color": "#2a3f5f"
           }
          },
          "ternary": {
           "aaxis": {
            "gridcolor": "white",
            "linecolor": "white",
            "ticks": ""
           },
           "baxis": {
            "gridcolor": "white",
            "linecolor": "white",
            "ticks": ""
           },
           "bgcolor": "#E5ECF6",
           "caxis": {
            "gridcolor": "white",
            "linecolor": "white",
            "ticks": ""
           }
          },
          "title": {
           "x": 0.05
          },
          "xaxis": {
           "automargin": true,
           "gridcolor": "white",
           "linecolor": "white",
           "ticks": "",
           "title": {
            "standoff": 15
           },
           "zerolinecolor": "white",
           "zerolinewidth": 2
          },
          "yaxis": {
           "automargin": true,
           "gridcolor": "white",
           "linecolor": "white",
           "ticks": "",
           "title": {
            "standoff": 15
           },
           "zerolinecolor": "white",
           "zerolinewidth": 2
          }
         }
        },
        "title": {
         "text": "Grand Theft Auto (GTA) Series Sales Chart"
        }
       }
      },
      "text/html": [
       "<div>                            <div id=\"a101bf54-2188-4c1f-8d2f-2fe8346e8dfa\" class=\"plotly-graph-div\" style=\"height:525px; width:100%;\"></div>            <script type=\"text/javascript\">                require([\"plotly\"], function(Plotly) {                    window.PLOTLYENV=window.PLOTLYENV || {};                                    if (document.getElementById(\"a101bf54-2188-4c1f-8d2f-2fe8346e8dfa\")) {                    Plotly.newPlot(                        \"a101bf54-2188-4c1f-8d2f-2fe8346e8dfa\",                        [{\"branchvalues\": \"total\", \"domain\": {\"x\": [0.0, 1.0], \"y\": [0.0, 1.0]}, \"hovertemplate\": \"labels=%{label}<br>Global_Sales=%{value}<br>parent=%{parent}<br>id=%{id}<extra></extra>\", \"ids\": [\"Take-Two Interactive/Action/Grand Theft Auto\", \"Take-Two Interactive/Action/Grand Theft Auto 2\", \"Take-Two Interactive/Action/Grand Theft Auto III\", \"Take-Two Interactive/Action/Grand Theft Auto IV\", \"Take-Two Interactive/Action/Grand Theft Auto V\", \"Take-Two Interactive/Action/Grand Theft Auto: Chinatown Wars\", \"Take-Two Interactive/Action/Grand Theft Auto: Liberty City Stories\", \"Take-Two Interactive/Adventure/Grand Theft Auto: Mission Pack #1, London 1969\", \"Take-Two Interactive/Action/Grand Theft Auto: San Andreas\", \"Take-Two Interactive/Action/Grand Theft Auto: Vice City\", \"Take-Two Interactive/Action/Grand Theft Auto: Vice City Stories\", \"Take-Two Interactive/Action\", \"Take-Two Interactive/Adventure\", \"Take-Two Interactive\"], \"labels\": [\"Grand Theft Auto\", \"Grand Theft Auto 2\", \"Grand Theft Auto III\", \"Grand Theft Auto IV\", \"Grand Theft Auto V\", \"Grand Theft Auto: Chinatown Wars\", \"Grand Theft Auto: Liberty City Stories\", \"Grand Theft Auto: Mission Pack #1, London 1969\", \"Grand Theft Auto: San Andreas\", \"Grand Theft Auto: Vice City\", \"Grand Theft Auto: Vice City Stories\", \"Action\", \"Adventure\", \"Take-Two Interactive\"], \"name\": \"\", \"parents\": [\"Take-Two Interactive/Action\", \"Take-Two Interactive/Action\", \"Take-Two Interactive/Action\", \"Take-Two Interactive/Action\", \"Take-Two Interactive/Action\", \"Take-Two Interactive/Action\", \"Take-Two Interactive/Action\", \"Take-Two Interactive/Adventure\", \"Take-Two Interactive/Action\", \"Take-Two Interactive/Action\", \"Take-Two Interactive/Action\", \"Take-Two Interactive\", \"Take-Two Interactive\", \"\"], \"type\": \"sunburst\", \"values\": [2.5599999999999996, 3.42, 13.11, 22.47, 55.92, 2.43, 11.26, 0.11, 23.86, 16.189999999999998, 6.05, 157.26999999999995, 0.11, 157.37999999999997]}],                        {\"grid\": {\"columns\": 2, \"rows\": 2}, \"legend\": {\"tracegroupgap\": 0}, \"margin\": {\"b\": 5, \"l\": 2, \"r\": 2, \"t\": 40}, \"template\": {\"data\": {\"bar\": [{\"error_x\": {\"color\": \"#2a3f5f\"}, \"error_y\": {\"color\": \"#2a3f5f\"}, \"marker\": {\"line\": {\"color\": \"#E5ECF6\", \"width\": 0.5}}, \"type\": \"bar\"}], \"barpolar\": [{\"marker\": {\"line\": {\"color\": \"#E5ECF6\", \"width\": 0.5}}, \"type\": \"barpolar\"}], \"carpet\": [{\"aaxis\": {\"endlinecolor\": \"#2a3f5f\", \"gridcolor\": \"white\", \"linecolor\": \"white\", \"minorgridcolor\": \"white\", \"startlinecolor\": \"#2a3f5f\"}, \"baxis\": {\"endlinecolor\": \"#2a3f5f\", \"gridcolor\": \"white\", \"linecolor\": \"white\", \"minorgridcolor\": \"white\", \"startlinecolor\": \"#2a3f5f\"}, \"type\": \"carpet\"}], \"choropleth\": [{\"colorbar\": {\"outlinewidth\": 0, \"ticks\": \"\"}, \"type\": \"choropleth\"}], \"contour\": [{\"colorbar\": {\"outlinewidth\": 0, \"ticks\": \"\"}, \"colorscale\": [[0.0, \"#0d0887\"], [0.1111111111111111, \"#46039f\"], [0.2222222222222222, \"#7201a8\"], [0.3333333333333333, \"#9c179e\"], [0.4444444444444444, \"#bd3786\"], [0.5555555555555556, \"#d8576b\"], [0.6666666666666666, \"#ed7953\"], [0.7777777777777778, \"#fb9f3a\"], [0.8888888888888888, \"#fdca26\"], [1.0, \"#f0f921\"]], \"type\": \"contour\"}], \"contourcarpet\": [{\"colorbar\": {\"outlinewidth\": 0, \"ticks\": \"\"}, \"type\": \"contourcarpet\"}], \"heatmap\": [{\"colorbar\": {\"outlinewidth\": 0, \"ticks\": \"\"}, \"colorscale\": [[0.0, \"#0d0887\"], [0.1111111111111111, \"#46039f\"], [0.2222222222222222, \"#7201a8\"], [0.3333333333333333, \"#9c179e\"], [0.4444444444444444, \"#bd3786\"], [0.5555555555555556, \"#d8576b\"], [0.6666666666666666, \"#ed7953\"], [0.7777777777777778, \"#fb9f3a\"], [0.8888888888888888, \"#fdca26\"], [1.0, \"#f0f921\"]], \"type\": \"heatmap\"}], \"heatmapgl\": [{\"colorbar\": {\"outlinewidth\": 0, \"ticks\": \"\"}, \"colorscale\": [[0.0, \"#0d0887\"], [0.1111111111111111, \"#46039f\"], [0.2222222222222222, \"#7201a8\"], [0.3333333333333333, \"#9c179e\"], [0.4444444444444444, \"#bd3786\"], [0.5555555555555556, \"#d8576b\"], [0.6666666666666666, \"#ed7953\"], [0.7777777777777778, \"#fb9f3a\"], [0.8888888888888888, \"#fdca26\"], [1.0, \"#f0f921\"]], \"type\": \"heatmapgl\"}], \"histogram\": [{\"marker\": {\"colorbar\": {\"outlinewidth\": 0, \"ticks\": \"\"}}, \"type\": \"histogram\"}], \"histogram2d\": [{\"colorbar\": {\"outlinewidth\": 0, \"ticks\": \"\"}, \"colorscale\": [[0.0, \"#0d0887\"], [0.1111111111111111, \"#46039f\"], [0.2222222222222222, \"#7201a8\"], [0.3333333333333333, \"#9c179e\"], [0.4444444444444444, \"#bd3786\"], [0.5555555555555556, \"#d8576b\"], [0.6666666666666666, \"#ed7953\"], [0.7777777777777778, \"#fb9f3a\"], [0.8888888888888888, \"#fdca26\"], [1.0, \"#f0f921\"]], \"type\": \"histogram2d\"}], \"histogram2dcontour\": [{\"colorbar\": {\"outlinewidth\": 0, \"ticks\": \"\"}, \"colorscale\": [[0.0, \"#0d0887\"], [0.1111111111111111, \"#46039f\"], [0.2222222222222222, \"#7201a8\"], [0.3333333333333333, \"#9c179e\"], [0.4444444444444444, \"#bd3786\"], [0.5555555555555556, \"#d8576b\"], [0.6666666666666666, \"#ed7953\"], [0.7777777777777778, \"#fb9f3a\"], [0.8888888888888888, \"#fdca26\"], [1.0, \"#f0f921\"]], \"type\": \"histogram2dcontour\"}], \"mesh3d\": [{\"colorbar\": {\"outlinewidth\": 0, \"ticks\": \"\"}, \"type\": \"mesh3d\"}], \"parcoords\": [{\"line\": {\"colorbar\": {\"outlinewidth\": 0, \"ticks\": \"\"}}, \"type\": \"parcoords\"}], \"pie\": [{\"automargin\": true, \"type\": \"pie\"}], \"scatter\": [{\"marker\": {\"colorbar\": {\"outlinewidth\": 0, \"ticks\": \"\"}}, \"type\": \"scatter\"}], \"scatter3d\": [{\"line\": {\"colorbar\": {\"outlinewidth\": 0, \"ticks\": \"\"}}, \"marker\": {\"colorbar\": {\"outlinewidth\": 0, \"ticks\": \"\"}}, \"type\": \"scatter3d\"}], \"scattercarpet\": [{\"marker\": {\"colorbar\": {\"outlinewidth\": 0, \"ticks\": \"\"}}, \"type\": \"scattercarpet\"}], \"scattergeo\": [{\"marker\": {\"colorbar\": {\"outlinewidth\": 0, \"ticks\": \"\"}}, \"type\": \"scattergeo\"}], \"scattergl\": [{\"marker\": {\"colorbar\": {\"outlinewidth\": 0, \"ticks\": \"\"}}, \"type\": \"scattergl\"}], \"scattermapbox\": [{\"marker\": {\"colorbar\": {\"outlinewidth\": 0, \"ticks\": \"\"}}, \"type\": \"scattermapbox\"}], \"scatterpolar\": [{\"marker\": {\"colorbar\": {\"outlinewidth\": 0, \"ticks\": \"\"}}, \"type\": \"scatterpolar\"}], \"scatterpolargl\": [{\"marker\": {\"colorbar\": {\"outlinewidth\": 0, \"ticks\": \"\"}}, \"type\": \"scatterpolargl\"}], \"scatterternary\": [{\"marker\": {\"colorbar\": {\"outlinewidth\": 0, \"ticks\": \"\"}}, \"type\": \"scatterternary\"}], \"surface\": [{\"colorbar\": {\"outlinewidth\": 0, \"ticks\": \"\"}, \"colorscale\": [[0.0, \"#0d0887\"], [0.1111111111111111, \"#46039f\"], [0.2222222222222222, \"#7201a8\"], [0.3333333333333333, \"#9c179e\"], [0.4444444444444444, \"#bd3786\"], [0.5555555555555556, \"#d8576b\"], [0.6666666666666666, \"#ed7953\"], [0.7777777777777778, \"#fb9f3a\"], [0.8888888888888888, \"#fdca26\"], [1.0, \"#f0f921\"]], \"type\": \"surface\"}], \"table\": [{\"cells\": {\"fill\": {\"color\": \"#EBF0F8\"}, \"line\": {\"color\": \"white\"}}, \"header\": {\"fill\": {\"color\": \"#C8D4E3\"}, \"line\": {\"color\": \"white\"}}, \"type\": \"table\"}]}, \"layout\": {\"annotationdefaults\": {\"arrowcolor\": \"#2a3f5f\", \"arrowhead\": 0, \"arrowwidth\": 1}, \"autotypenumbers\": \"strict\", \"coloraxis\": {\"colorbar\": {\"outlinewidth\": 0, \"ticks\": \"\"}}, \"colorscale\": {\"diverging\": [[0, \"#8e0152\"], [0.1, \"#c51b7d\"], [0.2, \"#de77ae\"], [0.3, \"#f1b6da\"], [0.4, \"#fde0ef\"], [0.5, \"#f7f7f7\"], [0.6, \"#e6f5d0\"], [0.7, \"#b8e186\"], [0.8, \"#7fbc41\"], [0.9, \"#4d9221\"], [1, \"#276419\"]], \"sequential\": [[0.0, \"#0d0887\"], [0.1111111111111111, \"#46039f\"], [0.2222222222222222, \"#7201a8\"], [0.3333333333333333, \"#9c179e\"], [0.4444444444444444, \"#bd3786\"], [0.5555555555555556, \"#d8576b\"], [0.6666666666666666, \"#ed7953\"], [0.7777777777777778, \"#fb9f3a\"], [0.8888888888888888, \"#fdca26\"], [1.0, \"#f0f921\"]], \"sequentialminus\": [[0.0, \"#0d0887\"], [0.1111111111111111, \"#46039f\"], [0.2222222222222222, \"#7201a8\"], [0.3333333333333333, \"#9c179e\"], [0.4444444444444444, \"#bd3786\"], [0.5555555555555556, \"#d8576b\"], [0.6666666666666666, \"#ed7953\"], [0.7777777777777778, \"#fb9f3a\"], [0.8888888888888888, \"#fdca26\"], [1.0, \"#f0f921\"]]}, \"colorway\": [\"#636efa\", \"#EF553B\", \"#00cc96\", \"#ab63fa\", \"#FFA15A\", \"#19d3f3\", \"#FF6692\", \"#B6E880\", \"#FF97FF\", \"#FECB52\"], \"font\": {\"color\": \"#2a3f5f\"}, \"geo\": {\"bgcolor\": \"white\", \"lakecolor\": \"white\", \"landcolor\": \"#E5ECF6\", \"showlakes\": true, \"showland\": true, \"subunitcolor\": \"white\"}, \"hoverlabel\": {\"align\": \"left\"}, \"hovermode\": \"closest\", \"mapbox\": {\"style\": \"light\"}, \"paper_bgcolor\": \"white\", \"plot_bgcolor\": \"#E5ECF6\", \"polar\": {\"angularaxis\": {\"gridcolor\": \"white\", \"linecolor\": \"white\", \"ticks\": \"\"}, \"bgcolor\": \"#E5ECF6\", \"radialaxis\": {\"gridcolor\": \"white\", \"linecolor\": \"white\", \"ticks\": \"\"}}, \"scene\": {\"xaxis\": {\"backgroundcolor\": \"#E5ECF6\", \"gridcolor\": \"white\", \"gridwidth\": 2, \"linecolor\": \"white\", \"showbackground\": true, \"ticks\": \"\", \"zerolinecolor\": \"white\"}, \"yaxis\": {\"backgroundcolor\": \"#E5ECF6\", \"gridcolor\": \"white\", \"gridwidth\": 2, \"linecolor\": \"white\", \"showbackground\": true, \"ticks\": \"\", \"zerolinecolor\": \"white\"}, \"zaxis\": {\"backgroundcolor\": \"#E5ECF6\", \"gridcolor\": \"white\", \"gridwidth\": 2, \"linecolor\": \"white\", \"showbackground\": true, \"ticks\": \"\", \"zerolinecolor\": \"white\"}}, \"shapedefaults\": {\"line\": {\"color\": \"#2a3f5f\"}}, \"ternary\": {\"aaxis\": {\"gridcolor\": \"white\", \"linecolor\": \"white\", \"ticks\": \"\"}, \"baxis\": {\"gridcolor\": \"white\", \"linecolor\": \"white\", \"ticks\": \"\"}, \"bgcolor\": \"#E5ECF6\", \"caxis\": {\"gridcolor\": \"white\", \"linecolor\": \"white\", \"ticks\": \"\"}}, \"title\": {\"x\": 0.05}, \"xaxis\": {\"automargin\": true, \"gridcolor\": \"white\", \"linecolor\": \"white\", \"ticks\": \"\", \"title\": {\"standoff\": 15}, \"zerolinecolor\": \"white\", \"zerolinewidth\": 2}, \"yaxis\": {\"automargin\": true, \"gridcolor\": \"white\", \"linecolor\": \"white\", \"ticks\": \"\", \"title\": {\"standoff\": 15}, \"zerolinecolor\": \"white\", \"zerolinewidth\": 2}}}, \"title\": {\"text\": \"Grand Theft Auto (GTA) Series Sales Chart\"}},                        {\"responsive\": true}                    ).then(function(){\n",
       "                            \n",
       "var gd = document.getElementById('a101bf54-2188-4c1f-8d2f-2fe8346e8dfa');\n",
       "var x = new MutationObserver(function (mutations, observer) {{\n",
       "        var display = window.getComputedStyle(gd).display;\n",
       "        if (!display || display === 'none') {{\n",
       "            console.log([gd, 'removed!']);\n",
       "            Plotly.purge(gd);\n",
       "            observer.disconnect();\n",
       "        }}\n",
       "}});\n",
       "\n",
       "// Listen for the removal of the full notebook cells\n",
       "var notebookContainer = gd.closest('#notebook-container');\n",
       "if (notebookContainer) {{\n",
       "    x.observe(notebookContainer, {childList: true});\n",
       "}}\n",
       "\n",
       "// Listen for the clearing of the current output cell\n",
       "var outputEl = gd.closest('.output');\n",
       "if (outputEl) {{\n",
       "    x.observe(outputEl, {childList: true});\n",
       "}}\n",
       "\n",
       "                        })                };                });            </script>        </div>"
      ]
     },
     "metadata": {},
     "output_type": "display_data"
    }
   ],
   "source": [
    "fig = px.sunburst(GTA, path = [\"Publisher\", \"Genre\", \"Name\"], values = GTA[\"Global_Sales\"],\n",
    "                      title=\"Grand Theft Auto (GTA) Series Sales Chart\")\n",
    "fig.update_layout(\n",
    "grid=dict(columns=2, rows=2),\n",
    "margin=dict(t=40, l=2, r=2, b=5))\n",
    "fig.show()"
   ]
  },
  {
   "cell_type": "code",
   "execution_count": 8,
   "metadata": {},
   "outputs": [
    {
     "data": {
      "text/html": [
       "<div>\n",
       "<style scoped>\n",
       "    .dataframe tbody tr th:only-of-type {\n",
       "        vertical-align: middle;\n",
       "    }\n",
       "\n",
       "    .dataframe tbody tr th {\n",
       "        vertical-align: top;\n",
       "    }\n",
       "\n",
       "    .dataframe thead th {\n",
       "        text-align: right;\n",
       "    }\n",
       "</style>\n",
       "<table border=\"1\" class=\"dataframe\">\n",
       "  <thead>\n",
       "    <tr style=\"text-align: right;\">\n",
       "      <th></th>\n",
       "      <th>Rank</th>\n",
       "      <th>Name</th>\n",
       "      <th>Platform</th>\n",
       "      <th>Year</th>\n",
       "      <th>Genre</th>\n",
       "      <th>Publisher</th>\n",
       "      <th>NA_Sales</th>\n",
       "      <th>EU_Sales</th>\n",
       "      <th>JP_Sales</th>\n",
       "      <th>Other_Sales</th>\n",
       "      <th>Global_Sales</th>\n",
       "    </tr>\n",
       "  </thead>\n",
       "  <tbody>\n",
       "    <tr>\n",
       "      <th>138</th>\n",
       "      <td>139</td>\n",
       "      <td>Driver</td>\n",
       "      <td>PS</td>\n",
       "      <td>1999.0</td>\n",
       "      <td>Action</td>\n",
       "      <td>GT Interactive</td>\n",
       "      <td>3.11</td>\n",
       "      <td>2.80</td>\n",
       "      <td>0.02</td>\n",
       "      <td>0.33</td>\n",
       "      <td>6.27</td>\n",
       "    </tr>\n",
       "    <tr>\n",
       "      <th>223</th>\n",
       "      <td>224</td>\n",
       "      <td>Driver 2</td>\n",
       "      <td>PS</td>\n",
       "      <td>2000.0</td>\n",
       "      <td>Action</td>\n",
       "      <td>Atari</td>\n",
       "      <td>2.36</td>\n",
       "      <td>2.10</td>\n",
       "      <td>0.02</td>\n",
       "      <td>0.25</td>\n",
       "      <td>4.73</td>\n",
       "    </tr>\n",
       "    <tr>\n",
       "      <th>2117</th>\n",
       "      <td>2119</td>\n",
       "      <td>Driver: San Francisco</td>\n",
       "      <td>PS3</td>\n",
       "      <td>2011.0</td>\n",
       "      <td>Racing</td>\n",
       "      <td>Ubisoft</td>\n",
       "      <td>0.24</td>\n",
       "      <td>0.54</td>\n",
       "      <td>0.01</td>\n",
       "      <td>0.18</td>\n",
       "      <td>0.98</td>\n",
       "    </tr>\n",
       "    <tr>\n",
       "      <th>2848</th>\n",
       "      <td>2850</td>\n",
       "      <td>Driver: San Francisco</td>\n",
       "      <td>X360</td>\n",
       "      <td>2011.0</td>\n",
       "      <td>Racing</td>\n",
       "      <td>Ubisoft</td>\n",
       "      <td>0.25</td>\n",
       "      <td>0.39</td>\n",
       "      <td>0.00</td>\n",
       "      <td>0.08</td>\n",
       "      <td>0.72</td>\n",
       "    </tr>\n",
       "    <tr>\n",
       "      <th>5367</th>\n",
       "      <td>5369</td>\n",
       "      <td>Driver 2 Advance</td>\n",
       "      <td>GBA</td>\n",
       "      <td>2002.0</td>\n",
       "      <td>Action</td>\n",
       "      <td>Atari</td>\n",
       "      <td>0.25</td>\n",
       "      <td>0.09</td>\n",
       "      <td>0.00</td>\n",
       "      <td>0.01</td>\n",
       "      <td>0.34</td>\n",
       "    </tr>\n",
       "    <tr>\n",
       "      <th>6180</th>\n",
       "      <td>6182</td>\n",
       "      <td>Driver: Parallel Lines</td>\n",
       "      <td>PS2</td>\n",
       "      <td>2006.0</td>\n",
       "      <td>Racing</td>\n",
       "      <td>Atari</td>\n",
       "      <td>0.12</td>\n",
       "      <td>0.10</td>\n",
       "      <td>0.03</td>\n",
       "      <td>0.03</td>\n",
       "      <td>0.28</td>\n",
       "    </tr>\n",
       "    <tr>\n",
       "      <th>6761</th>\n",
       "      <td>6763</td>\n",
       "      <td>Driver '76</td>\n",
       "      <td>PSP</td>\n",
       "      <td>2007.0</td>\n",
       "      <td>Racing</td>\n",
       "      <td>Ubisoft</td>\n",
       "      <td>0.03</td>\n",
       "      <td>0.14</td>\n",
       "      <td>0.00</td>\n",
       "      <td>0.08</td>\n",
       "      <td>0.25</td>\n",
       "    </tr>\n",
       "    <tr>\n",
       "      <th>8056</th>\n",
       "      <td>8058</td>\n",
       "      <td>Driver: San Francisco</td>\n",
       "      <td>PC</td>\n",
       "      <td>2011.0</td>\n",
       "      <td>Racing</td>\n",
       "      <td>Ubisoft</td>\n",
       "      <td>0.05</td>\n",
       "      <td>0.10</td>\n",
       "      <td>0.00</td>\n",
       "      <td>0.03</td>\n",
       "      <td>0.18</td>\n",
       "    </tr>\n",
       "    <tr>\n",
       "      <th>8176</th>\n",
       "      <td>8178</td>\n",
       "      <td>Driver: San Francisco</td>\n",
       "      <td>Wii</td>\n",
       "      <td>2011.0</td>\n",
       "      <td>Racing</td>\n",
       "      <td>Ubisoft</td>\n",
       "      <td>0.06</td>\n",
       "      <td>0.09</td>\n",
       "      <td>0.00</td>\n",
       "      <td>0.02</td>\n",
       "      <td>0.18</td>\n",
       "    </tr>\n",
       "    <tr>\n",
       "      <th>10981</th>\n",
       "      <td>10983</td>\n",
       "      <td>Driver: Renegade</td>\n",
       "      <td>3DS</td>\n",
       "      <td>2011.0</td>\n",
       "      <td>Racing</td>\n",
       "      <td>Ubisoft</td>\n",
       "      <td>0.05</td>\n",
       "      <td>0.04</td>\n",
       "      <td>0.00</td>\n",
       "      <td>0.01</td>\n",
       "      <td>0.09</td>\n",
       "    </tr>\n",
       "    <tr>\n",
       "      <th>12154</th>\n",
       "      <td>12156</td>\n",
       "      <td>Driver: Parallel Lines</td>\n",
       "      <td>XB</td>\n",
       "      <td>2006.0</td>\n",
       "      <td>Racing</td>\n",
       "      <td>Atari</td>\n",
       "      <td>0.05</td>\n",
       "      <td>0.01</td>\n",
       "      <td>0.00</td>\n",
       "      <td>0.00</td>\n",
       "      <td>0.07</td>\n",
       "    </tr>\n",
       "    <tr>\n",
       "      <th>12833</th>\n",
       "      <td>12835</td>\n",
       "      <td>Drivers Ed Portable</td>\n",
       "      <td>DS</td>\n",
       "      <td>2008.0</td>\n",
       "      <td>Misc</td>\n",
       "      <td>JoWood Productions</td>\n",
       "      <td>0.05</td>\n",
       "      <td>0.00</td>\n",
       "      <td>0.00</td>\n",
       "      <td>0.00</td>\n",
       "      <td>0.05</td>\n",
       "    </tr>\n",
       "    <tr>\n",
       "      <th>14598</th>\n",
       "      <td>14601</td>\n",
       "      <td>Driver: Parallel Lines</td>\n",
       "      <td>Wii</td>\n",
       "      <td>2007.0</td>\n",
       "      <td>Racing</td>\n",
       "      <td>Ubisoft</td>\n",
       "      <td>0.01</td>\n",
       "      <td>0.01</td>\n",
       "      <td>0.00</td>\n",
       "      <td>0.00</td>\n",
       "      <td>0.03</td>\n",
       "    </tr>\n",
       "    <tr>\n",
       "      <th>1615</th>\n",
       "      <td>1617</td>\n",
       "      <td>Driv3r</td>\n",
       "      <td>PS2</td>\n",
       "      <td>2004.0</td>\n",
       "      <td>Racing</td>\n",
       "      <td>Atari</td>\n",
       "      <td>0.60</td>\n",
       "      <td>0.47</td>\n",
       "      <td>0.00</td>\n",
       "      <td>0.16</td>\n",
       "      <td>1.23</td>\n",
       "    </tr>\n",
       "    <tr>\n",
       "      <th>2691</th>\n",
       "      <td>2693</td>\n",
       "      <td>Driv3r</td>\n",
       "      <td>XB</td>\n",
       "      <td>2004.0</td>\n",
       "      <td>Racing</td>\n",
       "      <td>Atari</td>\n",
       "      <td>0.36</td>\n",
       "      <td>0.38</td>\n",
       "      <td>0.00</td>\n",
       "      <td>0.03</td>\n",
       "      <td>0.76</td>\n",
       "    </tr>\n",
       "    <tr>\n",
       "      <th>14262</th>\n",
       "      <td>14265</td>\n",
       "      <td>Driv3r</td>\n",
       "      <td>GBA</td>\n",
       "      <td>2005.0</td>\n",
       "      <td>Racing</td>\n",
       "      <td>Atari</td>\n",
       "      <td>0.02</td>\n",
       "      <td>0.01</td>\n",
       "      <td>0.00</td>\n",
       "      <td>0.00</td>\n",
       "      <td>0.03</td>\n",
       "    </tr>\n",
       "  </tbody>\n",
       "</table>\n",
       "</div>"
      ],
      "text/plain": [
       "        Rank                    Name Platform    Year   Genre  \\\n",
       "138      139                  Driver       PS  1999.0  Action   \n",
       "223      224                Driver 2       PS  2000.0  Action   \n",
       "2117    2119   Driver: San Francisco      PS3  2011.0  Racing   \n",
       "2848    2850   Driver: San Francisco     X360  2011.0  Racing   \n",
       "5367    5369        Driver 2 Advance      GBA  2002.0  Action   \n",
       "6180    6182  Driver: Parallel Lines      PS2  2006.0  Racing   \n",
       "6761    6763              Driver '76      PSP  2007.0  Racing   \n",
       "8056    8058   Driver: San Francisco       PC  2011.0  Racing   \n",
       "8176    8178   Driver: San Francisco      Wii  2011.0  Racing   \n",
       "10981  10983        Driver: Renegade      3DS  2011.0  Racing   \n",
       "12154  12156  Driver: Parallel Lines       XB  2006.0  Racing   \n",
       "12833  12835     Drivers Ed Portable       DS  2008.0    Misc   \n",
       "14598  14601  Driver: Parallel Lines      Wii  2007.0  Racing   \n",
       "1615    1617                  Driv3r      PS2  2004.0  Racing   \n",
       "2691    2693                  Driv3r       XB  2004.0  Racing   \n",
       "14262  14265                  Driv3r      GBA  2005.0  Racing   \n",
       "\n",
       "                Publisher  NA_Sales  EU_Sales  JP_Sales  Other_Sales  \\\n",
       "138        GT Interactive      3.11      2.80      0.02         0.33   \n",
       "223                 Atari      2.36      2.10      0.02         0.25   \n",
       "2117              Ubisoft      0.24      0.54      0.01         0.18   \n",
       "2848              Ubisoft      0.25      0.39      0.00         0.08   \n",
       "5367                Atari      0.25      0.09      0.00         0.01   \n",
       "6180                Atari      0.12      0.10      0.03         0.03   \n",
       "6761              Ubisoft      0.03      0.14      0.00         0.08   \n",
       "8056              Ubisoft      0.05      0.10      0.00         0.03   \n",
       "8176              Ubisoft      0.06      0.09      0.00         0.02   \n",
       "10981             Ubisoft      0.05      0.04      0.00         0.01   \n",
       "12154               Atari      0.05      0.01      0.00         0.00   \n",
       "12833  JoWood Productions      0.05      0.00      0.00         0.00   \n",
       "14598             Ubisoft      0.01      0.01      0.00         0.00   \n",
       "1615                Atari      0.60      0.47      0.00         0.16   \n",
       "2691                Atari      0.36      0.38      0.00         0.03   \n",
       "14262               Atari      0.02      0.01      0.00         0.00   \n",
       "\n",
       "       Global_Sales  \n",
       "138            6.27  \n",
       "223            4.73  \n",
       "2117           0.98  \n",
       "2848           0.72  \n",
       "5367           0.34  \n",
       "6180           0.28  \n",
       "6761           0.25  \n",
       "8056           0.18  \n",
       "8176           0.18  \n",
       "10981          0.09  \n",
       "12154          0.07  \n",
       "12833          0.05  \n",
       "14598          0.03  \n",
       "1615           1.23  \n",
       "2691           0.76  \n",
       "14262          0.03  "
      ]
     },
     "execution_count": 8,
     "metadata": {},
     "output_type": "execute_result"
    }
   ],
   "source": [
    "Driver = games[games[\"Name\"].str.match(\"Driver\") == True]\n",
    "frames = [Driver, games[games[\"Name\"].str.match(\"Driv3r\") == True]]\n",
    "Driver = pd.concat(frames)\n",
    "Driver"
   ]
  },
  {
   "cell_type": "code",
   "execution_count": 9,
   "metadata": {},
   "outputs": [
    {
     "data": {
      "text/html": [
       "<div>\n",
       "<style scoped>\n",
       "    .dataframe tbody tr th:only-of-type {\n",
       "        vertical-align: middle;\n",
       "    }\n",
       "\n",
       "    .dataframe tbody tr th {\n",
       "        vertical-align: top;\n",
       "    }\n",
       "\n",
       "    .dataframe thead th {\n",
       "        text-align: right;\n",
       "    }\n",
       "</style>\n",
       "<table border=\"1\" class=\"dataframe\">\n",
       "  <thead>\n",
       "    <tr style=\"text-align: right;\">\n",
       "      <th></th>\n",
       "      <th>Rank</th>\n",
       "      <th>Name</th>\n",
       "      <th>Platform</th>\n",
       "      <th>Year</th>\n",
       "      <th>Genre</th>\n",
       "      <th>Publisher</th>\n",
       "      <th>NA_Sales</th>\n",
       "      <th>EU_Sales</th>\n",
       "      <th>JP_Sales</th>\n",
       "      <th>Other_Sales</th>\n",
       "      <th>Global_Sales</th>\n",
       "    </tr>\n",
       "  </thead>\n",
       "  <tbody>\n",
       "    <tr>\n",
       "      <th>280</th>\n",
       "      <td>281</td>\n",
       "      <td>Watch Dogs</td>\n",
       "      <td>PS4</td>\n",
       "      <td>2014.0</td>\n",
       "      <td>Action</td>\n",
       "      <td>Ubisoft</td>\n",
       "      <td>1.40</td>\n",
       "      <td>1.86</td>\n",
       "      <td>0.11</td>\n",
       "      <td>0.77</td>\n",
       "      <td>4.14</td>\n",
       "    </tr>\n",
       "    <tr>\n",
       "      <th>891</th>\n",
       "      <td>893</td>\n",
       "      <td>Watch Dogs</td>\n",
       "      <td>PS3</td>\n",
       "      <td>2014.0</td>\n",
       "      <td>Action</td>\n",
       "      <td>Ubisoft</td>\n",
       "      <td>0.56</td>\n",
       "      <td>0.89</td>\n",
       "      <td>0.10</td>\n",
       "      <td>0.37</td>\n",
       "      <td>1.93</td>\n",
       "    </tr>\n",
       "    <tr>\n",
       "      <th>1202</th>\n",
       "      <td>1204</td>\n",
       "      <td>Watch Dogs</td>\n",
       "      <td>XOne</td>\n",
       "      <td>2014.0</td>\n",
       "      <td>Action</td>\n",
       "      <td>Ubisoft</td>\n",
       "      <td>0.90</td>\n",
       "      <td>0.53</td>\n",
       "      <td>0.00</td>\n",
       "      <td>0.13</td>\n",
       "      <td>1.55</td>\n",
       "    </tr>\n",
       "    <tr>\n",
       "      <th>1539</th>\n",
       "      <td>1541</td>\n",
       "      <td>Watch Dogs</td>\n",
       "      <td>X360</td>\n",
       "      <td>2014.0</td>\n",
       "      <td>Action</td>\n",
       "      <td>Ubisoft</td>\n",
       "      <td>0.72</td>\n",
       "      <td>0.45</td>\n",
       "      <td>0.01</td>\n",
       "      <td>0.11</td>\n",
       "      <td>1.28</td>\n",
       "    </tr>\n",
       "    <tr>\n",
       "      <th>4333</th>\n",
       "      <td>4335</td>\n",
       "      <td>Watch Dogs</td>\n",
       "      <td>PC</td>\n",
       "      <td>2014.0</td>\n",
       "      <td>Action</td>\n",
       "      <td>Ubisoft</td>\n",
       "      <td>0.14</td>\n",
       "      <td>0.26</td>\n",
       "      <td>0.00</td>\n",
       "      <td>0.05</td>\n",
       "      <td>0.45</td>\n",
       "    </tr>\n",
       "    <tr>\n",
       "      <th>9112</th>\n",
       "      <td>9114</td>\n",
       "      <td>Watch Dogs</td>\n",
       "      <td>WiiU</td>\n",
       "      <td>2014.0</td>\n",
       "      <td>Action</td>\n",
       "      <td>Ubisoft</td>\n",
       "      <td>0.08</td>\n",
       "      <td>0.05</td>\n",
       "      <td>0.00</td>\n",
       "      <td>0.01</td>\n",
       "      <td>0.14</td>\n",
       "    </tr>\n",
       "  </tbody>\n",
       "</table>\n",
       "</div>"
      ],
      "text/plain": [
       "      Rank        Name Platform    Year   Genre Publisher  NA_Sales  EU_Sales  \\\n",
       "280    281  Watch Dogs      PS4  2014.0  Action   Ubisoft      1.40      1.86   \n",
       "891    893  Watch Dogs      PS3  2014.0  Action   Ubisoft      0.56      0.89   \n",
       "1202  1204  Watch Dogs     XOne  2014.0  Action   Ubisoft      0.90      0.53   \n",
       "1539  1541  Watch Dogs     X360  2014.0  Action   Ubisoft      0.72      0.45   \n",
       "4333  4335  Watch Dogs       PC  2014.0  Action   Ubisoft      0.14      0.26   \n",
       "9112  9114  Watch Dogs     WiiU  2014.0  Action   Ubisoft      0.08      0.05   \n",
       "\n",
       "      JP_Sales  Other_Sales  Global_Sales  \n",
       "280       0.11         0.77          4.14  \n",
       "891       0.10         0.37          1.93  \n",
       "1202      0.00         0.13          1.55  \n",
       "1539      0.01         0.11          1.28  \n",
       "4333      0.00         0.05          0.45  \n",
       "9112      0.00         0.01          0.14  "
      ]
     },
     "execution_count": 9,
     "metadata": {},
     "output_type": "execute_result"
    }
   ],
   "source": [
    "WatchDogs = games[games[\"Name\"].str.match(\"Watch Dogs\") == True]\n",
    "WatchDogs"
   ]
  },
  {
   "cell_type": "code",
   "execution_count": 10,
   "metadata": {},
   "outputs": [],
   "source": [
    "#Cobine this two dataframe / Driver + Watchdogs\n",
    "frames = [Driver, WatchDogs]\n",
    "Driver_and_WatchDogs = pd.concat(frames)"
   ]
  },
  {
   "cell_type": "code",
   "execution_count": 13,
   "metadata": {},
   "outputs": [
    {
     "data": {
      "application/vnd.plotly.v1+json": {
       "config": {
        "plotlyServerURL": "https://plot.ly"
       },
       "data": [
        {
         "customdata": [
          [
           "Driv3r"
          ],
          [
           "Driv3r"
          ]
         ],
         "hovertemplate": "Name=%{customdata[0]}<br>Global_Sales=%{marker.size}<br>Year=%{y}<extra></extra>",
         "legendgroup": "Driv3r",
         "marker": {
          "color": "#636efa",
          "size": [
           1.99,
           0.03
          ],
          "sizemode": "area",
          "sizeref": 0.023724999999999996,
          "symbol": "circle"
         },
         "mode": "markers",
         "name": "Driv3r",
         "orientation": "v",
         "showlegend": true,
         "type": "scatter",
         "x": [
          1.99,
          0.03
         ],
         "xaxis": "x",
         "y": [
          2004,
          2005
         ],
         "yaxis": "y"
        },
        {
         "customdata": [
          [
           "Driver"
          ]
         ],
         "hovertemplate": "Name=%{customdata[0]}<br>Global_Sales=%{marker.size}<br>Year=%{y}<extra></extra>",
         "legendgroup": "Driver",
         "marker": {
          "color": "#EF553B",
          "size": [
           6.27
          ],
          "sizemode": "area",
          "sizeref": 0.023724999999999996,
          "symbol": "circle"
         },
         "mode": "markers",
         "name": "Driver",
         "orientation": "v",
         "showlegend": true,
         "type": "scatter",
         "x": [
          6.27
         ],
         "xaxis": "x",
         "y": [
          1999
         ],
         "yaxis": "y"
        },
        {
         "customdata": [
          [
           "Driver '76"
          ]
         ],
         "hovertemplate": "Name=%{customdata[0]}<br>Global_Sales=%{marker.size}<br>Year=%{y}<extra></extra>",
         "legendgroup": "Driver '76",
         "marker": {
          "color": "#00cc96",
          "size": [
           0.25
          ],
          "sizemode": "area",
          "sizeref": 0.023724999999999996,
          "symbol": "circle"
         },
         "mode": "markers",
         "name": "Driver '76",
         "orientation": "v",
         "showlegend": true,
         "type": "scatter",
         "x": [
          0.25
         ],
         "xaxis": "x",
         "y": [
          2007
         ],
         "yaxis": "y"
        },
        {
         "customdata": [
          [
           "Driver 2"
          ]
         ],
         "hovertemplate": "Name=%{customdata[0]}<br>Global_Sales=%{marker.size}<br>Year=%{y}<extra></extra>",
         "legendgroup": "Driver 2",
         "marker": {
          "color": "#ab63fa",
          "size": [
           4.73
          ],
          "sizemode": "area",
          "sizeref": 0.023724999999999996,
          "symbol": "circle"
         },
         "mode": "markers",
         "name": "Driver 2",
         "orientation": "v",
         "showlegend": true,
         "type": "scatter",
         "x": [
          4.73
         ],
         "xaxis": "x",
         "y": [
          2000
         ],
         "yaxis": "y"
        },
        {
         "customdata": [
          [
           "Driver 2 Advance"
          ]
         ],
         "hovertemplate": "Name=%{customdata[0]}<br>Global_Sales=%{marker.size}<br>Year=%{y}<extra></extra>",
         "legendgroup": "Driver 2 Advance",
         "marker": {
          "color": "#FFA15A",
          "size": [
           0.34
          ],
          "sizemode": "area",
          "sizeref": 0.023724999999999996,
          "symbol": "circle"
         },
         "mode": "markers",
         "name": "Driver 2 Advance",
         "orientation": "v",
         "showlegend": true,
         "type": "scatter",
         "x": [
          0.34
         ],
         "xaxis": "x",
         "y": [
          2002
         ],
         "yaxis": "y"
        },
        {
         "customdata": [
          [
           "Driver: Parallel Lines"
          ],
          [
           "Driver: Parallel Lines"
          ]
         ],
         "hovertemplate": "Name=%{customdata[0]}<br>Global_Sales=%{marker.size}<br>Year=%{y}<extra></extra>",
         "legendgroup": "Driver: Parallel Lines",
         "marker": {
          "color": "#19d3f3",
          "size": [
           0.35000000000000003,
           0.03
          ],
          "sizemode": "area",
          "sizeref": 0.023724999999999996,
          "symbol": "circle"
         },
         "mode": "markers",
         "name": "Driver: Parallel Lines",
         "orientation": "v",
         "showlegend": true,
         "type": "scatter",
         "x": [
          0.35000000000000003,
          0.03
         ],
         "xaxis": "x",
         "y": [
          2006,
          2007
         ],
         "yaxis": "y"
        },
        {
         "customdata": [
          [
           "Driver: Renegade"
          ]
         ],
         "hovertemplate": "Name=%{customdata[0]}<br>Global_Sales=%{marker.size}<br>Year=%{y}<extra></extra>",
         "legendgroup": "Driver: Renegade",
         "marker": {
          "color": "#FF6692",
          "size": [
           0.09
          ],
          "sizemode": "area",
          "sizeref": 0.023724999999999996,
          "symbol": "circle"
         },
         "mode": "markers",
         "name": "Driver: Renegade",
         "orientation": "v",
         "showlegend": true,
         "type": "scatter",
         "x": [
          0.09
         ],
         "xaxis": "x",
         "y": [
          2011
         ],
         "yaxis": "y"
        },
        {
         "customdata": [
          [
           "Driver: San Francisco"
          ]
         ],
         "hovertemplate": "Name=%{customdata[0]}<br>Global_Sales=%{marker.size}<br>Year=%{y}<extra></extra>",
         "legendgroup": "Driver: San Francisco",
         "marker": {
          "color": "#B6E880",
          "size": [
           2.06
          ],
          "sizemode": "area",
          "sizeref": 0.023724999999999996,
          "symbol": "circle"
         },
         "mode": "markers",
         "name": "Driver: San Francisco",
         "orientation": "v",
         "showlegend": true,
         "type": "scatter",
         "x": [
          2.06
         ],
         "xaxis": "x",
         "y": [
          2011
         ],
         "yaxis": "y"
        },
        {
         "customdata": [
          [
           "Drivers Ed Portable"
          ]
         ],
         "hovertemplate": "Name=%{customdata[0]}<br>Global_Sales=%{marker.size}<br>Year=%{y}<extra></extra>",
         "legendgroup": "Drivers Ed Portable",
         "marker": {
          "color": "#FF97FF",
          "size": [
           0.05
          ],
          "sizemode": "area",
          "sizeref": 0.023724999999999996,
          "symbol": "circle"
         },
         "mode": "markers",
         "name": "Drivers Ed Portable",
         "orientation": "v",
         "showlegend": true,
         "type": "scatter",
         "x": [
          0.05
         ],
         "xaxis": "x",
         "y": [
          2008
         ],
         "yaxis": "y"
        },
        {
         "customdata": [
          [
           "Watch Dogs"
          ]
         ],
         "hovertemplate": "Name=%{customdata[0]}<br>Global_Sales=%{marker.size}<br>Year=%{y}<extra></extra>",
         "legendgroup": "Watch Dogs",
         "marker": {
          "color": "#FECB52",
          "size": [
           9.489999999999998
          ],
          "sizemode": "area",
          "sizeref": 0.023724999999999996,
          "symbol": "circle"
         },
         "mode": "markers",
         "name": "Watch Dogs",
         "orientation": "v",
         "showlegend": true,
         "type": "scatter",
         "x": [
          9.489999999999998
         ],
         "xaxis": "x",
         "y": [
          2014
         ],
         "yaxis": "y"
        }
       ],
       "layout": {
        "legend": {
         "itemsizing": "constant",
         "title": {
          "text": "Name"
         },
         "tracegroupgap": 0
        },
        "template": {
         "data": {
          "bar": [
           {
            "error_x": {
             "color": "#2a3f5f"
            },
            "error_y": {
             "color": "#2a3f5f"
            },
            "marker": {
             "line": {
              "color": "#E5ECF6",
              "width": 0.5
             }
            },
            "type": "bar"
           }
          ],
          "barpolar": [
           {
            "marker": {
             "line": {
              "color": "#E5ECF6",
              "width": 0.5
             }
            },
            "type": "barpolar"
           }
          ],
          "carpet": [
           {
            "aaxis": {
             "endlinecolor": "#2a3f5f",
             "gridcolor": "white",
             "linecolor": "white",
             "minorgridcolor": "white",
             "startlinecolor": "#2a3f5f"
            },
            "baxis": {
             "endlinecolor": "#2a3f5f",
             "gridcolor": "white",
             "linecolor": "white",
             "minorgridcolor": "white",
             "startlinecolor": "#2a3f5f"
            },
            "type": "carpet"
           }
          ],
          "choropleth": [
           {
            "colorbar": {
             "outlinewidth": 0,
             "ticks": ""
            },
            "type": "choropleth"
           }
          ],
          "contour": [
           {
            "colorbar": {
             "outlinewidth": 0,
             "ticks": ""
            },
            "colorscale": [
             [
              0,
              "#0d0887"
             ],
             [
              0.1111111111111111,
              "#46039f"
             ],
             [
              0.2222222222222222,
              "#7201a8"
             ],
             [
              0.3333333333333333,
              "#9c179e"
             ],
             [
              0.4444444444444444,
              "#bd3786"
             ],
             [
              0.5555555555555556,
              "#d8576b"
             ],
             [
              0.6666666666666666,
              "#ed7953"
             ],
             [
              0.7777777777777778,
              "#fb9f3a"
             ],
             [
              0.8888888888888888,
              "#fdca26"
             ],
             [
              1,
              "#f0f921"
             ]
            ],
            "type": "contour"
           }
          ],
          "contourcarpet": [
           {
            "colorbar": {
             "outlinewidth": 0,
             "ticks": ""
            },
            "type": "contourcarpet"
           }
          ],
          "heatmap": [
           {
            "colorbar": {
             "outlinewidth": 0,
             "ticks": ""
            },
            "colorscale": [
             [
              0,
              "#0d0887"
             ],
             [
              0.1111111111111111,
              "#46039f"
             ],
             [
              0.2222222222222222,
              "#7201a8"
             ],
             [
              0.3333333333333333,
              "#9c179e"
             ],
             [
              0.4444444444444444,
              "#bd3786"
             ],
             [
              0.5555555555555556,
              "#d8576b"
             ],
             [
              0.6666666666666666,
              "#ed7953"
             ],
             [
              0.7777777777777778,
              "#fb9f3a"
             ],
             [
              0.8888888888888888,
              "#fdca26"
             ],
             [
              1,
              "#f0f921"
             ]
            ],
            "type": "heatmap"
           }
          ],
          "heatmapgl": [
           {
            "colorbar": {
             "outlinewidth": 0,
             "ticks": ""
            },
            "colorscale": [
             [
              0,
              "#0d0887"
             ],
             [
              0.1111111111111111,
              "#46039f"
             ],
             [
              0.2222222222222222,
              "#7201a8"
             ],
             [
              0.3333333333333333,
              "#9c179e"
             ],
             [
              0.4444444444444444,
              "#bd3786"
             ],
             [
              0.5555555555555556,
              "#d8576b"
             ],
             [
              0.6666666666666666,
              "#ed7953"
             ],
             [
              0.7777777777777778,
              "#fb9f3a"
             ],
             [
              0.8888888888888888,
              "#fdca26"
             ],
             [
              1,
              "#f0f921"
             ]
            ],
            "type": "heatmapgl"
           }
          ],
          "histogram": [
           {
            "marker": {
             "colorbar": {
              "outlinewidth": 0,
              "ticks": ""
             }
            },
            "type": "histogram"
           }
          ],
          "histogram2d": [
           {
            "colorbar": {
             "outlinewidth": 0,
             "ticks": ""
            },
            "colorscale": [
             [
              0,
              "#0d0887"
             ],
             [
              0.1111111111111111,
              "#46039f"
             ],
             [
              0.2222222222222222,
              "#7201a8"
             ],
             [
              0.3333333333333333,
              "#9c179e"
             ],
             [
              0.4444444444444444,
              "#bd3786"
             ],
             [
              0.5555555555555556,
              "#d8576b"
             ],
             [
              0.6666666666666666,
              "#ed7953"
             ],
             [
              0.7777777777777778,
              "#fb9f3a"
             ],
             [
              0.8888888888888888,
              "#fdca26"
             ],
             [
              1,
              "#f0f921"
             ]
            ],
            "type": "histogram2d"
           }
          ],
          "histogram2dcontour": [
           {
            "colorbar": {
             "outlinewidth": 0,
             "ticks": ""
            },
            "colorscale": [
             [
              0,
              "#0d0887"
             ],
             [
              0.1111111111111111,
              "#46039f"
             ],
             [
              0.2222222222222222,
              "#7201a8"
             ],
             [
              0.3333333333333333,
              "#9c179e"
             ],
             [
              0.4444444444444444,
              "#bd3786"
             ],
             [
              0.5555555555555556,
              "#d8576b"
             ],
             [
              0.6666666666666666,
              "#ed7953"
             ],
             [
              0.7777777777777778,
              "#fb9f3a"
             ],
             [
              0.8888888888888888,
              "#fdca26"
             ],
             [
              1,
              "#f0f921"
             ]
            ],
            "type": "histogram2dcontour"
           }
          ],
          "mesh3d": [
           {
            "colorbar": {
             "outlinewidth": 0,
             "ticks": ""
            },
            "type": "mesh3d"
           }
          ],
          "parcoords": [
           {
            "line": {
             "colorbar": {
              "outlinewidth": 0,
              "ticks": ""
             }
            },
            "type": "parcoords"
           }
          ],
          "pie": [
           {
            "automargin": true,
            "type": "pie"
           }
          ],
          "scatter": [
           {
            "marker": {
             "colorbar": {
              "outlinewidth": 0,
              "ticks": ""
             }
            },
            "type": "scatter"
           }
          ],
          "scatter3d": [
           {
            "line": {
             "colorbar": {
              "outlinewidth": 0,
              "ticks": ""
             }
            },
            "marker": {
             "colorbar": {
              "outlinewidth": 0,
              "ticks": ""
             }
            },
            "type": "scatter3d"
           }
          ],
          "scattercarpet": [
           {
            "marker": {
             "colorbar": {
              "outlinewidth": 0,
              "ticks": ""
             }
            },
            "type": "scattercarpet"
           }
          ],
          "scattergeo": [
           {
            "marker": {
             "colorbar": {
              "outlinewidth": 0,
              "ticks": ""
             }
            },
            "type": "scattergeo"
           }
          ],
          "scattergl": [
           {
            "marker": {
             "colorbar": {
              "outlinewidth": 0,
              "ticks": ""
             }
            },
            "type": "scattergl"
           }
          ],
          "scattermapbox": [
           {
            "marker": {
             "colorbar": {
              "outlinewidth": 0,
              "ticks": ""
             }
            },
            "type": "scattermapbox"
           }
          ],
          "scatterpolar": [
           {
            "marker": {
             "colorbar": {
              "outlinewidth": 0,
              "ticks": ""
             }
            },
            "type": "scatterpolar"
           }
          ],
          "scatterpolargl": [
           {
            "marker": {
             "colorbar": {
              "outlinewidth": 0,
              "ticks": ""
             }
            },
            "type": "scatterpolargl"
           }
          ],
          "scatterternary": [
           {
            "marker": {
             "colorbar": {
              "outlinewidth": 0,
              "ticks": ""
             }
            },
            "type": "scatterternary"
           }
          ],
          "surface": [
           {
            "colorbar": {
             "outlinewidth": 0,
             "ticks": ""
            },
            "colorscale": [
             [
              0,
              "#0d0887"
             ],
             [
              0.1111111111111111,
              "#46039f"
             ],
             [
              0.2222222222222222,
              "#7201a8"
             ],
             [
              0.3333333333333333,
              "#9c179e"
             ],
             [
              0.4444444444444444,
              "#bd3786"
             ],
             [
              0.5555555555555556,
              "#d8576b"
             ],
             [
              0.6666666666666666,
              "#ed7953"
             ],
             [
              0.7777777777777778,
              "#fb9f3a"
             ],
             [
              0.8888888888888888,
              "#fdca26"
             ],
             [
              1,
              "#f0f921"
             ]
            ],
            "type": "surface"
           }
          ],
          "table": [
           {
            "cells": {
             "fill": {
              "color": "#EBF0F8"
             },
             "line": {
              "color": "white"
             }
            },
            "header": {
             "fill": {
              "color": "#C8D4E3"
             },
             "line": {
              "color": "white"
             }
            },
            "type": "table"
           }
          ]
         },
         "layout": {
          "annotationdefaults": {
           "arrowcolor": "#2a3f5f",
           "arrowhead": 0,
           "arrowwidth": 1
          },
          "autotypenumbers": "strict",
          "coloraxis": {
           "colorbar": {
            "outlinewidth": 0,
            "ticks": ""
           }
          },
          "colorscale": {
           "diverging": [
            [
             0,
             "#8e0152"
            ],
            [
             0.1,
             "#c51b7d"
            ],
            [
             0.2,
             "#de77ae"
            ],
            [
             0.3,
             "#f1b6da"
            ],
            [
             0.4,
             "#fde0ef"
            ],
            [
             0.5,
             "#f7f7f7"
            ],
            [
             0.6,
             "#e6f5d0"
            ],
            [
             0.7,
             "#b8e186"
            ],
            [
             0.8,
             "#7fbc41"
            ],
            [
             0.9,
             "#4d9221"
            ],
            [
             1,
             "#276419"
            ]
           ],
           "sequential": [
            [
             0,
             "#0d0887"
            ],
            [
             0.1111111111111111,
             "#46039f"
            ],
            [
             0.2222222222222222,
             "#7201a8"
            ],
            [
             0.3333333333333333,
             "#9c179e"
            ],
            [
             0.4444444444444444,
             "#bd3786"
            ],
            [
             0.5555555555555556,
             "#d8576b"
            ],
            [
             0.6666666666666666,
             "#ed7953"
            ],
            [
             0.7777777777777778,
             "#fb9f3a"
            ],
            [
             0.8888888888888888,
             "#fdca26"
            ],
            [
             1,
             "#f0f921"
            ]
           ],
           "sequentialminus": [
            [
             0,
             "#0d0887"
            ],
            [
             0.1111111111111111,
             "#46039f"
            ],
            [
             0.2222222222222222,
             "#7201a8"
            ],
            [
             0.3333333333333333,
             "#9c179e"
            ],
            [
             0.4444444444444444,
             "#bd3786"
            ],
            [
             0.5555555555555556,
             "#d8576b"
            ],
            [
             0.6666666666666666,
             "#ed7953"
            ],
            [
             0.7777777777777778,
             "#fb9f3a"
            ],
            [
             0.8888888888888888,
             "#fdca26"
            ],
            [
             1,
             "#f0f921"
            ]
           ]
          },
          "colorway": [
           "#636efa",
           "#EF553B",
           "#00cc96",
           "#ab63fa",
           "#FFA15A",
           "#19d3f3",
           "#FF6692",
           "#B6E880",
           "#FF97FF",
           "#FECB52"
          ],
          "font": {
           "color": "#2a3f5f"
          },
          "geo": {
           "bgcolor": "white",
           "lakecolor": "white",
           "landcolor": "#E5ECF6",
           "showlakes": true,
           "showland": true,
           "subunitcolor": "white"
          },
          "hoverlabel": {
           "align": "left"
          },
          "hovermode": "closest",
          "mapbox": {
           "style": "light"
          },
          "paper_bgcolor": "white",
          "plot_bgcolor": "#E5ECF6",
          "polar": {
           "angularaxis": {
            "gridcolor": "white",
            "linecolor": "white",
            "ticks": ""
           },
           "bgcolor": "#E5ECF6",
           "radialaxis": {
            "gridcolor": "white",
            "linecolor": "white",
            "ticks": ""
           }
          },
          "scene": {
           "xaxis": {
            "backgroundcolor": "#E5ECF6",
            "gridcolor": "white",
            "gridwidth": 2,
            "linecolor": "white",
            "showbackground": true,
            "ticks": "",
            "zerolinecolor": "white"
           },
           "yaxis": {
            "backgroundcolor": "#E5ECF6",
            "gridcolor": "white",
            "gridwidth": 2,
            "linecolor": "white",
            "showbackground": true,
            "ticks": "",
            "zerolinecolor": "white"
           },
           "zaxis": {
            "backgroundcolor": "#E5ECF6",
            "gridcolor": "white",
            "gridwidth": 2,
            "linecolor": "white",
            "showbackground": true,
            "ticks": "",
            "zerolinecolor": "white"
           }
          },
          "shapedefaults": {
           "line": {
            "color": "#2a3f5f"
           }
          },
          "ternary": {
           "aaxis": {
            "gridcolor": "white",
            "linecolor": "white",
            "ticks": ""
           },
           "baxis": {
            "gridcolor": "white",
            "linecolor": "white",
            "ticks": ""
           },
           "bgcolor": "#E5ECF6",
           "caxis": {
            "gridcolor": "white",
            "linecolor": "white",
            "ticks": ""
           }
          },
          "title": {
           "x": 0.05
          },
          "xaxis": {
           "automargin": true,
           "gridcolor": "white",
           "linecolor": "white",
           "ticks": "",
           "title": {
            "standoff": 15
           },
           "zerolinecolor": "white",
           "zerolinewidth": 2
          },
          "yaxis": {
           "automargin": true,
           "gridcolor": "white",
           "linecolor": "white",
           "ticks": "",
           "title": {
            "standoff": 15
           },
           "zerolinecolor": "white",
           "zerolinewidth": 2
          }
         }
        },
        "title": {
         "text": "Year Wise Driver and Watch Dogs Series"
        },
        "xaxis": {
         "anchor": "y",
         "domain": [
          0,
          1
         ],
         "title": {
          "text": "Global_Sales"
         }
        },
        "yaxis": {
         "anchor": "x",
         "domain": [
          0,
          1
         ],
         "title": {
          "text": "Year"
         }
        }
       }
      },
      "text/html": [
       "<div>                            <div id=\"4d2c50d5-7f6e-4f57-9a06-d518a30849a6\" class=\"plotly-graph-div\" style=\"height:525px; width:100%;\"></div>            <script type=\"text/javascript\">                require([\"plotly\"], function(Plotly) {                    window.PLOTLYENV=window.PLOTLYENV || {};                                    if (document.getElementById(\"4d2c50d5-7f6e-4f57-9a06-d518a30849a6\")) {                    Plotly.newPlot(                        \"4d2c50d5-7f6e-4f57-9a06-d518a30849a6\",                        [{\"customdata\": [[\"Driv3r\"], [\"Driv3r\"]], \"hovertemplate\": \"Name=%{customdata[0]}<br>Global_Sales=%{marker.size}<br>Year=%{y}<extra></extra>\", \"legendgroup\": \"Driv3r\", \"marker\": {\"color\": \"#636efa\", \"size\": [1.99, 0.03], \"sizemode\": \"area\", \"sizeref\": 0.023724999999999996, \"symbol\": \"circle\"}, \"mode\": \"markers\", \"name\": \"Driv3r\", \"orientation\": \"v\", \"showlegend\": true, \"type\": \"scatter\", \"x\": [1.99, 0.03], \"xaxis\": \"x\", \"y\": [2004.0, 2005.0], \"yaxis\": \"y\"}, {\"customdata\": [[\"Driver\"]], \"hovertemplate\": \"Name=%{customdata[0]}<br>Global_Sales=%{marker.size}<br>Year=%{y}<extra></extra>\", \"legendgroup\": \"Driver\", \"marker\": {\"color\": \"#EF553B\", \"size\": [6.27], \"sizemode\": \"area\", \"sizeref\": 0.023724999999999996, \"symbol\": \"circle\"}, \"mode\": \"markers\", \"name\": \"Driver\", \"orientation\": \"v\", \"showlegend\": true, \"type\": \"scatter\", \"x\": [6.27], \"xaxis\": \"x\", \"y\": [1999.0], \"yaxis\": \"y\"}, {\"customdata\": [[\"Driver '76\"]], \"hovertemplate\": \"Name=%{customdata[0]}<br>Global_Sales=%{marker.size}<br>Year=%{y}<extra></extra>\", \"legendgroup\": \"Driver '76\", \"marker\": {\"color\": \"#00cc96\", \"size\": [0.25], \"sizemode\": \"area\", \"sizeref\": 0.023724999999999996, \"symbol\": \"circle\"}, \"mode\": \"markers\", \"name\": \"Driver '76\", \"orientation\": \"v\", \"showlegend\": true, \"type\": \"scatter\", \"x\": [0.25], \"xaxis\": \"x\", \"y\": [2007.0], \"yaxis\": \"y\"}, {\"customdata\": [[\"Driver 2\"]], \"hovertemplate\": \"Name=%{customdata[0]}<br>Global_Sales=%{marker.size}<br>Year=%{y}<extra></extra>\", \"legendgroup\": \"Driver 2\", \"marker\": {\"color\": \"#ab63fa\", \"size\": [4.73], \"sizemode\": \"area\", \"sizeref\": 0.023724999999999996, \"symbol\": \"circle\"}, \"mode\": \"markers\", \"name\": \"Driver 2\", \"orientation\": \"v\", \"showlegend\": true, \"type\": \"scatter\", \"x\": [4.73], \"xaxis\": \"x\", \"y\": [2000.0], \"yaxis\": \"y\"}, {\"customdata\": [[\"Driver 2 Advance\"]], \"hovertemplate\": \"Name=%{customdata[0]}<br>Global_Sales=%{marker.size}<br>Year=%{y}<extra></extra>\", \"legendgroup\": \"Driver 2 Advance\", \"marker\": {\"color\": \"#FFA15A\", \"size\": [0.34], \"sizemode\": \"area\", \"sizeref\": 0.023724999999999996, \"symbol\": \"circle\"}, \"mode\": \"markers\", \"name\": \"Driver 2 Advance\", \"orientation\": \"v\", \"showlegend\": true, \"type\": \"scatter\", \"x\": [0.34], \"xaxis\": \"x\", \"y\": [2002.0], \"yaxis\": \"y\"}, {\"customdata\": [[\"Driver: Parallel Lines\"], [\"Driver: Parallel Lines\"]], \"hovertemplate\": \"Name=%{customdata[0]}<br>Global_Sales=%{marker.size}<br>Year=%{y}<extra></extra>\", \"legendgroup\": \"Driver: Parallel Lines\", \"marker\": {\"color\": \"#19d3f3\", \"size\": [0.35000000000000003, 0.03], \"sizemode\": \"area\", \"sizeref\": 0.023724999999999996, \"symbol\": \"circle\"}, \"mode\": \"markers\", \"name\": \"Driver: Parallel Lines\", \"orientation\": \"v\", \"showlegend\": true, \"type\": \"scatter\", \"x\": [0.35000000000000003, 0.03], \"xaxis\": \"x\", \"y\": [2006.0, 2007.0], \"yaxis\": \"y\"}, {\"customdata\": [[\"Driver: Renegade\"]], \"hovertemplate\": \"Name=%{customdata[0]}<br>Global_Sales=%{marker.size}<br>Year=%{y}<extra></extra>\", \"legendgroup\": \"Driver: Renegade\", \"marker\": {\"color\": \"#FF6692\", \"size\": [0.09], \"sizemode\": \"area\", \"sizeref\": 0.023724999999999996, \"symbol\": \"circle\"}, \"mode\": \"markers\", \"name\": \"Driver: Renegade\", \"orientation\": \"v\", \"showlegend\": true, \"type\": \"scatter\", \"x\": [0.09], \"xaxis\": \"x\", \"y\": [2011.0], \"yaxis\": \"y\"}, {\"customdata\": [[\"Driver: San Francisco\"]], \"hovertemplate\": \"Name=%{customdata[0]}<br>Global_Sales=%{marker.size}<br>Year=%{y}<extra></extra>\", \"legendgroup\": \"Driver: San Francisco\", \"marker\": {\"color\": \"#B6E880\", \"size\": [2.06], \"sizemode\": \"area\", \"sizeref\": 0.023724999999999996, \"symbol\": \"circle\"}, \"mode\": \"markers\", \"name\": \"Driver: San Francisco\", \"orientation\": \"v\", \"showlegend\": true, \"type\": \"scatter\", \"x\": [2.06], \"xaxis\": \"x\", \"y\": [2011.0], \"yaxis\": \"y\"}, {\"customdata\": [[\"Drivers Ed Portable\"]], \"hovertemplate\": \"Name=%{customdata[0]}<br>Global_Sales=%{marker.size}<br>Year=%{y}<extra></extra>\", \"legendgroup\": \"Drivers Ed Portable\", \"marker\": {\"color\": \"#FF97FF\", \"size\": [0.05], \"sizemode\": \"area\", \"sizeref\": 0.023724999999999996, \"symbol\": \"circle\"}, \"mode\": \"markers\", \"name\": \"Drivers Ed Portable\", \"orientation\": \"v\", \"showlegend\": true, \"type\": \"scatter\", \"x\": [0.05], \"xaxis\": \"x\", \"y\": [2008.0], \"yaxis\": \"y\"}, {\"customdata\": [[\"Watch Dogs\"]], \"hovertemplate\": \"Name=%{customdata[0]}<br>Global_Sales=%{marker.size}<br>Year=%{y}<extra></extra>\", \"legendgroup\": \"Watch Dogs\", \"marker\": {\"color\": \"#FECB52\", \"size\": [9.489999999999998], \"sizemode\": \"area\", \"sizeref\": 0.023724999999999996, \"symbol\": \"circle\"}, \"mode\": \"markers\", \"name\": \"Watch Dogs\", \"orientation\": \"v\", \"showlegend\": true, \"type\": \"scatter\", \"x\": [9.489999999999998], \"xaxis\": \"x\", \"y\": [2014.0], \"yaxis\": \"y\"}],                        {\"legend\": {\"itemsizing\": \"constant\", \"title\": {\"text\": \"Name\"}, \"tracegroupgap\": 0}, \"template\": {\"data\": {\"bar\": [{\"error_x\": {\"color\": \"#2a3f5f\"}, \"error_y\": {\"color\": \"#2a3f5f\"}, \"marker\": {\"line\": {\"color\": \"#E5ECF6\", \"width\": 0.5}}, \"type\": \"bar\"}], \"barpolar\": [{\"marker\": {\"line\": {\"color\": \"#E5ECF6\", \"width\": 0.5}}, \"type\": \"barpolar\"}], \"carpet\": [{\"aaxis\": {\"endlinecolor\": \"#2a3f5f\", \"gridcolor\": \"white\", \"linecolor\": \"white\", \"minorgridcolor\": \"white\", \"startlinecolor\": \"#2a3f5f\"}, \"baxis\": {\"endlinecolor\": \"#2a3f5f\", \"gridcolor\": \"white\", \"linecolor\": \"white\", \"minorgridcolor\": \"white\", \"startlinecolor\": \"#2a3f5f\"}, \"type\": \"carpet\"}], \"choropleth\": [{\"colorbar\": {\"outlinewidth\": 0, \"ticks\": \"\"}, \"type\": \"choropleth\"}], \"contour\": [{\"colorbar\": {\"outlinewidth\": 0, \"ticks\": \"\"}, \"colorscale\": [[0.0, \"#0d0887\"], [0.1111111111111111, \"#46039f\"], [0.2222222222222222, \"#7201a8\"], [0.3333333333333333, \"#9c179e\"], [0.4444444444444444, \"#bd3786\"], [0.5555555555555556, \"#d8576b\"], [0.6666666666666666, \"#ed7953\"], [0.7777777777777778, \"#fb9f3a\"], [0.8888888888888888, \"#fdca26\"], [1.0, \"#f0f921\"]], \"type\": \"contour\"}], \"contourcarpet\": [{\"colorbar\": {\"outlinewidth\": 0, \"ticks\": \"\"}, \"type\": \"contourcarpet\"}], \"heatmap\": [{\"colorbar\": {\"outlinewidth\": 0, \"ticks\": \"\"}, \"colorscale\": [[0.0, \"#0d0887\"], [0.1111111111111111, \"#46039f\"], [0.2222222222222222, \"#7201a8\"], [0.3333333333333333, \"#9c179e\"], [0.4444444444444444, \"#bd3786\"], [0.5555555555555556, \"#d8576b\"], [0.6666666666666666, \"#ed7953\"], [0.7777777777777778, \"#fb9f3a\"], [0.8888888888888888, \"#fdca26\"], [1.0, \"#f0f921\"]], \"type\": \"heatmap\"}], \"heatmapgl\": [{\"colorbar\": {\"outlinewidth\": 0, \"ticks\": \"\"}, \"colorscale\": [[0.0, \"#0d0887\"], [0.1111111111111111, \"#46039f\"], [0.2222222222222222, \"#7201a8\"], [0.3333333333333333, \"#9c179e\"], [0.4444444444444444, \"#bd3786\"], [0.5555555555555556, \"#d8576b\"], [0.6666666666666666, \"#ed7953\"], [0.7777777777777778, \"#fb9f3a\"], [0.8888888888888888, \"#fdca26\"], [1.0, \"#f0f921\"]], \"type\": \"heatmapgl\"}], \"histogram\": [{\"marker\": {\"colorbar\": {\"outlinewidth\": 0, \"ticks\": \"\"}}, \"type\": \"histogram\"}], \"histogram2d\": [{\"colorbar\": {\"outlinewidth\": 0, \"ticks\": \"\"}, \"colorscale\": [[0.0, \"#0d0887\"], [0.1111111111111111, \"#46039f\"], [0.2222222222222222, \"#7201a8\"], [0.3333333333333333, \"#9c179e\"], [0.4444444444444444, \"#bd3786\"], [0.5555555555555556, \"#d8576b\"], [0.6666666666666666, \"#ed7953\"], [0.7777777777777778, \"#fb9f3a\"], [0.8888888888888888, \"#fdca26\"], [1.0, \"#f0f921\"]], \"type\": \"histogram2d\"}], \"histogram2dcontour\": [{\"colorbar\": {\"outlinewidth\": 0, \"ticks\": \"\"}, \"colorscale\": [[0.0, \"#0d0887\"], [0.1111111111111111, \"#46039f\"], [0.2222222222222222, \"#7201a8\"], [0.3333333333333333, \"#9c179e\"], [0.4444444444444444, \"#bd3786\"], [0.5555555555555556, \"#d8576b\"], [0.6666666666666666, \"#ed7953\"], [0.7777777777777778, \"#fb9f3a\"], [0.8888888888888888, \"#fdca26\"], [1.0, \"#f0f921\"]], \"type\": \"histogram2dcontour\"}], \"mesh3d\": [{\"colorbar\": {\"outlinewidth\": 0, \"ticks\": \"\"}, \"type\": \"mesh3d\"}], \"parcoords\": [{\"line\": {\"colorbar\": {\"outlinewidth\": 0, \"ticks\": \"\"}}, \"type\": \"parcoords\"}], \"pie\": [{\"automargin\": true, \"type\": \"pie\"}], \"scatter\": [{\"marker\": {\"colorbar\": {\"outlinewidth\": 0, \"ticks\": \"\"}}, \"type\": \"scatter\"}], \"scatter3d\": [{\"line\": {\"colorbar\": {\"outlinewidth\": 0, \"ticks\": \"\"}}, \"marker\": {\"colorbar\": {\"outlinewidth\": 0, \"ticks\": \"\"}}, \"type\": \"scatter3d\"}], \"scattercarpet\": [{\"marker\": {\"colorbar\": {\"outlinewidth\": 0, \"ticks\": \"\"}}, \"type\": \"scattercarpet\"}], \"scattergeo\": [{\"marker\": {\"colorbar\": {\"outlinewidth\": 0, \"ticks\": \"\"}}, \"type\": \"scattergeo\"}], \"scattergl\": [{\"marker\": {\"colorbar\": {\"outlinewidth\": 0, \"ticks\": \"\"}}, \"type\": \"scattergl\"}], \"scattermapbox\": [{\"marker\": {\"colorbar\": {\"outlinewidth\": 0, \"ticks\": \"\"}}, \"type\": \"scattermapbox\"}], \"scatterpolar\": [{\"marker\": {\"colorbar\": {\"outlinewidth\": 0, \"ticks\": \"\"}}, \"type\": \"scatterpolar\"}], \"scatterpolargl\": [{\"marker\": {\"colorbar\": {\"outlinewidth\": 0, \"ticks\": \"\"}}, \"type\": \"scatterpolargl\"}], \"scatterternary\": [{\"marker\": {\"colorbar\": {\"outlinewidth\": 0, \"ticks\": \"\"}}, \"type\": \"scatterternary\"}], \"surface\": [{\"colorbar\": {\"outlinewidth\": 0, \"ticks\": \"\"}, \"colorscale\": [[0.0, \"#0d0887\"], [0.1111111111111111, \"#46039f\"], [0.2222222222222222, \"#7201a8\"], [0.3333333333333333, \"#9c179e\"], [0.4444444444444444, \"#bd3786\"], [0.5555555555555556, \"#d8576b\"], [0.6666666666666666, \"#ed7953\"], [0.7777777777777778, \"#fb9f3a\"], [0.8888888888888888, \"#fdca26\"], [1.0, \"#f0f921\"]], \"type\": \"surface\"}], \"table\": [{\"cells\": {\"fill\": {\"color\": \"#EBF0F8\"}, \"line\": {\"color\": \"white\"}}, \"header\": {\"fill\": {\"color\": \"#C8D4E3\"}, \"line\": {\"color\": \"white\"}}, \"type\": \"table\"}]}, \"layout\": {\"annotationdefaults\": {\"arrowcolor\": \"#2a3f5f\", \"arrowhead\": 0, \"arrowwidth\": 1}, \"autotypenumbers\": \"strict\", \"coloraxis\": {\"colorbar\": {\"outlinewidth\": 0, \"ticks\": \"\"}}, \"colorscale\": {\"diverging\": [[0, \"#8e0152\"], [0.1, \"#c51b7d\"], [0.2, \"#de77ae\"], [0.3, \"#f1b6da\"], [0.4, \"#fde0ef\"], [0.5, \"#f7f7f7\"], [0.6, \"#e6f5d0\"], [0.7, \"#b8e186\"], [0.8, \"#7fbc41\"], [0.9, \"#4d9221\"], [1, \"#276419\"]], \"sequential\": [[0.0, \"#0d0887\"], [0.1111111111111111, \"#46039f\"], [0.2222222222222222, \"#7201a8\"], [0.3333333333333333, \"#9c179e\"], [0.4444444444444444, \"#bd3786\"], [0.5555555555555556, \"#d8576b\"], [0.6666666666666666, \"#ed7953\"], [0.7777777777777778, \"#fb9f3a\"], [0.8888888888888888, \"#fdca26\"], [1.0, \"#f0f921\"]], \"sequentialminus\": [[0.0, \"#0d0887\"], [0.1111111111111111, \"#46039f\"], [0.2222222222222222, \"#7201a8\"], [0.3333333333333333, \"#9c179e\"], [0.4444444444444444, \"#bd3786\"], [0.5555555555555556, \"#d8576b\"], [0.6666666666666666, \"#ed7953\"], [0.7777777777777778, \"#fb9f3a\"], [0.8888888888888888, \"#fdca26\"], [1.0, \"#f0f921\"]]}, \"colorway\": [\"#636efa\", \"#EF553B\", \"#00cc96\", \"#ab63fa\", \"#FFA15A\", \"#19d3f3\", \"#FF6692\", \"#B6E880\", \"#FF97FF\", \"#FECB52\"], \"font\": {\"color\": \"#2a3f5f\"}, \"geo\": {\"bgcolor\": \"white\", \"lakecolor\": \"white\", \"landcolor\": \"#E5ECF6\", \"showlakes\": true, \"showland\": true, \"subunitcolor\": \"white\"}, \"hoverlabel\": {\"align\": \"left\"}, \"hovermode\": \"closest\", \"mapbox\": {\"style\": \"light\"}, \"paper_bgcolor\": \"white\", \"plot_bgcolor\": \"#E5ECF6\", \"polar\": {\"angularaxis\": {\"gridcolor\": \"white\", \"linecolor\": \"white\", \"ticks\": \"\"}, \"bgcolor\": \"#E5ECF6\", \"radialaxis\": {\"gridcolor\": \"white\", \"linecolor\": \"white\", \"ticks\": \"\"}}, \"scene\": {\"xaxis\": {\"backgroundcolor\": \"#E5ECF6\", \"gridcolor\": \"white\", \"gridwidth\": 2, \"linecolor\": \"white\", \"showbackground\": true, \"ticks\": \"\", \"zerolinecolor\": \"white\"}, \"yaxis\": {\"backgroundcolor\": \"#E5ECF6\", \"gridcolor\": \"white\", \"gridwidth\": 2, \"linecolor\": \"white\", \"showbackground\": true, \"ticks\": \"\", \"zerolinecolor\": \"white\"}, \"zaxis\": {\"backgroundcolor\": \"#E5ECF6\", \"gridcolor\": \"white\", \"gridwidth\": 2, \"linecolor\": \"white\", \"showbackground\": true, \"ticks\": \"\", \"zerolinecolor\": \"white\"}}, \"shapedefaults\": {\"line\": {\"color\": \"#2a3f5f\"}}, \"ternary\": {\"aaxis\": {\"gridcolor\": \"white\", \"linecolor\": \"white\", \"ticks\": \"\"}, \"baxis\": {\"gridcolor\": \"white\", \"linecolor\": \"white\", \"ticks\": \"\"}, \"bgcolor\": \"#E5ECF6\", \"caxis\": {\"gridcolor\": \"white\", \"linecolor\": \"white\", \"ticks\": \"\"}}, \"title\": {\"x\": 0.05}, \"xaxis\": {\"automargin\": true, \"gridcolor\": \"white\", \"linecolor\": \"white\", \"ticks\": \"\", \"title\": {\"standoff\": 15}, \"zerolinecolor\": \"white\", \"zerolinewidth\": 2}, \"yaxis\": {\"automargin\": true, \"gridcolor\": \"white\", \"linecolor\": \"white\", \"ticks\": \"\", \"title\": {\"standoff\": 15}, \"zerolinecolor\": \"white\", \"zerolinewidth\": 2}}}, \"title\": {\"text\": \"Year Wise Driver and Watch Dogs Series\"}, \"xaxis\": {\"anchor\": \"y\", \"domain\": [0.0, 1.0], \"title\": {\"text\": \"Global_Sales\"}}, \"yaxis\": {\"anchor\": \"x\", \"domain\": [0.0, 1.0], \"title\": {\"text\": \"Year\"}}},                        {\"responsive\": true}                    ).then(function(){\n",
       "                            \n",
       "var gd = document.getElementById('4d2c50d5-7f6e-4f57-9a06-d518a30849a6');\n",
       "var x = new MutationObserver(function (mutations, observer) {{\n",
       "        var display = window.getComputedStyle(gd).display;\n",
       "        if (!display || display === 'none') {{\n",
       "            console.log([gd, 'removed!']);\n",
       "            Plotly.purge(gd);\n",
       "            observer.disconnect();\n",
       "        }}\n",
       "}});\n",
       "\n",
       "// Listen for the removal of the full notebook cells\n",
       "var notebookContainer = gd.closest('#notebook-container');\n",
       "if (notebookContainer) {{\n",
       "    x.observe(notebookContainer, {childList: true});\n",
       "}}\n",
       "\n",
       "// Listen for the clearing of the current output cell\n",
       "var outputEl = gd.closest('.output');\n",
       "if (outputEl) {{\n",
       "    x.observe(outputEl, {childList: true});\n",
       "}}\n",
       "\n",
       "                        })                };                });            </script>        </div>"
      ]
     },
     "metadata": {},
     "output_type": "display_data"
    }
   ],
   "source": [
    "driver_sales_inyears = Driver_and_WatchDogs.groupby(['Name','Year'], as_index=False)['Global_Sales'].sum()\n",
    "\n",
    "fig = px.scatter(driver_sales_inyears, x=\"Global_Sales\", y=\"Year\", color=\"Name\", size=\"Global_Sales\",\n",
    "                hover_data=[\"Name\"], title=\"Year Wise Driver and Watch Dogs Series\",\n",
    "                labels={\"x\": \"Global_Sales\", \"y\": \"Year\"})\n",
    "fig.show()"
   ]
  },
  {
   "cell_type": "code",
   "execution_count": 14,
   "metadata": {},
   "outputs": [
    {
     "data": {
      "application/vnd.plotly.v1+json": {
       "config": {
        "plotlyServerURL": "https://plot.ly"
       },
       "data": [
        {
         "branchvalues": "total",
         "domain": {
          "x": [
           0,
           1
          ],
          "y": [
           0,
           1
          ]
         },
         "hovertemplate": "labels=%{label}<br>Global_Sales=%{value}<br>parent=%{parent}<br>id=%{id}<extra></extra>",
         "ids": [
          "Atari/Racing/Driv3r",
          "GT Interactive/Action/Driver",
          "Ubisoft/Racing/Driver '76",
          "Atari/Action/Driver 2",
          "Atari/Action/Driver 2 Advance",
          "Atari/Racing/Driver: Parallel Lines",
          "Ubisoft/Racing/Driver: Parallel Lines",
          "Ubisoft/Racing/Driver: Renegade",
          "Ubisoft/Racing/Driver: San Francisco",
          "JoWood Productions/Misc/Drivers Ed Portable",
          "Ubisoft/Action/Watch Dogs",
          "Atari/Action",
          "GT Interactive/Action",
          "Ubisoft/Action",
          "JoWood Productions/Misc",
          "Atari/Racing",
          "Ubisoft/Racing",
          "Atari",
          "GT Interactive",
          "JoWood Productions",
          "Ubisoft"
         ],
         "labels": [
          "Driv3r",
          "Driver",
          "Driver '76",
          "Driver 2",
          "Driver 2 Advance",
          "Driver: Parallel Lines",
          "Driver: Parallel Lines",
          "Driver: Renegade",
          "Driver: San Francisco",
          "Drivers Ed Portable",
          "Watch Dogs",
          "Action",
          "Action",
          "Action",
          "Misc",
          "Racing",
          "Racing",
          "Atari",
          "GT Interactive",
          "JoWood Productions",
          "Ubisoft"
         ],
         "name": "",
         "parents": [
          "Atari/Racing",
          "GT Interactive/Action",
          "Ubisoft/Racing",
          "Atari/Action",
          "Atari/Action",
          "Atari/Racing",
          "Ubisoft/Racing",
          "Ubisoft/Racing",
          "Ubisoft/Racing",
          "JoWood Productions/Misc",
          "Ubisoft/Action",
          "Atari",
          "GT Interactive",
          "Ubisoft",
          "JoWood Productions",
          "Atari",
          "Ubisoft",
          "",
          "",
          "",
          ""
         ],
         "type": "sunburst",
         "values": [
          2.02,
          6.27,
          0.25,
          4.73,
          0.34,
          0.35000000000000003,
          0.03,
          0.09,
          2.06,
          0.05,
          9.489999999999998,
          5.07,
          6.27,
          9.489999999999998,
          0.05,
          2.3699999999999997,
          2.4299999999999997,
          7.44,
          6.27,
          0.05,
          11.92
         ]
        }
       ],
       "layout": {
        "grid": {
         "columns": 2,
         "rows": 2
        },
        "legend": {
         "tracegroupgap": 0
        },
        "margin": {
         "b": 5,
         "l": 2,
         "r": 2,
         "t": 40
        },
        "template": {
         "data": {
          "bar": [
           {
            "error_x": {
             "color": "#2a3f5f"
            },
            "error_y": {
             "color": "#2a3f5f"
            },
            "marker": {
             "line": {
              "color": "#E5ECF6",
              "width": 0.5
             }
            },
            "type": "bar"
           }
          ],
          "barpolar": [
           {
            "marker": {
             "line": {
              "color": "#E5ECF6",
              "width": 0.5
             }
            },
            "type": "barpolar"
           }
          ],
          "carpet": [
           {
            "aaxis": {
             "endlinecolor": "#2a3f5f",
             "gridcolor": "white",
             "linecolor": "white",
             "minorgridcolor": "white",
             "startlinecolor": "#2a3f5f"
            },
            "baxis": {
             "endlinecolor": "#2a3f5f",
             "gridcolor": "white",
             "linecolor": "white",
             "minorgridcolor": "white",
             "startlinecolor": "#2a3f5f"
            },
            "type": "carpet"
           }
          ],
          "choropleth": [
           {
            "colorbar": {
             "outlinewidth": 0,
             "ticks": ""
            },
            "type": "choropleth"
           }
          ],
          "contour": [
           {
            "colorbar": {
             "outlinewidth": 0,
             "ticks": ""
            },
            "colorscale": [
             [
              0,
              "#0d0887"
             ],
             [
              0.1111111111111111,
              "#46039f"
             ],
             [
              0.2222222222222222,
              "#7201a8"
             ],
             [
              0.3333333333333333,
              "#9c179e"
             ],
             [
              0.4444444444444444,
              "#bd3786"
             ],
             [
              0.5555555555555556,
              "#d8576b"
             ],
             [
              0.6666666666666666,
              "#ed7953"
             ],
             [
              0.7777777777777778,
              "#fb9f3a"
             ],
             [
              0.8888888888888888,
              "#fdca26"
             ],
             [
              1,
              "#f0f921"
             ]
            ],
            "type": "contour"
           }
          ],
          "contourcarpet": [
           {
            "colorbar": {
             "outlinewidth": 0,
             "ticks": ""
            },
            "type": "contourcarpet"
           }
          ],
          "heatmap": [
           {
            "colorbar": {
             "outlinewidth": 0,
             "ticks": ""
            },
            "colorscale": [
             [
              0,
              "#0d0887"
             ],
             [
              0.1111111111111111,
              "#46039f"
             ],
             [
              0.2222222222222222,
              "#7201a8"
             ],
             [
              0.3333333333333333,
              "#9c179e"
             ],
             [
              0.4444444444444444,
              "#bd3786"
             ],
             [
              0.5555555555555556,
              "#d8576b"
             ],
             [
              0.6666666666666666,
              "#ed7953"
             ],
             [
              0.7777777777777778,
              "#fb9f3a"
             ],
             [
              0.8888888888888888,
              "#fdca26"
             ],
             [
              1,
              "#f0f921"
             ]
            ],
            "type": "heatmap"
           }
          ],
          "heatmapgl": [
           {
            "colorbar": {
             "outlinewidth": 0,
             "ticks": ""
            },
            "colorscale": [
             [
              0,
              "#0d0887"
             ],
             [
              0.1111111111111111,
              "#46039f"
             ],
             [
              0.2222222222222222,
              "#7201a8"
             ],
             [
              0.3333333333333333,
              "#9c179e"
             ],
             [
              0.4444444444444444,
              "#bd3786"
             ],
             [
              0.5555555555555556,
              "#d8576b"
             ],
             [
              0.6666666666666666,
              "#ed7953"
             ],
             [
              0.7777777777777778,
              "#fb9f3a"
             ],
             [
              0.8888888888888888,
              "#fdca26"
             ],
             [
              1,
              "#f0f921"
             ]
            ],
            "type": "heatmapgl"
           }
          ],
          "histogram": [
           {
            "marker": {
             "colorbar": {
              "outlinewidth": 0,
              "ticks": ""
             }
            },
            "type": "histogram"
           }
          ],
          "histogram2d": [
           {
            "colorbar": {
             "outlinewidth": 0,
             "ticks": ""
            },
            "colorscale": [
             [
              0,
              "#0d0887"
             ],
             [
              0.1111111111111111,
              "#46039f"
             ],
             [
              0.2222222222222222,
              "#7201a8"
             ],
             [
              0.3333333333333333,
              "#9c179e"
             ],
             [
              0.4444444444444444,
              "#bd3786"
             ],
             [
              0.5555555555555556,
              "#d8576b"
             ],
             [
              0.6666666666666666,
              "#ed7953"
             ],
             [
              0.7777777777777778,
              "#fb9f3a"
             ],
             [
              0.8888888888888888,
              "#fdca26"
             ],
             [
              1,
              "#f0f921"
             ]
            ],
            "type": "histogram2d"
           }
          ],
          "histogram2dcontour": [
           {
            "colorbar": {
             "outlinewidth": 0,
             "ticks": ""
            },
            "colorscale": [
             [
              0,
              "#0d0887"
             ],
             [
              0.1111111111111111,
              "#46039f"
             ],
             [
              0.2222222222222222,
              "#7201a8"
             ],
             [
              0.3333333333333333,
              "#9c179e"
             ],
             [
              0.4444444444444444,
              "#bd3786"
             ],
             [
              0.5555555555555556,
              "#d8576b"
             ],
             [
              0.6666666666666666,
              "#ed7953"
             ],
             [
              0.7777777777777778,
              "#fb9f3a"
             ],
             [
              0.8888888888888888,
              "#fdca26"
             ],
             [
              1,
              "#f0f921"
             ]
            ],
            "type": "histogram2dcontour"
           }
          ],
          "mesh3d": [
           {
            "colorbar": {
             "outlinewidth": 0,
             "ticks": ""
            },
            "type": "mesh3d"
           }
          ],
          "parcoords": [
           {
            "line": {
             "colorbar": {
              "outlinewidth": 0,
              "ticks": ""
             }
            },
            "type": "parcoords"
           }
          ],
          "pie": [
           {
            "automargin": true,
            "type": "pie"
           }
          ],
          "scatter": [
           {
            "marker": {
             "colorbar": {
              "outlinewidth": 0,
              "ticks": ""
             }
            },
            "type": "scatter"
           }
          ],
          "scatter3d": [
           {
            "line": {
             "colorbar": {
              "outlinewidth": 0,
              "ticks": ""
             }
            },
            "marker": {
             "colorbar": {
              "outlinewidth": 0,
              "ticks": ""
             }
            },
            "type": "scatter3d"
           }
          ],
          "scattercarpet": [
           {
            "marker": {
             "colorbar": {
              "outlinewidth": 0,
              "ticks": ""
             }
            },
            "type": "scattercarpet"
           }
          ],
          "scattergeo": [
           {
            "marker": {
             "colorbar": {
              "outlinewidth": 0,
              "ticks": ""
             }
            },
            "type": "scattergeo"
           }
          ],
          "scattergl": [
           {
            "marker": {
             "colorbar": {
              "outlinewidth": 0,
              "ticks": ""
             }
            },
            "type": "scattergl"
           }
          ],
          "scattermapbox": [
           {
            "marker": {
             "colorbar": {
              "outlinewidth": 0,
              "ticks": ""
             }
            },
            "type": "scattermapbox"
           }
          ],
          "scatterpolar": [
           {
            "marker": {
             "colorbar": {
              "outlinewidth": 0,
              "ticks": ""
             }
            },
            "type": "scatterpolar"
           }
          ],
          "scatterpolargl": [
           {
            "marker": {
             "colorbar": {
              "outlinewidth": 0,
              "ticks": ""
             }
            },
            "type": "scatterpolargl"
           }
          ],
          "scatterternary": [
           {
            "marker": {
             "colorbar": {
              "outlinewidth": 0,
              "ticks": ""
             }
            },
            "type": "scatterternary"
           }
          ],
          "surface": [
           {
            "colorbar": {
             "outlinewidth": 0,
             "ticks": ""
            },
            "colorscale": [
             [
              0,
              "#0d0887"
             ],
             [
              0.1111111111111111,
              "#46039f"
             ],
             [
              0.2222222222222222,
              "#7201a8"
             ],
             [
              0.3333333333333333,
              "#9c179e"
             ],
             [
              0.4444444444444444,
              "#bd3786"
             ],
             [
              0.5555555555555556,
              "#d8576b"
             ],
             [
              0.6666666666666666,
              "#ed7953"
             ],
             [
              0.7777777777777778,
              "#fb9f3a"
             ],
             [
              0.8888888888888888,
              "#fdca26"
             ],
             [
              1,
              "#f0f921"
             ]
            ],
            "type": "surface"
           }
          ],
          "table": [
           {
            "cells": {
             "fill": {
              "color": "#EBF0F8"
             },
             "line": {
              "color": "white"
             }
            },
            "header": {
             "fill": {
              "color": "#C8D4E3"
             },
             "line": {
              "color": "white"
             }
            },
            "type": "table"
           }
          ]
         },
         "layout": {
          "annotationdefaults": {
           "arrowcolor": "#2a3f5f",
           "arrowhead": 0,
           "arrowwidth": 1
          },
          "autotypenumbers": "strict",
          "coloraxis": {
           "colorbar": {
            "outlinewidth": 0,
            "ticks": ""
           }
          },
          "colorscale": {
           "diverging": [
            [
             0,
             "#8e0152"
            ],
            [
             0.1,
             "#c51b7d"
            ],
            [
             0.2,
             "#de77ae"
            ],
            [
             0.3,
             "#f1b6da"
            ],
            [
             0.4,
             "#fde0ef"
            ],
            [
             0.5,
             "#f7f7f7"
            ],
            [
             0.6,
             "#e6f5d0"
            ],
            [
             0.7,
             "#b8e186"
            ],
            [
             0.8,
             "#7fbc41"
            ],
            [
             0.9,
             "#4d9221"
            ],
            [
             1,
             "#276419"
            ]
           ],
           "sequential": [
            [
             0,
             "#0d0887"
            ],
            [
             0.1111111111111111,
             "#46039f"
            ],
            [
             0.2222222222222222,
             "#7201a8"
            ],
            [
             0.3333333333333333,
             "#9c179e"
            ],
            [
             0.4444444444444444,
             "#bd3786"
            ],
            [
             0.5555555555555556,
             "#d8576b"
            ],
            [
             0.6666666666666666,
             "#ed7953"
            ],
            [
             0.7777777777777778,
             "#fb9f3a"
            ],
            [
             0.8888888888888888,
             "#fdca26"
            ],
            [
             1,
             "#f0f921"
            ]
           ],
           "sequentialminus": [
            [
             0,
             "#0d0887"
            ],
            [
             0.1111111111111111,
             "#46039f"
            ],
            [
             0.2222222222222222,
             "#7201a8"
            ],
            [
             0.3333333333333333,
             "#9c179e"
            ],
            [
             0.4444444444444444,
             "#bd3786"
            ],
            [
             0.5555555555555556,
             "#d8576b"
            ],
            [
             0.6666666666666666,
             "#ed7953"
            ],
            [
             0.7777777777777778,
             "#fb9f3a"
            ],
            [
             0.8888888888888888,
             "#fdca26"
            ],
            [
             1,
             "#f0f921"
            ]
           ]
          },
          "colorway": [
           "#636efa",
           "#EF553B",
           "#00cc96",
           "#ab63fa",
           "#FFA15A",
           "#19d3f3",
           "#FF6692",
           "#B6E880",
           "#FF97FF",
           "#FECB52"
          ],
          "font": {
           "color": "#2a3f5f"
          },
          "geo": {
           "bgcolor": "white",
           "lakecolor": "white",
           "landcolor": "#E5ECF6",
           "showlakes": true,
           "showland": true,
           "subunitcolor": "white"
          },
          "hoverlabel": {
           "align": "left"
          },
          "hovermode": "closest",
          "mapbox": {
           "style": "light"
          },
          "paper_bgcolor": "white",
          "plot_bgcolor": "#E5ECF6",
          "polar": {
           "angularaxis": {
            "gridcolor": "white",
            "linecolor": "white",
            "ticks": ""
           },
           "bgcolor": "#E5ECF6",
           "radialaxis": {
            "gridcolor": "white",
            "linecolor": "white",
            "ticks": ""
           }
          },
          "scene": {
           "xaxis": {
            "backgroundcolor": "#E5ECF6",
            "gridcolor": "white",
            "gridwidth": 2,
            "linecolor": "white",
            "showbackground": true,
            "ticks": "",
            "zerolinecolor": "white"
           },
           "yaxis": {
            "backgroundcolor": "#E5ECF6",
            "gridcolor": "white",
            "gridwidth": 2,
            "linecolor": "white",
            "showbackground": true,
            "ticks": "",
            "zerolinecolor": "white"
           },
           "zaxis": {
            "backgroundcolor": "#E5ECF6",
            "gridcolor": "white",
            "gridwidth": 2,
            "linecolor": "white",
            "showbackground": true,
            "ticks": "",
            "zerolinecolor": "white"
           }
          },
          "shapedefaults": {
           "line": {
            "color": "#2a3f5f"
           }
          },
          "ternary": {
           "aaxis": {
            "gridcolor": "white",
            "linecolor": "white",
            "ticks": ""
           },
           "baxis": {
            "gridcolor": "white",
            "linecolor": "white",
            "ticks": ""
           },
           "bgcolor": "#E5ECF6",
           "caxis": {
            "gridcolor": "white",
            "linecolor": "white",
            "ticks": ""
           }
          },
          "title": {
           "x": 0.05
          },
          "xaxis": {
           "automargin": true,
           "gridcolor": "white",
           "linecolor": "white",
           "ticks": "",
           "title": {
            "standoff": 15
           },
           "zerolinecolor": "white",
           "zerolinewidth": 2
          },
          "yaxis": {
           "automargin": true,
           "gridcolor": "white",
           "linecolor": "white",
           "ticks": "",
           "title": {
            "standoff": 15
           },
           "zerolinecolor": "white",
           "zerolinewidth": 2
          }
         }
        },
        "title": {
         "text": "Driver and Watch Dogs Series Sales Chart"
        }
       }
      },
      "text/html": [
       "<div>                            <div id=\"9f6cf3f4-bb44-4b8f-9d5b-e34484ef1872\" class=\"plotly-graph-div\" style=\"height:525px; width:100%;\"></div>            <script type=\"text/javascript\">                require([\"plotly\"], function(Plotly) {                    window.PLOTLYENV=window.PLOTLYENV || {};                                    if (document.getElementById(\"9f6cf3f4-bb44-4b8f-9d5b-e34484ef1872\")) {                    Plotly.newPlot(                        \"9f6cf3f4-bb44-4b8f-9d5b-e34484ef1872\",                        [{\"branchvalues\": \"total\", \"domain\": {\"x\": [0.0, 1.0], \"y\": [0.0, 1.0]}, \"hovertemplate\": \"labels=%{label}<br>Global_Sales=%{value}<br>parent=%{parent}<br>id=%{id}<extra></extra>\", \"ids\": [\"Atari/Racing/Driv3r\", \"GT Interactive/Action/Driver\", \"Ubisoft/Racing/Driver '76\", \"Atari/Action/Driver 2\", \"Atari/Action/Driver 2 Advance\", \"Atari/Racing/Driver: Parallel Lines\", \"Ubisoft/Racing/Driver: Parallel Lines\", \"Ubisoft/Racing/Driver: Renegade\", \"Ubisoft/Racing/Driver: San Francisco\", \"JoWood Productions/Misc/Drivers Ed Portable\", \"Ubisoft/Action/Watch Dogs\", \"Atari/Action\", \"GT Interactive/Action\", \"Ubisoft/Action\", \"JoWood Productions/Misc\", \"Atari/Racing\", \"Ubisoft/Racing\", \"Atari\", \"GT Interactive\", \"JoWood Productions\", \"Ubisoft\"], \"labels\": [\"Driv3r\", \"Driver\", \"Driver '76\", \"Driver 2\", \"Driver 2 Advance\", \"Driver: Parallel Lines\", \"Driver: Parallel Lines\", \"Driver: Renegade\", \"Driver: San Francisco\", \"Drivers Ed Portable\", \"Watch Dogs\", \"Action\", \"Action\", \"Action\", \"Misc\", \"Racing\", \"Racing\", \"Atari\", \"GT Interactive\", \"JoWood Productions\", \"Ubisoft\"], \"name\": \"\", \"parents\": [\"Atari/Racing\", \"GT Interactive/Action\", \"Ubisoft/Racing\", \"Atari/Action\", \"Atari/Action\", \"Atari/Racing\", \"Ubisoft/Racing\", \"Ubisoft/Racing\", \"Ubisoft/Racing\", \"JoWood Productions/Misc\", \"Ubisoft/Action\", \"Atari\", \"GT Interactive\", \"Ubisoft\", \"JoWood Productions\", \"Atari\", \"Ubisoft\", \"\", \"\", \"\", \"\"], \"type\": \"sunburst\", \"values\": [2.02, 6.27, 0.25, 4.73, 0.34, 0.35000000000000003, 0.03, 0.09, 2.06, 0.05, 9.489999999999998, 5.07, 6.27, 9.489999999999998, 0.05, 2.3699999999999997, 2.4299999999999997, 7.44, 6.27, 0.05, 11.92]}],                        {\"grid\": {\"columns\": 2, \"rows\": 2}, \"legend\": {\"tracegroupgap\": 0}, \"margin\": {\"b\": 5, \"l\": 2, \"r\": 2, \"t\": 40}, \"template\": {\"data\": {\"bar\": [{\"error_x\": {\"color\": \"#2a3f5f\"}, \"error_y\": {\"color\": \"#2a3f5f\"}, \"marker\": {\"line\": {\"color\": \"#E5ECF6\", \"width\": 0.5}}, \"type\": \"bar\"}], \"barpolar\": [{\"marker\": {\"line\": {\"color\": \"#E5ECF6\", \"width\": 0.5}}, \"type\": \"barpolar\"}], \"carpet\": [{\"aaxis\": {\"endlinecolor\": \"#2a3f5f\", \"gridcolor\": \"white\", \"linecolor\": \"white\", \"minorgridcolor\": \"white\", \"startlinecolor\": \"#2a3f5f\"}, \"baxis\": {\"endlinecolor\": \"#2a3f5f\", \"gridcolor\": \"white\", \"linecolor\": \"white\", \"minorgridcolor\": \"white\", \"startlinecolor\": \"#2a3f5f\"}, \"type\": \"carpet\"}], \"choropleth\": [{\"colorbar\": {\"outlinewidth\": 0, \"ticks\": \"\"}, \"type\": \"choropleth\"}], \"contour\": [{\"colorbar\": {\"outlinewidth\": 0, \"ticks\": \"\"}, \"colorscale\": [[0.0, \"#0d0887\"], [0.1111111111111111, \"#46039f\"], [0.2222222222222222, \"#7201a8\"], [0.3333333333333333, \"#9c179e\"], [0.4444444444444444, \"#bd3786\"], [0.5555555555555556, \"#d8576b\"], [0.6666666666666666, \"#ed7953\"], [0.7777777777777778, \"#fb9f3a\"], [0.8888888888888888, \"#fdca26\"], [1.0, \"#f0f921\"]], \"type\": \"contour\"}], \"contourcarpet\": [{\"colorbar\": {\"outlinewidth\": 0, \"ticks\": \"\"}, \"type\": \"contourcarpet\"}], \"heatmap\": [{\"colorbar\": {\"outlinewidth\": 0, \"ticks\": \"\"}, \"colorscale\": [[0.0, \"#0d0887\"], [0.1111111111111111, \"#46039f\"], [0.2222222222222222, \"#7201a8\"], [0.3333333333333333, \"#9c179e\"], [0.4444444444444444, \"#bd3786\"], [0.5555555555555556, \"#d8576b\"], [0.6666666666666666, \"#ed7953\"], [0.7777777777777778, \"#fb9f3a\"], [0.8888888888888888, \"#fdca26\"], [1.0, \"#f0f921\"]], \"type\": \"heatmap\"}], \"heatmapgl\": [{\"colorbar\": {\"outlinewidth\": 0, \"ticks\": \"\"}, \"colorscale\": [[0.0, \"#0d0887\"], [0.1111111111111111, \"#46039f\"], [0.2222222222222222, \"#7201a8\"], [0.3333333333333333, \"#9c179e\"], [0.4444444444444444, \"#bd3786\"], [0.5555555555555556, \"#d8576b\"], [0.6666666666666666, \"#ed7953\"], [0.7777777777777778, \"#fb9f3a\"], [0.8888888888888888, \"#fdca26\"], [1.0, \"#f0f921\"]], \"type\": \"heatmapgl\"}], \"histogram\": [{\"marker\": {\"colorbar\": {\"outlinewidth\": 0, \"ticks\": \"\"}}, \"type\": \"histogram\"}], \"histogram2d\": [{\"colorbar\": {\"outlinewidth\": 0, \"ticks\": \"\"}, \"colorscale\": [[0.0, \"#0d0887\"], [0.1111111111111111, \"#46039f\"], [0.2222222222222222, \"#7201a8\"], [0.3333333333333333, \"#9c179e\"], [0.4444444444444444, \"#bd3786\"], [0.5555555555555556, \"#d8576b\"], [0.6666666666666666, \"#ed7953\"], [0.7777777777777778, \"#fb9f3a\"], [0.8888888888888888, \"#fdca26\"], [1.0, \"#f0f921\"]], \"type\": \"histogram2d\"}], \"histogram2dcontour\": [{\"colorbar\": {\"outlinewidth\": 0, \"ticks\": \"\"}, \"colorscale\": [[0.0, \"#0d0887\"], [0.1111111111111111, \"#46039f\"], [0.2222222222222222, \"#7201a8\"], [0.3333333333333333, \"#9c179e\"], [0.4444444444444444, \"#bd3786\"], [0.5555555555555556, \"#d8576b\"], [0.6666666666666666, \"#ed7953\"], [0.7777777777777778, \"#fb9f3a\"], [0.8888888888888888, \"#fdca26\"], [1.0, \"#f0f921\"]], \"type\": \"histogram2dcontour\"}], \"mesh3d\": [{\"colorbar\": {\"outlinewidth\": 0, \"ticks\": \"\"}, \"type\": \"mesh3d\"}], \"parcoords\": [{\"line\": {\"colorbar\": {\"outlinewidth\": 0, \"ticks\": \"\"}}, \"type\": \"parcoords\"}], \"pie\": [{\"automargin\": true, \"type\": \"pie\"}], \"scatter\": [{\"marker\": {\"colorbar\": {\"outlinewidth\": 0, \"ticks\": \"\"}}, \"type\": \"scatter\"}], \"scatter3d\": [{\"line\": {\"colorbar\": {\"outlinewidth\": 0, \"ticks\": \"\"}}, \"marker\": {\"colorbar\": {\"outlinewidth\": 0, \"ticks\": \"\"}}, \"type\": \"scatter3d\"}], \"scattercarpet\": [{\"marker\": {\"colorbar\": {\"outlinewidth\": 0, \"ticks\": \"\"}}, \"type\": \"scattercarpet\"}], \"scattergeo\": [{\"marker\": {\"colorbar\": {\"outlinewidth\": 0, \"ticks\": \"\"}}, \"type\": \"scattergeo\"}], \"scattergl\": [{\"marker\": {\"colorbar\": {\"outlinewidth\": 0, \"ticks\": \"\"}}, \"type\": \"scattergl\"}], \"scattermapbox\": [{\"marker\": {\"colorbar\": {\"outlinewidth\": 0, \"ticks\": \"\"}}, \"type\": \"scattermapbox\"}], \"scatterpolar\": [{\"marker\": {\"colorbar\": {\"outlinewidth\": 0, \"ticks\": \"\"}}, \"type\": \"scatterpolar\"}], \"scatterpolargl\": [{\"marker\": {\"colorbar\": {\"outlinewidth\": 0, \"ticks\": \"\"}}, \"type\": \"scatterpolargl\"}], \"scatterternary\": [{\"marker\": {\"colorbar\": {\"outlinewidth\": 0, \"ticks\": \"\"}}, \"type\": \"scatterternary\"}], \"surface\": [{\"colorbar\": {\"outlinewidth\": 0, \"ticks\": \"\"}, \"colorscale\": [[0.0, \"#0d0887\"], [0.1111111111111111, \"#46039f\"], [0.2222222222222222, \"#7201a8\"], [0.3333333333333333, \"#9c179e\"], [0.4444444444444444, \"#bd3786\"], [0.5555555555555556, \"#d8576b\"], [0.6666666666666666, \"#ed7953\"], [0.7777777777777778, \"#fb9f3a\"], [0.8888888888888888, \"#fdca26\"], [1.0, \"#f0f921\"]], \"type\": \"surface\"}], \"table\": [{\"cells\": {\"fill\": {\"color\": \"#EBF0F8\"}, \"line\": {\"color\": \"white\"}}, \"header\": {\"fill\": {\"color\": \"#C8D4E3\"}, \"line\": {\"color\": \"white\"}}, \"type\": \"table\"}]}, \"layout\": {\"annotationdefaults\": {\"arrowcolor\": \"#2a3f5f\", \"arrowhead\": 0, \"arrowwidth\": 1}, \"autotypenumbers\": \"strict\", \"coloraxis\": {\"colorbar\": {\"outlinewidth\": 0, \"ticks\": \"\"}}, \"colorscale\": {\"diverging\": [[0, \"#8e0152\"], [0.1, \"#c51b7d\"], [0.2, \"#de77ae\"], [0.3, \"#f1b6da\"], [0.4, \"#fde0ef\"], [0.5, \"#f7f7f7\"], [0.6, \"#e6f5d0\"], [0.7, \"#b8e186\"], [0.8, \"#7fbc41\"], [0.9, \"#4d9221\"], [1, \"#276419\"]], \"sequential\": [[0.0, \"#0d0887\"], [0.1111111111111111, \"#46039f\"], [0.2222222222222222, \"#7201a8\"], [0.3333333333333333, \"#9c179e\"], [0.4444444444444444, \"#bd3786\"], [0.5555555555555556, \"#d8576b\"], [0.6666666666666666, \"#ed7953\"], [0.7777777777777778, \"#fb9f3a\"], [0.8888888888888888, \"#fdca26\"], [1.0, \"#f0f921\"]], \"sequentialminus\": [[0.0, \"#0d0887\"], [0.1111111111111111, \"#46039f\"], [0.2222222222222222, \"#7201a8\"], [0.3333333333333333, \"#9c179e\"], [0.4444444444444444, \"#bd3786\"], [0.5555555555555556, \"#d8576b\"], [0.6666666666666666, \"#ed7953\"], [0.7777777777777778, \"#fb9f3a\"], [0.8888888888888888, \"#fdca26\"], [1.0, \"#f0f921\"]]}, \"colorway\": [\"#636efa\", \"#EF553B\", \"#00cc96\", \"#ab63fa\", \"#FFA15A\", \"#19d3f3\", \"#FF6692\", \"#B6E880\", \"#FF97FF\", \"#FECB52\"], \"font\": {\"color\": \"#2a3f5f\"}, \"geo\": {\"bgcolor\": \"white\", \"lakecolor\": \"white\", \"landcolor\": \"#E5ECF6\", \"showlakes\": true, \"showland\": true, \"subunitcolor\": \"white\"}, \"hoverlabel\": {\"align\": \"left\"}, \"hovermode\": \"closest\", \"mapbox\": {\"style\": \"light\"}, \"paper_bgcolor\": \"white\", \"plot_bgcolor\": \"#E5ECF6\", \"polar\": {\"angularaxis\": {\"gridcolor\": \"white\", \"linecolor\": \"white\", \"ticks\": \"\"}, \"bgcolor\": \"#E5ECF6\", \"radialaxis\": {\"gridcolor\": \"white\", \"linecolor\": \"white\", \"ticks\": \"\"}}, \"scene\": {\"xaxis\": {\"backgroundcolor\": \"#E5ECF6\", \"gridcolor\": \"white\", \"gridwidth\": 2, \"linecolor\": \"white\", \"showbackground\": true, \"ticks\": \"\", \"zerolinecolor\": \"white\"}, \"yaxis\": {\"backgroundcolor\": \"#E5ECF6\", \"gridcolor\": \"white\", \"gridwidth\": 2, \"linecolor\": \"white\", \"showbackground\": true, \"ticks\": \"\", \"zerolinecolor\": \"white\"}, \"zaxis\": {\"backgroundcolor\": \"#E5ECF6\", \"gridcolor\": \"white\", \"gridwidth\": 2, \"linecolor\": \"white\", \"showbackground\": true, \"ticks\": \"\", \"zerolinecolor\": \"white\"}}, \"shapedefaults\": {\"line\": {\"color\": \"#2a3f5f\"}}, \"ternary\": {\"aaxis\": {\"gridcolor\": \"white\", \"linecolor\": \"white\", \"ticks\": \"\"}, \"baxis\": {\"gridcolor\": \"white\", \"linecolor\": \"white\", \"ticks\": \"\"}, \"bgcolor\": \"#E5ECF6\", \"caxis\": {\"gridcolor\": \"white\", \"linecolor\": \"white\", \"ticks\": \"\"}}, \"title\": {\"x\": 0.05}, \"xaxis\": {\"automargin\": true, \"gridcolor\": \"white\", \"linecolor\": \"white\", \"ticks\": \"\", \"title\": {\"standoff\": 15}, \"zerolinecolor\": \"white\", \"zerolinewidth\": 2}, \"yaxis\": {\"automargin\": true, \"gridcolor\": \"white\", \"linecolor\": \"white\", \"ticks\": \"\", \"title\": {\"standoff\": 15}, \"zerolinecolor\": \"white\", \"zerolinewidth\": 2}}}, \"title\": {\"text\": \"Driver and Watch Dogs Series Sales Chart\"}},                        {\"responsive\": true}                    ).then(function(){\n",
       "                            \n",
       "var gd = document.getElementById('9f6cf3f4-bb44-4b8f-9d5b-e34484ef1872');\n",
       "var x = new MutationObserver(function (mutations, observer) {{\n",
       "        var display = window.getComputedStyle(gd).display;\n",
       "        if (!display || display === 'none') {{\n",
       "            console.log([gd, 'removed!']);\n",
       "            Plotly.purge(gd);\n",
       "            observer.disconnect();\n",
       "        }}\n",
       "}});\n",
       "\n",
       "// Listen for the removal of the full notebook cells\n",
       "var notebookContainer = gd.closest('#notebook-container');\n",
       "if (notebookContainer) {{\n",
       "    x.observe(notebookContainer, {childList: true});\n",
       "}}\n",
       "\n",
       "// Listen for the clearing of the current output cell\n",
       "var outputEl = gd.closest('.output');\n",
       "if (outputEl) {{\n",
       "    x.observe(outputEl, {childList: true});\n",
       "}}\n",
       "\n",
       "                        })                };                });            </script>        </div>"
      ]
     },
     "metadata": {},
     "output_type": "display_data"
    }
   ],
   "source": [
    "fig = px.sunburst(Driver_and_WatchDogs, path = [\"Publisher\", \"Genre\", \"Name\"], values = Driver_and_WatchDogs[\"Global_Sales\"],\n",
    "                      title=\"Driver and Watch Dogs Series Sales Chart\")\n",
    "fig.update_layout(\n",
    "grid=dict(columns=2, rows=2),\n",
    "margin=dict(t=40, l=2, r=2, b=5))\n",
    "fig.show()"
   ]
  },
  {
   "cell_type": "code",
   "execution_count": 16,
   "metadata": {},
   "outputs": [
    {
     "data": {
      "application/vnd.plotly.v1+json": {
       "config": {
        "plotlyServerURL": "https://plot.ly"
       },
       "data": [
        {
         "customdata": [
          [
           "Driv3r"
          ],
          [
           "Driv3r"
          ]
         ],
         "hovertemplate": "Name=%{customdata[0]}<br>Global_Sales=%{marker.size}<br>Year=%{y}<extra></extra>",
         "legendgroup": "Driv3r",
         "marker": {
          "color": "#636efa",
          "size": [
           1.99,
           0.03
          ],
          "sizemode": "area",
          "sizeref": 0.09445,
          "symbol": "circle"
         },
         "mode": "markers",
         "name": "Driv3r",
         "orientation": "v",
         "showlegend": true,
         "type": "scatter",
         "x": [
          1.99,
          0.03
         ],
         "xaxis": "x",
         "y": [
          2004,
          2005
         ],
         "yaxis": "y"
        },
        {
         "customdata": [
          [
           "Driver"
          ]
         ],
         "hovertemplate": "Name=%{customdata[0]}<br>Global_Sales=%{marker.size}<br>Year=%{y}<extra></extra>",
         "legendgroup": "Driver",
         "marker": {
          "color": "#EF553B",
          "size": [
           6.27
          ],
          "sizemode": "area",
          "sizeref": 0.09445,
          "symbol": "circle"
         },
         "mode": "markers",
         "name": "Driver",
         "orientation": "v",
         "showlegend": true,
         "type": "scatter",
         "x": [
          6.27
         ],
         "xaxis": "x",
         "y": [
          1999
         ],
         "yaxis": "y"
        },
        {
         "customdata": [
          [
           "Driver '76"
          ]
         ],
         "hovertemplate": "Name=%{customdata[0]}<br>Global_Sales=%{marker.size}<br>Year=%{y}<extra></extra>",
         "legendgroup": "Driver '76",
         "marker": {
          "color": "#00cc96",
          "size": [
           0.25
          ],
          "sizemode": "area",
          "sizeref": 0.09445,
          "symbol": "circle"
         },
         "mode": "markers",
         "name": "Driver '76",
         "orientation": "v",
         "showlegend": true,
         "type": "scatter",
         "x": [
          0.25
         ],
         "xaxis": "x",
         "y": [
          2007
         ],
         "yaxis": "y"
        },
        {
         "customdata": [
          [
           "Driver 2"
          ]
         ],
         "hovertemplate": "Name=%{customdata[0]}<br>Global_Sales=%{marker.size}<br>Year=%{y}<extra></extra>",
         "legendgroup": "Driver 2",
         "marker": {
          "color": "#ab63fa",
          "size": [
           4.73
          ],
          "sizemode": "area",
          "sizeref": 0.09445,
          "symbol": "circle"
         },
         "mode": "markers",
         "name": "Driver 2",
         "orientation": "v",
         "showlegend": true,
         "type": "scatter",
         "x": [
          4.73
         ],
         "xaxis": "x",
         "y": [
          2000
         ],
         "yaxis": "y"
        },
        {
         "customdata": [
          [
           "Driver 2 Advance"
          ]
         ],
         "hovertemplate": "Name=%{customdata[0]}<br>Global_Sales=%{marker.size}<br>Year=%{y}<extra></extra>",
         "legendgroup": "Driver 2 Advance",
         "marker": {
          "color": "#FFA15A",
          "size": [
           0.34
          ],
          "sizemode": "area",
          "sizeref": 0.09445,
          "symbol": "circle"
         },
         "mode": "markers",
         "name": "Driver 2 Advance",
         "orientation": "v",
         "showlegend": true,
         "type": "scatter",
         "x": [
          0.34
         ],
         "xaxis": "x",
         "y": [
          2002
         ],
         "yaxis": "y"
        },
        {
         "customdata": [
          [
           "Driver: Parallel Lines"
          ],
          [
           "Driver: Parallel Lines"
          ]
         ],
         "hovertemplate": "Name=%{customdata[0]}<br>Global_Sales=%{marker.size}<br>Year=%{y}<extra></extra>",
         "legendgroup": "Driver: Parallel Lines",
         "marker": {
          "color": "#19d3f3",
          "size": [
           0.35000000000000003,
           0.03
          ],
          "sizemode": "area",
          "sizeref": 0.09445,
          "symbol": "circle"
         },
         "mode": "markers",
         "name": "Driver: Parallel Lines",
         "orientation": "v",
         "showlegend": true,
         "type": "scatter",
         "x": [
          0.35000000000000003,
          0.03
         ],
         "xaxis": "x",
         "y": [
          2006,
          2007
         ],
         "yaxis": "y"
        },
        {
         "customdata": [
          [
           "Driver: Renegade"
          ]
         ],
         "hovertemplate": "Name=%{customdata[0]}<br>Global_Sales=%{marker.size}<br>Year=%{y}<extra></extra>",
         "legendgroup": "Driver: Renegade",
         "marker": {
          "color": "#FF6692",
          "size": [
           0.09
          ],
          "sizemode": "area",
          "sizeref": 0.09445,
          "symbol": "circle"
         },
         "mode": "markers",
         "name": "Driver: Renegade",
         "orientation": "v",
         "showlegend": true,
         "type": "scatter",
         "x": [
          0.09
         ],
         "xaxis": "x",
         "y": [
          2011
         ],
         "yaxis": "y"
        },
        {
         "customdata": [
          [
           "Driver: San Francisco"
          ]
         ],
         "hovertemplate": "Name=%{customdata[0]}<br>Global_Sales=%{marker.size}<br>Year=%{y}<extra></extra>",
         "legendgroup": "Driver: San Francisco",
         "marker": {
          "color": "#B6E880",
          "size": [
           2.06
          ],
          "sizemode": "area",
          "sizeref": 0.09445,
          "symbol": "circle"
         },
         "mode": "markers",
         "name": "Driver: San Francisco",
         "orientation": "v",
         "showlegend": true,
         "type": "scatter",
         "x": [
          2.06
         ],
         "xaxis": "x",
         "y": [
          2011
         ],
         "yaxis": "y"
        },
        {
         "customdata": [
          [
           "Drivers Ed Portable"
          ]
         ],
         "hovertemplate": "Name=%{customdata[0]}<br>Global_Sales=%{marker.size}<br>Year=%{y}<extra></extra>",
         "legendgroup": "Drivers Ed Portable",
         "marker": {
          "color": "#FF97FF",
          "size": [
           0.05
          ],
          "sizemode": "area",
          "sizeref": 0.09445,
          "symbol": "circle"
         },
         "mode": "markers",
         "name": "Drivers Ed Portable",
         "orientation": "v",
         "showlegend": true,
         "type": "scatter",
         "x": [
          0.05
         ],
         "xaxis": "x",
         "y": [
          2008
         ],
         "yaxis": "y"
        },
        {
         "customdata": [
          [
           "Grand Theft Auto"
          ],
          [
           "Grand Theft Auto"
          ]
         ],
         "hovertemplate": "Name=%{customdata[0]}<br>Global_Sales=%{marker.size}<br>Year=%{y}<extra></extra>",
         "legendgroup": "Grand Theft Auto",
         "marker": {
          "color": "#FECB52",
          "size": [
           2.32,
           0.24
          ],
          "sizemode": "area",
          "sizeref": 0.09445,
          "symbol": "circle"
         },
         "mode": "markers",
         "name": "Grand Theft Auto",
         "orientation": "v",
         "showlegend": true,
         "type": "scatter",
         "x": [
          2.32,
          0.24
         ],
         "xaxis": "x",
         "y": [
          1997,
          2004
         ],
         "yaxis": "y"
        },
        {
         "customdata": [
          [
           "Grand Theft Auto 2"
          ]
         ],
         "hovertemplate": "Name=%{customdata[0]}<br>Global_Sales=%{marker.size}<br>Year=%{y}<extra></extra>",
         "legendgroup": "Grand Theft Auto 2",
         "marker": {
          "color": "#636efa",
          "size": [
           3.42
          ],
          "sizemode": "area",
          "sizeref": 0.09445,
          "symbol": "circle"
         },
         "mode": "markers",
         "name": "Grand Theft Auto 2",
         "orientation": "v",
         "showlegend": true,
         "type": "scatter",
         "x": [
          3.42
         ],
         "xaxis": "x",
         "y": [
          1998
         ],
         "yaxis": "y"
        },
        {
         "customdata": [
          [
           "Grand Theft Auto III"
          ],
          [
           "Grand Theft Auto III"
          ]
         ],
         "hovertemplate": "Name=%{customdata[0]}<br>Global_Sales=%{marker.size}<br>Year=%{y}<extra></extra>",
         "legendgroup": "Grand Theft Auto III",
         "marker": {
          "color": "#EF553B",
          "size": [
           13.1,
           0.01
          ],
          "sizemode": "area",
          "sizeref": 0.09445,
          "symbol": "circle"
         },
         "mode": "markers",
         "name": "Grand Theft Auto III",
         "orientation": "v",
         "showlegend": true,
         "type": "scatter",
         "x": [
          13.1,
          0.01
         ],
         "xaxis": "x",
         "y": [
          2001,
          2002
         ],
         "yaxis": "y"
        },
        {
         "customdata": [
          [
           "Grand Theft Auto IV"
          ]
         ],
         "hovertemplate": "Name=%{customdata[0]}<br>Global_Sales=%{marker.size}<br>Year=%{y}<extra></extra>",
         "legendgroup": "Grand Theft Auto IV",
         "marker": {
          "color": "#00cc96",
          "size": [
           22.47
          ],
          "sizemode": "area",
          "sizeref": 0.09445,
          "symbol": "circle"
         },
         "mode": "markers",
         "name": "Grand Theft Auto IV",
         "orientation": "v",
         "showlegend": true,
         "type": "scatter",
         "x": [
          22.47
         ],
         "xaxis": "x",
         "y": [
          2008
         ],
         "yaxis": "y"
        },
        {
         "customdata": [
          [
           "Grand Theft Auto V"
          ],
          [
           "Grand Theft Auto V"
          ],
          [
           "Grand Theft Auto V"
          ]
         ],
         "hovertemplate": "Name=%{customdata[0]}<br>Global_Sales=%{marker.size}<br>Year=%{y}<extra></extra>",
         "legendgroup": "Grand Theft Auto V",
         "marker": {
          "color": "#ab63fa",
          "size": [
           37.78,
           17.060000000000002,
           1.08
          ],
          "sizemode": "area",
          "sizeref": 0.09445,
          "symbol": "circle"
         },
         "mode": "markers",
         "name": "Grand Theft Auto V",
         "orientation": "v",
         "showlegend": true,
         "type": "scatter",
         "x": [
          37.78,
          17.060000000000002,
          1.08
         ],
         "xaxis": "x",
         "y": [
          2013,
          2014,
          2015
         ],
         "yaxis": "y"
        },
        {
         "customdata": [
          [
           "Grand Theft Auto: Chinatown Wars"
          ]
         ],
         "hovertemplate": "Name=%{customdata[0]}<br>Global_Sales=%{marker.size}<br>Year=%{y}<extra></extra>",
         "legendgroup": "Grand Theft Auto: Chinatown Wars",
         "marker": {
          "color": "#FFA15A",
          "size": [
           2.43
          ],
          "sizemode": "area",
          "sizeref": 0.09445,
          "symbol": "circle"
         },
         "mode": "markers",
         "name": "Grand Theft Auto: Chinatown Wars",
         "orientation": "v",
         "showlegend": true,
         "type": "scatter",
         "x": [
          2.43
         ],
         "xaxis": "x",
         "y": [
          2009
         ],
         "yaxis": "y"
        },
        {
         "customdata": [
          [
           "Grand Theft Auto: Liberty City Stories"
          ],
          [
           "Grand Theft Auto: Liberty City Stories"
          ]
         ],
         "hovertemplate": "Name=%{customdata[0]}<br>Global_Sales=%{marker.size}<br>Year=%{y}<extra></extra>",
         "legendgroup": "Grand Theft Auto: Liberty City Stories",
         "marker": {
          "color": "#19d3f3",
          "size": [
           7.72,
           3.54
          ],
          "sizemode": "area",
          "sizeref": 0.09445,
          "symbol": "circle"
         },
         "mode": "markers",
         "name": "Grand Theft Auto: Liberty City Stories",
         "orientation": "v",
         "showlegend": true,
         "type": "scatter",
         "x": [
          7.72,
          3.54
         ],
         "xaxis": "x",
         "y": [
          2005,
          2006
         ],
         "yaxis": "y"
        },
        {
         "customdata": [
          [
           "Grand Theft Auto: Mission Pack #1, London 1969"
          ]
         ],
         "hovertemplate": "Name=%{customdata[0]}<br>Global_Sales=%{marker.size}<br>Year=%{y}<extra></extra>",
         "legendgroup": "Grand Theft Auto: Mission Pack #1, London 1969",
         "marker": {
          "color": "#FF6692",
          "size": [
           0.11
          ],
          "sizemode": "area",
          "sizeref": 0.09445,
          "symbol": "circle"
         },
         "mode": "markers",
         "name": "Grand Theft Auto: Mission Pack #1, London 1969",
         "orientation": "v",
         "showlegend": true,
         "type": "scatter",
         "x": [
          0.11
         ],
         "xaxis": "x",
         "y": [
          1998
         ],
         "yaxis": "y"
        },
        {
         "customdata": [
          [
           "Grand Theft Auto: San Andreas"
          ],
          [
           "Grand Theft Auto: San Andreas"
          ],
          [
           "Grand Theft Auto: San Andreas"
          ]
         ],
         "hovertemplate": "Name=%{customdata[0]}<br>Global_Sales=%{marker.size}<br>Year=%{y}<extra></extra>",
         "legendgroup": "Grand Theft Auto: San Andreas",
         "marker": {
          "color": "#B6E880",
          "size": [
           20.81,
           2.9299999999999997,
           0.12
          ],
          "sizemode": "area",
          "sizeref": 0.09445,
          "symbol": "circle"
         },
         "mode": "markers",
         "name": "Grand Theft Auto: San Andreas",
         "orientation": "v",
         "showlegend": true,
         "type": "scatter",
         "x": [
          20.81,
          2.9299999999999997,
          0.12
         ],
         "xaxis": "x",
         "y": [
          2004,
          2005,
          2008
         ],
         "yaxis": "y"
        },
        {
         "customdata": [
          [
           "Grand Theft Auto: Vice City"
          ],
          [
           "Grand Theft Auto: Vice City"
          ]
         ],
         "hovertemplate": "Name=%{customdata[0]}<br>Global_Sales=%{marker.size}<br>Year=%{y}<extra></extra>",
         "legendgroup": "Grand Theft Auto: Vice City",
         "marker": {
          "color": "#FF97FF",
          "size": [
           16.15,
           0.04
          ],
          "sizemode": "area",
          "sizeref": 0.09445,
          "symbol": "circle"
         },
         "mode": "markers",
         "name": "Grand Theft Auto: Vice City",
         "orientation": "v",
         "showlegend": true,
         "type": "scatter",
         "x": [
          16.15,
          0.04
         ],
         "xaxis": "x",
         "y": [
          2002,
          2003
         ],
         "yaxis": "y"
        },
        {
         "customdata": [
          [
           "Grand Theft Auto: Vice City Stories"
          ],
          [
           "Grand Theft Auto: Vice City Stories"
          ]
         ],
         "hovertemplate": "Name=%{customdata[0]}<br>Global_Sales=%{marker.size}<br>Year=%{y}<extra></extra>",
         "legendgroup": "Grand Theft Auto: Vice City Stories",
         "marker": {
          "color": "#FECB52",
          "size": [
           5.08,
           0.97
          ],
          "sizemode": "area",
          "sizeref": 0.09445,
          "symbol": "circle"
         },
         "mode": "markers",
         "name": "Grand Theft Auto: Vice City Stories",
         "orientation": "v",
         "showlegend": true,
         "type": "scatter",
         "x": [
          5.08,
          0.97
         ],
         "xaxis": "x",
         "y": [
          2006,
          2007
         ],
         "yaxis": "y"
        },
        {
         "customdata": [
          [
           "Watch Dogs"
          ]
         ],
         "hovertemplate": "Name=%{customdata[0]}<br>Global_Sales=%{marker.size}<br>Year=%{y}<extra></extra>",
         "legendgroup": "Watch Dogs",
         "marker": {
          "color": "#636efa",
          "size": [
           9.489999999999998
          ],
          "sizemode": "area",
          "sizeref": 0.09445,
          "symbol": "circle"
         },
         "mode": "markers",
         "name": "Watch Dogs",
         "orientation": "v",
         "showlegend": true,
         "type": "scatter",
         "x": [
          9.489999999999998
         ],
         "xaxis": "x",
         "y": [
          2014
         ],
         "yaxis": "y"
        }
       ],
       "layout": {
        "legend": {
         "itemsizing": "constant",
         "title": {
          "text": "Name"
         },
         "tracegroupgap": 0
        },
        "template": {
         "data": {
          "bar": [
           {
            "error_x": {
             "color": "#2a3f5f"
            },
            "error_y": {
             "color": "#2a3f5f"
            },
            "marker": {
             "line": {
              "color": "#E5ECF6",
              "width": 0.5
             }
            },
            "type": "bar"
           }
          ],
          "barpolar": [
           {
            "marker": {
             "line": {
              "color": "#E5ECF6",
              "width": 0.5
             }
            },
            "type": "barpolar"
           }
          ],
          "carpet": [
           {
            "aaxis": {
             "endlinecolor": "#2a3f5f",
             "gridcolor": "white",
             "linecolor": "white",
             "minorgridcolor": "white",
             "startlinecolor": "#2a3f5f"
            },
            "baxis": {
             "endlinecolor": "#2a3f5f",
             "gridcolor": "white",
             "linecolor": "white",
             "minorgridcolor": "white",
             "startlinecolor": "#2a3f5f"
            },
            "type": "carpet"
           }
          ],
          "choropleth": [
           {
            "colorbar": {
             "outlinewidth": 0,
             "ticks": ""
            },
            "type": "choropleth"
           }
          ],
          "contour": [
           {
            "colorbar": {
             "outlinewidth": 0,
             "ticks": ""
            },
            "colorscale": [
             [
              0,
              "#0d0887"
             ],
             [
              0.1111111111111111,
              "#46039f"
             ],
             [
              0.2222222222222222,
              "#7201a8"
             ],
             [
              0.3333333333333333,
              "#9c179e"
             ],
             [
              0.4444444444444444,
              "#bd3786"
             ],
             [
              0.5555555555555556,
              "#d8576b"
             ],
             [
              0.6666666666666666,
              "#ed7953"
             ],
             [
              0.7777777777777778,
              "#fb9f3a"
             ],
             [
              0.8888888888888888,
              "#fdca26"
             ],
             [
              1,
              "#f0f921"
             ]
            ],
            "type": "contour"
           }
          ],
          "contourcarpet": [
           {
            "colorbar": {
             "outlinewidth": 0,
             "ticks": ""
            },
            "type": "contourcarpet"
           }
          ],
          "heatmap": [
           {
            "colorbar": {
             "outlinewidth": 0,
             "ticks": ""
            },
            "colorscale": [
             [
              0,
              "#0d0887"
             ],
             [
              0.1111111111111111,
              "#46039f"
             ],
             [
              0.2222222222222222,
              "#7201a8"
             ],
             [
              0.3333333333333333,
              "#9c179e"
             ],
             [
              0.4444444444444444,
              "#bd3786"
             ],
             [
              0.5555555555555556,
              "#d8576b"
             ],
             [
              0.6666666666666666,
              "#ed7953"
             ],
             [
              0.7777777777777778,
              "#fb9f3a"
             ],
             [
              0.8888888888888888,
              "#fdca26"
             ],
             [
              1,
              "#f0f921"
             ]
            ],
            "type": "heatmap"
           }
          ],
          "heatmapgl": [
           {
            "colorbar": {
             "outlinewidth": 0,
             "ticks": ""
            },
            "colorscale": [
             [
              0,
              "#0d0887"
             ],
             [
              0.1111111111111111,
              "#46039f"
             ],
             [
              0.2222222222222222,
              "#7201a8"
             ],
             [
              0.3333333333333333,
              "#9c179e"
             ],
             [
              0.4444444444444444,
              "#bd3786"
             ],
             [
              0.5555555555555556,
              "#d8576b"
             ],
             [
              0.6666666666666666,
              "#ed7953"
             ],
             [
              0.7777777777777778,
              "#fb9f3a"
             ],
             [
              0.8888888888888888,
              "#fdca26"
             ],
             [
              1,
              "#f0f921"
             ]
            ],
            "type": "heatmapgl"
           }
          ],
          "histogram": [
           {
            "marker": {
             "colorbar": {
              "outlinewidth": 0,
              "ticks": ""
             }
            },
            "type": "histogram"
           }
          ],
          "histogram2d": [
           {
            "colorbar": {
             "outlinewidth": 0,
             "ticks": ""
            },
            "colorscale": [
             [
              0,
              "#0d0887"
             ],
             [
              0.1111111111111111,
              "#46039f"
             ],
             [
              0.2222222222222222,
              "#7201a8"
             ],
             [
              0.3333333333333333,
              "#9c179e"
             ],
             [
              0.4444444444444444,
              "#bd3786"
             ],
             [
              0.5555555555555556,
              "#d8576b"
             ],
             [
              0.6666666666666666,
              "#ed7953"
             ],
             [
              0.7777777777777778,
              "#fb9f3a"
             ],
             [
              0.8888888888888888,
              "#fdca26"
             ],
             [
              1,
              "#f0f921"
             ]
            ],
            "type": "histogram2d"
           }
          ],
          "histogram2dcontour": [
           {
            "colorbar": {
             "outlinewidth": 0,
             "ticks": ""
            },
            "colorscale": [
             [
              0,
              "#0d0887"
             ],
             [
              0.1111111111111111,
              "#46039f"
             ],
             [
              0.2222222222222222,
              "#7201a8"
             ],
             [
              0.3333333333333333,
              "#9c179e"
             ],
             [
              0.4444444444444444,
              "#bd3786"
             ],
             [
              0.5555555555555556,
              "#d8576b"
             ],
             [
              0.6666666666666666,
              "#ed7953"
             ],
             [
              0.7777777777777778,
              "#fb9f3a"
             ],
             [
              0.8888888888888888,
              "#fdca26"
             ],
             [
              1,
              "#f0f921"
             ]
            ],
            "type": "histogram2dcontour"
           }
          ],
          "mesh3d": [
           {
            "colorbar": {
             "outlinewidth": 0,
             "ticks": ""
            },
            "type": "mesh3d"
           }
          ],
          "parcoords": [
           {
            "line": {
             "colorbar": {
              "outlinewidth": 0,
              "ticks": ""
             }
            },
            "type": "parcoords"
           }
          ],
          "pie": [
           {
            "automargin": true,
            "type": "pie"
           }
          ],
          "scatter": [
           {
            "marker": {
             "colorbar": {
              "outlinewidth": 0,
              "ticks": ""
             }
            },
            "type": "scatter"
           }
          ],
          "scatter3d": [
           {
            "line": {
             "colorbar": {
              "outlinewidth": 0,
              "ticks": ""
             }
            },
            "marker": {
             "colorbar": {
              "outlinewidth": 0,
              "ticks": ""
             }
            },
            "type": "scatter3d"
           }
          ],
          "scattercarpet": [
           {
            "marker": {
             "colorbar": {
              "outlinewidth": 0,
              "ticks": ""
             }
            },
            "type": "scattercarpet"
           }
          ],
          "scattergeo": [
           {
            "marker": {
             "colorbar": {
              "outlinewidth": 0,
              "ticks": ""
             }
            },
            "type": "scattergeo"
           }
          ],
          "scattergl": [
           {
            "marker": {
             "colorbar": {
              "outlinewidth": 0,
              "ticks": ""
             }
            },
            "type": "scattergl"
           }
          ],
          "scattermapbox": [
           {
            "marker": {
             "colorbar": {
              "outlinewidth": 0,
              "ticks": ""
             }
            },
            "type": "scattermapbox"
           }
          ],
          "scatterpolar": [
           {
            "marker": {
             "colorbar": {
              "outlinewidth": 0,
              "ticks": ""
             }
            },
            "type": "scatterpolar"
           }
          ],
          "scatterpolargl": [
           {
            "marker": {
             "colorbar": {
              "outlinewidth": 0,
              "ticks": ""
             }
            },
            "type": "scatterpolargl"
           }
          ],
          "scatterternary": [
           {
            "marker": {
             "colorbar": {
              "outlinewidth": 0,
              "ticks": ""
             }
            },
            "type": "scatterternary"
           }
          ],
          "surface": [
           {
            "colorbar": {
             "outlinewidth": 0,
             "ticks": ""
            },
            "colorscale": [
             [
              0,
              "#0d0887"
             ],
             [
              0.1111111111111111,
              "#46039f"
             ],
             [
              0.2222222222222222,
              "#7201a8"
             ],
             [
              0.3333333333333333,
              "#9c179e"
             ],
             [
              0.4444444444444444,
              "#bd3786"
             ],
             [
              0.5555555555555556,
              "#d8576b"
             ],
             [
              0.6666666666666666,
              "#ed7953"
             ],
             [
              0.7777777777777778,
              "#fb9f3a"
             ],
             [
              0.8888888888888888,
              "#fdca26"
             ],
             [
              1,
              "#f0f921"
             ]
            ],
            "type": "surface"
           }
          ],
          "table": [
           {
            "cells": {
             "fill": {
              "color": "#EBF0F8"
             },
             "line": {
              "color": "white"
             }
            },
            "header": {
             "fill": {
              "color": "#C8D4E3"
             },
             "line": {
              "color": "white"
             }
            },
            "type": "table"
           }
          ]
         },
         "layout": {
          "annotationdefaults": {
           "arrowcolor": "#2a3f5f",
           "arrowhead": 0,
           "arrowwidth": 1
          },
          "autotypenumbers": "strict",
          "coloraxis": {
           "colorbar": {
            "outlinewidth": 0,
            "ticks": ""
           }
          },
          "colorscale": {
           "diverging": [
            [
             0,
             "#8e0152"
            ],
            [
             0.1,
             "#c51b7d"
            ],
            [
             0.2,
             "#de77ae"
            ],
            [
             0.3,
             "#f1b6da"
            ],
            [
             0.4,
             "#fde0ef"
            ],
            [
             0.5,
             "#f7f7f7"
            ],
            [
             0.6,
             "#e6f5d0"
            ],
            [
             0.7,
             "#b8e186"
            ],
            [
             0.8,
             "#7fbc41"
            ],
            [
             0.9,
             "#4d9221"
            ],
            [
             1,
             "#276419"
            ]
           ],
           "sequential": [
            [
             0,
             "#0d0887"
            ],
            [
             0.1111111111111111,
             "#46039f"
            ],
            [
             0.2222222222222222,
             "#7201a8"
            ],
            [
             0.3333333333333333,
             "#9c179e"
            ],
            [
             0.4444444444444444,
             "#bd3786"
            ],
            [
             0.5555555555555556,
             "#d8576b"
            ],
            [
             0.6666666666666666,
             "#ed7953"
            ],
            [
             0.7777777777777778,
             "#fb9f3a"
            ],
            [
             0.8888888888888888,
             "#fdca26"
            ],
            [
             1,
             "#f0f921"
            ]
           ],
           "sequentialminus": [
            [
             0,
             "#0d0887"
            ],
            [
             0.1111111111111111,
             "#46039f"
            ],
            [
             0.2222222222222222,
             "#7201a8"
            ],
            [
             0.3333333333333333,
             "#9c179e"
            ],
            [
             0.4444444444444444,
             "#bd3786"
            ],
            [
             0.5555555555555556,
             "#d8576b"
            ],
            [
             0.6666666666666666,
             "#ed7953"
            ],
            [
             0.7777777777777778,
             "#fb9f3a"
            ],
            [
             0.8888888888888888,
             "#fdca26"
            ],
            [
             1,
             "#f0f921"
            ]
           ]
          },
          "colorway": [
           "#636efa",
           "#EF553B",
           "#00cc96",
           "#ab63fa",
           "#FFA15A",
           "#19d3f3",
           "#FF6692",
           "#B6E880",
           "#FF97FF",
           "#FECB52"
          ],
          "font": {
           "color": "#2a3f5f"
          },
          "geo": {
           "bgcolor": "white",
           "lakecolor": "white",
           "landcolor": "#E5ECF6",
           "showlakes": true,
           "showland": true,
           "subunitcolor": "white"
          },
          "hoverlabel": {
           "align": "left"
          },
          "hovermode": "closest",
          "mapbox": {
           "style": "light"
          },
          "paper_bgcolor": "white",
          "plot_bgcolor": "#E5ECF6",
          "polar": {
           "angularaxis": {
            "gridcolor": "white",
            "linecolor": "white",
            "ticks": ""
           },
           "bgcolor": "#E5ECF6",
           "radialaxis": {
            "gridcolor": "white",
            "linecolor": "white",
            "ticks": ""
           }
          },
          "scene": {
           "xaxis": {
            "backgroundcolor": "#E5ECF6",
            "gridcolor": "white",
            "gridwidth": 2,
            "linecolor": "white",
            "showbackground": true,
            "ticks": "",
            "zerolinecolor": "white"
           },
           "yaxis": {
            "backgroundcolor": "#E5ECF6",
            "gridcolor": "white",
            "gridwidth": 2,
            "linecolor": "white",
            "showbackground": true,
            "ticks": "",
            "zerolinecolor": "white"
           },
           "zaxis": {
            "backgroundcolor": "#E5ECF6",
            "gridcolor": "white",
            "gridwidth": 2,
            "linecolor": "white",
            "showbackground": true,
            "ticks": "",
            "zerolinecolor": "white"
           }
          },
          "shapedefaults": {
           "line": {
            "color": "#2a3f5f"
           }
          },
          "ternary": {
           "aaxis": {
            "gridcolor": "white",
            "linecolor": "white",
            "ticks": ""
           },
           "baxis": {
            "gridcolor": "white",
            "linecolor": "white",
            "ticks": ""
           },
           "bgcolor": "#E5ECF6",
           "caxis": {
            "gridcolor": "white",
            "linecolor": "white",
            "ticks": ""
           }
          },
          "title": {
           "x": 0.05
          },
          "xaxis": {
           "automargin": true,
           "gridcolor": "white",
           "linecolor": "white",
           "ticks": "",
           "title": {
            "standoff": 15
           },
           "zerolinecolor": "white",
           "zerolinewidth": 2
          },
          "yaxis": {
           "automargin": true,
           "gridcolor": "white",
           "linecolor": "white",
           "ticks": "",
           "title": {
            "standoff": 15
           },
           "zerolinecolor": "white",
           "zerolinewidth": 2
          }
         }
        },
        "title": {
         "text": "Year Wise GTA, Driver and Watch Dogs Series"
        },
        "xaxis": {
         "anchor": "y",
         "domain": [
          0,
          1
         ],
         "title": {
          "text": "Global_Sales"
         }
        },
        "yaxis": {
         "anchor": "x",
         "domain": [
          0,
          1
         ],
         "title": {
          "text": "Year"
         }
        }
       }
      },
      "text/html": [
       "<div>                            <div id=\"73c9af29-3250-421a-9c6e-2fce04c349fc\" class=\"plotly-graph-div\" style=\"height:525px; width:100%;\"></div>            <script type=\"text/javascript\">                require([\"plotly\"], function(Plotly) {                    window.PLOTLYENV=window.PLOTLYENV || {};                                    if (document.getElementById(\"73c9af29-3250-421a-9c6e-2fce04c349fc\")) {                    Plotly.newPlot(                        \"73c9af29-3250-421a-9c6e-2fce04c349fc\",                        [{\"customdata\": [[\"Driv3r\"], [\"Driv3r\"]], \"hovertemplate\": \"Name=%{customdata[0]}<br>Global_Sales=%{marker.size}<br>Year=%{y}<extra></extra>\", \"legendgroup\": \"Driv3r\", \"marker\": {\"color\": \"#636efa\", \"size\": [1.99, 0.03], \"sizemode\": \"area\", \"sizeref\": 0.09445, \"symbol\": \"circle\"}, \"mode\": \"markers\", \"name\": \"Driv3r\", \"orientation\": \"v\", \"showlegend\": true, \"type\": \"scatter\", \"x\": [1.99, 0.03], \"xaxis\": \"x\", \"y\": [2004.0, 2005.0], \"yaxis\": \"y\"}, {\"customdata\": [[\"Driver\"]], \"hovertemplate\": \"Name=%{customdata[0]}<br>Global_Sales=%{marker.size}<br>Year=%{y}<extra></extra>\", \"legendgroup\": \"Driver\", \"marker\": {\"color\": \"#EF553B\", \"size\": [6.27], \"sizemode\": \"area\", \"sizeref\": 0.09445, \"symbol\": \"circle\"}, \"mode\": \"markers\", \"name\": \"Driver\", \"orientation\": \"v\", \"showlegend\": true, \"type\": \"scatter\", \"x\": [6.27], \"xaxis\": \"x\", \"y\": [1999.0], \"yaxis\": \"y\"}, {\"customdata\": [[\"Driver '76\"]], \"hovertemplate\": \"Name=%{customdata[0]}<br>Global_Sales=%{marker.size}<br>Year=%{y}<extra></extra>\", \"legendgroup\": \"Driver '76\", \"marker\": {\"color\": \"#00cc96\", \"size\": [0.25], \"sizemode\": \"area\", \"sizeref\": 0.09445, \"symbol\": \"circle\"}, \"mode\": \"markers\", \"name\": \"Driver '76\", \"orientation\": \"v\", \"showlegend\": true, \"type\": \"scatter\", \"x\": [0.25], \"xaxis\": \"x\", \"y\": [2007.0], \"yaxis\": \"y\"}, {\"customdata\": [[\"Driver 2\"]], \"hovertemplate\": \"Name=%{customdata[0]}<br>Global_Sales=%{marker.size}<br>Year=%{y}<extra></extra>\", \"legendgroup\": \"Driver 2\", \"marker\": {\"color\": \"#ab63fa\", \"size\": [4.73], \"sizemode\": \"area\", \"sizeref\": 0.09445, \"symbol\": \"circle\"}, \"mode\": \"markers\", \"name\": \"Driver 2\", \"orientation\": \"v\", \"showlegend\": true, \"type\": \"scatter\", \"x\": [4.73], \"xaxis\": \"x\", \"y\": [2000.0], \"yaxis\": \"y\"}, {\"customdata\": [[\"Driver 2 Advance\"]], \"hovertemplate\": \"Name=%{customdata[0]}<br>Global_Sales=%{marker.size}<br>Year=%{y}<extra></extra>\", \"legendgroup\": \"Driver 2 Advance\", \"marker\": {\"color\": \"#FFA15A\", \"size\": [0.34], \"sizemode\": \"area\", \"sizeref\": 0.09445, \"symbol\": \"circle\"}, \"mode\": \"markers\", \"name\": \"Driver 2 Advance\", \"orientation\": \"v\", \"showlegend\": true, \"type\": \"scatter\", \"x\": [0.34], \"xaxis\": \"x\", \"y\": [2002.0], \"yaxis\": \"y\"}, {\"customdata\": [[\"Driver: Parallel Lines\"], [\"Driver: Parallel Lines\"]], \"hovertemplate\": \"Name=%{customdata[0]}<br>Global_Sales=%{marker.size}<br>Year=%{y}<extra></extra>\", \"legendgroup\": \"Driver: Parallel Lines\", \"marker\": {\"color\": \"#19d3f3\", \"size\": [0.35000000000000003, 0.03], \"sizemode\": \"area\", \"sizeref\": 0.09445, \"symbol\": \"circle\"}, \"mode\": \"markers\", \"name\": \"Driver: Parallel Lines\", \"orientation\": \"v\", \"showlegend\": true, \"type\": \"scatter\", \"x\": [0.35000000000000003, 0.03], \"xaxis\": \"x\", \"y\": [2006.0, 2007.0], \"yaxis\": \"y\"}, {\"customdata\": [[\"Driver: Renegade\"]], \"hovertemplate\": \"Name=%{customdata[0]}<br>Global_Sales=%{marker.size}<br>Year=%{y}<extra></extra>\", \"legendgroup\": \"Driver: Renegade\", \"marker\": {\"color\": \"#FF6692\", \"size\": [0.09], \"sizemode\": \"area\", \"sizeref\": 0.09445, \"symbol\": \"circle\"}, \"mode\": \"markers\", \"name\": \"Driver: Renegade\", \"orientation\": \"v\", \"showlegend\": true, \"type\": \"scatter\", \"x\": [0.09], \"xaxis\": \"x\", \"y\": [2011.0], \"yaxis\": \"y\"}, {\"customdata\": [[\"Driver: San Francisco\"]], \"hovertemplate\": \"Name=%{customdata[0]}<br>Global_Sales=%{marker.size}<br>Year=%{y}<extra></extra>\", \"legendgroup\": \"Driver: San Francisco\", \"marker\": {\"color\": \"#B6E880\", \"size\": [2.06], \"sizemode\": \"area\", \"sizeref\": 0.09445, \"symbol\": \"circle\"}, \"mode\": \"markers\", \"name\": \"Driver: San Francisco\", \"orientation\": \"v\", \"showlegend\": true, \"type\": \"scatter\", \"x\": [2.06], \"xaxis\": \"x\", \"y\": [2011.0], \"yaxis\": \"y\"}, {\"customdata\": [[\"Drivers Ed Portable\"]], \"hovertemplate\": \"Name=%{customdata[0]}<br>Global_Sales=%{marker.size}<br>Year=%{y}<extra></extra>\", \"legendgroup\": \"Drivers Ed Portable\", \"marker\": {\"color\": \"#FF97FF\", \"size\": [0.05], \"sizemode\": \"area\", \"sizeref\": 0.09445, \"symbol\": \"circle\"}, \"mode\": \"markers\", \"name\": \"Drivers Ed Portable\", \"orientation\": \"v\", \"showlegend\": true, \"type\": \"scatter\", \"x\": [0.05], \"xaxis\": \"x\", \"y\": [2008.0], \"yaxis\": \"y\"}, {\"customdata\": [[\"Grand Theft Auto\"], [\"Grand Theft Auto\"]], \"hovertemplate\": \"Name=%{customdata[0]}<br>Global_Sales=%{marker.size}<br>Year=%{y}<extra></extra>\", \"legendgroup\": \"Grand Theft Auto\", \"marker\": {\"color\": \"#FECB52\", \"size\": [2.32, 0.24], \"sizemode\": \"area\", \"sizeref\": 0.09445, \"symbol\": \"circle\"}, \"mode\": \"markers\", \"name\": \"Grand Theft Auto\", \"orientation\": \"v\", \"showlegend\": true, \"type\": \"scatter\", \"x\": [2.32, 0.24], \"xaxis\": \"x\", \"y\": [1997.0, 2004.0], \"yaxis\": \"y\"}, {\"customdata\": [[\"Grand Theft Auto 2\"]], \"hovertemplate\": \"Name=%{customdata[0]}<br>Global_Sales=%{marker.size}<br>Year=%{y}<extra></extra>\", \"legendgroup\": \"Grand Theft Auto 2\", \"marker\": {\"color\": \"#636efa\", \"size\": [3.42], \"sizemode\": \"area\", \"sizeref\": 0.09445, \"symbol\": \"circle\"}, \"mode\": \"markers\", \"name\": \"Grand Theft Auto 2\", \"orientation\": \"v\", \"showlegend\": true, \"type\": \"scatter\", \"x\": [3.42], \"xaxis\": \"x\", \"y\": [1998.0], \"yaxis\": \"y\"}, {\"customdata\": [[\"Grand Theft Auto III\"], [\"Grand Theft Auto III\"]], \"hovertemplate\": \"Name=%{customdata[0]}<br>Global_Sales=%{marker.size}<br>Year=%{y}<extra></extra>\", \"legendgroup\": \"Grand Theft Auto III\", \"marker\": {\"color\": \"#EF553B\", \"size\": [13.1, 0.01], \"sizemode\": \"area\", \"sizeref\": 0.09445, \"symbol\": \"circle\"}, \"mode\": \"markers\", \"name\": \"Grand Theft Auto III\", \"orientation\": \"v\", \"showlegend\": true, \"type\": \"scatter\", \"x\": [13.1, 0.01], \"xaxis\": \"x\", \"y\": [2001.0, 2002.0], \"yaxis\": \"y\"}, {\"customdata\": [[\"Grand Theft Auto IV\"]], \"hovertemplate\": \"Name=%{customdata[0]}<br>Global_Sales=%{marker.size}<br>Year=%{y}<extra></extra>\", \"legendgroup\": \"Grand Theft Auto IV\", \"marker\": {\"color\": \"#00cc96\", \"size\": [22.47], \"sizemode\": \"area\", \"sizeref\": 0.09445, \"symbol\": \"circle\"}, \"mode\": \"markers\", \"name\": \"Grand Theft Auto IV\", \"orientation\": \"v\", \"showlegend\": true, \"type\": \"scatter\", \"x\": [22.47], \"xaxis\": \"x\", \"y\": [2008.0], \"yaxis\": \"y\"}, {\"customdata\": [[\"Grand Theft Auto V\"], [\"Grand Theft Auto V\"], [\"Grand Theft Auto V\"]], \"hovertemplate\": \"Name=%{customdata[0]}<br>Global_Sales=%{marker.size}<br>Year=%{y}<extra></extra>\", \"legendgroup\": \"Grand Theft Auto V\", \"marker\": {\"color\": \"#ab63fa\", \"size\": [37.78, 17.060000000000002, 1.08], \"sizemode\": \"area\", \"sizeref\": 0.09445, \"symbol\": \"circle\"}, \"mode\": \"markers\", \"name\": \"Grand Theft Auto V\", \"orientation\": \"v\", \"showlegend\": true, \"type\": \"scatter\", \"x\": [37.78, 17.060000000000002, 1.08], \"xaxis\": \"x\", \"y\": [2013.0, 2014.0, 2015.0], \"yaxis\": \"y\"}, {\"customdata\": [[\"Grand Theft Auto: Chinatown Wars\"]], \"hovertemplate\": \"Name=%{customdata[0]}<br>Global_Sales=%{marker.size}<br>Year=%{y}<extra></extra>\", \"legendgroup\": \"Grand Theft Auto: Chinatown Wars\", \"marker\": {\"color\": \"#FFA15A\", \"size\": [2.43], \"sizemode\": \"area\", \"sizeref\": 0.09445, \"symbol\": \"circle\"}, \"mode\": \"markers\", \"name\": \"Grand Theft Auto: Chinatown Wars\", \"orientation\": \"v\", \"showlegend\": true, \"type\": \"scatter\", \"x\": [2.43], \"xaxis\": \"x\", \"y\": [2009.0], \"yaxis\": \"y\"}, {\"customdata\": [[\"Grand Theft Auto: Liberty City Stories\"], [\"Grand Theft Auto: Liberty City Stories\"]], \"hovertemplate\": \"Name=%{customdata[0]}<br>Global_Sales=%{marker.size}<br>Year=%{y}<extra></extra>\", \"legendgroup\": \"Grand Theft Auto: Liberty City Stories\", \"marker\": {\"color\": \"#19d3f3\", \"size\": [7.72, 3.54], \"sizemode\": \"area\", \"sizeref\": 0.09445, \"symbol\": \"circle\"}, \"mode\": \"markers\", \"name\": \"Grand Theft Auto: Liberty City Stories\", \"orientation\": \"v\", \"showlegend\": true, \"type\": \"scatter\", \"x\": [7.72, 3.54], \"xaxis\": \"x\", \"y\": [2005.0, 2006.0], \"yaxis\": \"y\"}, {\"customdata\": [[\"Grand Theft Auto: Mission Pack #1, London 1969\"]], \"hovertemplate\": \"Name=%{customdata[0]}<br>Global_Sales=%{marker.size}<br>Year=%{y}<extra></extra>\", \"legendgroup\": \"Grand Theft Auto: Mission Pack #1, London 1969\", \"marker\": {\"color\": \"#FF6692\", \"size\": [0.11], \"sizemode\": \"area\", \"sizeref\": 0.09445, \"symbol\": \"circle\"}, \"mode\": \"markers\", \"name\": \"Grand Theft Auto: Mission Pack #1, London 1969\", \"orientation\": \"v\", \"showlegend\": true, \"type\": \"scatter\", \"x\": [0.11], \"xaxis\": \"x\", \"y\": [1998.0], \"yaxis\": \"y\"}, {\"customdata\": [[\"Grand Theft Auto: San Andreas\"], [\"Grand Theft Auto: San Andreas\"], [\"Grand Theft Auto: San Andreas\"]], \"hovertemplate\": \"Name=%{customdata[0]}<br>Global_Sales=%{marker.size}<br>Year=%{y}<extra></extra>\", \"legendgroup\": \"Grand Theft Auto: San Andreas\", \"marker\": {\"color\": \"#B6E880\", \"size\": [20.81, 2.9299999999999997, 0.12], \"sizemode\": \"area\", \"sizeref\": 0.09445, \"symbol\": \"circle\"}, \"mode\": \"markers\", \"name\": \"Grand Theft Auto: San Andreas\", \"orientation\": \"v\", \"showlegend\": true, \"type\": \"scatter\", \"x\": [20.81, 2.9299999999999997, 0.12], \"xaxis\": \"x\", \"y\": [2004.0, 2005.0, 2008.0], \"yaxis\": \"y\"}, {\"customdata\": [[\"Grand Theft Auto: Vice City\"], [\"Grand Theft Auto: Vice City\"]], \"hovertemplate\": \"Name=%{customdata[0]}<br>Global_Sales=%{marker.size}<br>Year=%{y}<extra></extra>\", \"legendgroup\": \"Grand Theft Auto: Vice City\", \"marker\": {\"color\": \"#FF97FF\", \"size\": [16.15, 0.04], \"sizemode\": \"area\", \"sizeref\": 0.09445, \"symbol\": \"circle\"}, \"mode\": \"markers\", \"name\": \"Grand Theft Auto: Vice City\", \"orientation\": \"v\", \"showlegend\": true, \"type\": \"scatter\", \"x\": [16.15, 0.04], \"xaxis\": \"x\", \"y\": [2002.0, 2003.0], \"yaxis\": \"y\"}, {\"customdata\": [[\"Grand Theft Auto: Vice City Stories\"], [\"Grand Theft Auto: Vice City Stories\"]], \"hovertemplate\": \"Name=%{customdata[0]}<br>Global_Sales=%{marker.size}<br>Year=%{y}<extra></extra>\", \"legendgroup\": \"Grand Theft Auto: Vice City Stories\", \"marker\": {\"color\": \"#FECB52\", \"size\": [5.08, 0.97], \"sizemode\": \"area\", \"sizeref\": 0.09445, \"symbol\": \"circle\"}, \"mode\": \"markers\", \"name\": \"Grand Theft Auto: Vice City Stories\", \"orientation\": \"v\", \"showlegend\": true, \"type\": \"scatter\", \"x\": [5.08, 0.97], \"xaxis\": \"x\", \"y\": [2006.0, 2007.0], \"yaxis\": \"y\"}, {\"customdata\": [[\"Watch Dogs\"]], \"hovertemplate\": \"Name=%{customdata[0]}<br>Global_Sales=%{marker.size}<br>Year=%{y}<extra></extra>\", \"legendgroup\": \"Watch Dogs\", \"marker\": {\"color\": \"#636efa\", \"size\": [9.489999999999998], \"sizemode\": \"area\", \"sizeref\": 0.09445, \"symbol\": \"circle\"}, \"mode\": \"markers\", \"name\": \"Watch Dogs\", \"orientation\": \"v\", \"showlegend\": true, \"type\": \"scatter\", \"x\": [9.489999999999998], \"xaxis\": \"x\", \"y\": [2014.0], \"yaxis\": \"y\"}],                        {\"legend\": {\"itemsizing\": \"constant\", \"title\": {\"text\": \"Name\"}, \"tracegroupgap\": 0}, \"template\": {\"data\": {\"bar\": [{\"error_x\": {\"color\": \"#2a3f5f\"}, \"error_y\": {\"color\": \"#2a3f5f\"}, \"marker\": {\"line\": {\"color\": \"#E5ECF6\", \"width\": 0.5}}, \"type\": \"bar\"}], \"barpolar\": [{\"marker\": {\"line\": {\"color\": \"#E5ECF6\", \"width\": 0.5}}, \"type\": \"barpolar\"}], \"carpet\": [{\"aaxis\": {\"endlinecolor\": \"#2a3f5f\", \"gridcolor\": \"white\", \"linecolor\": \"white\", \"minorgridcolor\": \"white\", \"startlinecolor\": \"#2a3f5f\"}, \"baxis\": {\"endlinecolor\": \"#2a3f5f\", \"gridcolor\": \"white\", \"linecolor\": \"white\", \"minorgridcolor\": \"white\", \"startlinecolor\": \"#2a3f5f\"}, \"type\": \"carpet\"}], \"choropleth\": [{\"colorbar\": {\"outlinewidth\": 0, \"ticks\": \"\"}, \"type\": \"choropleth\"}], \"contour\": [{\"colorbar\": {\"outlinewidth\": 0, \"ticks\": \"\"}, \"colorscale\": [[0.0, \"#0d0887\"], [0.1111111111111111, \"#46039f\"], [0.2222222222222222, \"#7201a8\"], [0.3333333333333333, \"#9c179e\"], [0.4444444444444444, \"#bd3786\"], [0.5555555555555556, \"#d8576b\"], [0.6666666666666666, \"#ed7953\"], [0.7777777777777778, \"#fb9f3a\"], [0.8888888888888888, \"#fdca26\"], [1.0, \"#f0f921\"]], \"type\": \"contour\"}], \"contourcarpet\": [{\"colorbar\": {\"outlinewidth\": 0, \"ticks\": \"\"}, \"type\": \"contourcarpet\"}], \"heatmap\": [{\"colorbar\": {\"outlinewidth\": 0, \"ticks\": \"\"}, \"colorscale\": [[0.0, \"#0d0887\"], [0.1111111111111111, \"#46039f\"], [0.2222222222222222, \"#7201a8\"], [0.3333333333333333, \"#9c179e\"], [0.4444444444444444, \"#bd3786\"], [0.5555555555555556, \"#d8576b\"], [0.6666666666666666, \"#ed7953\"], [0.7777777777777778, \"#fb9f3a\"], [0.8888888888888888, \"#fdca26\"], [1.0, \"#f0f921\"]], \"type\": \"heatmap\"}], \"heatmapgl\": [{\"colorbar\": {\"outlinewidth\": 0, \"ticks\": \"\"}, \"colorscale\": [[0.0, \"#0d0887\"], [0.1111111111111111, \"#46039f\"], [0.2222222222222222, \"#7201a8\"], [0.3333333333333333, \"#9c179e\"], [0.4444444444444444, \"#bd3786\"], [0.5555555555555556, \"#d8576b\"], [0.6666666666666666, \"#ed7953\"], [0.7777777777777778, \"#fb9f3a\"], [0.8888888888888888, \"#fdca26\"], [1.0, \"#f0f921\"]], \"type\": \"heatmapgl\"}], \"histogram\": [{\"marker\": {\"colorbar\": {\"outlinewidth\": 0, \"ticks\": \"\"}}, \"type\": \"histogram\"}], \"histogram2d\": [{\"colorbar\": {\"outlinewidth\": 0, \"ticks\": \"\"}, \"colorscale\": [[0.0, \"#0d0887\"], [0.1111111111111111, \"#46039f\"], [0.2222222222222222, \"#7201a8\"], [0.3333333333333333, \"#9c179e\"], [0.4444444444444444, \"#bd3786\"], [0.5555555555555556, \"#d8576b\"], [0.6666666666666666, \"#ed7953\"], [0.7777777777777778, \"#fb9f3a\"], [0.8888888888888888, \"#fdca26\"], [1.0, \"#f0f921\"]], \"type\": \"histogram2d\"}], \"histogram2dcontour\": [{\"colorbar\": {\"outlinewidth\": 0, \"ticks\": \"\"}, \"colorscale\": [[0.0, \"#0d0887\"], [0.1111111111111111, \"#46039f\"], [0.2222222222222222, \"#7201a8\"], [0.3333333333333333, \"#9c179e\"], [0.4444444444444444, \"#bd3786\"], [0.5555555555555556, \"#d8576b\"], [0.6666666666666666, \"#ed7953\"], [0.7777777777777778, \"#fb9f3a\"], [0.8888888888888888, \"#fdca26\"], [1.0, \"#f0f921\"]], \"type\": \"histogram2dcontour\"}], \"mesh3d\": [{\"colorbar\": {\"outlinewidth\": 0, \"ticks\": \"\"}, \"type\": \"mesh3d\"}], \"parcoords\": [{\"line\": {\"colorbar\": {\"outlinewidth\": 0, \"ticks\": \"\"}}, \"type\": \"parcoords\"}], \"pie\": [{\"automargin\": true, \"type\": \"pie\"}], \"scatter\": [{\"marker\": {\"colorbar\": {\"outlinewidth\": 0, \"ticks\": \"\"}}, \"type\": \"scatter\"}], \"scatter3d\": [{\"line\": {\"colorbar\": {\"outlinewidth\": 0, \"ticks\": \"\"}}, \"marker\": {\"colorbar\": {\"outlinewidth\": 0, \"ticks\": \"\"}}, \"type\": \"scatter3d\"}], \"scattercarpet\": [{\"marker\": {\"colorbar\": {\"outlinewidth\": 0, \"ticks\": \"\"}}, \"type\": \"scattercarpet\"}], \"scattergeo\": [{\"marker\": {\"colorbar\": {\"outlinewidth\": 0, \"ticks\": \"\"}}, \"type\": \"scattergeo\"}], \"scattergl\": [{\"marker\": {\"colorbar\": {\"outlinewidth\": 0, \"ticks\": \"\"}}, \"type\": \"scattergl\"}], \"scattermapbox\": [{\"marker\": {\"colorbar\": {\"outlinewidth\": 0, \"ticks\": \"\"}}, \"type\": \"scattermapbox\"}], \"scatterpolar\": [{\"marker\": {\"colorbar\": {\"outlinewidth\": 0, \"ticks\": \"\"}}, \"type\": \"scatterpolar\"}], \"scatterpolargl\": [{\"marker\": {\"colorbar\": {\"outlinewidth\": 0, \"ticks\": \"\"}}, \"type\": \"scatterpolargl\"}], \"scatterternary\": [{\"marker\": {\"colorbar\": {\"outlinewidth\": 0, \"ticks\": \"\"}}, \"type\": \"scatterternary\"}], \"surface\": [{\"colorbar\": {\"outlinewidth\": 0, \"ticks\": \"\"}, \"colorscale\": [[0.0, \"#0d0887\"], [0.1111111111111111, \"#46039f\"], [0.2222222222222222, \"#7201a8\"], [0.3333333333333333, \"#9c179e\"], [0.4444444444444444, \"#bd3786\"], [0.5555555555555556, \"#d8576b\"], [0.6666666666666666, \"#ed7953\"], [0.7777777777777778, \"#fb9f3a\"], [0.8888888888888888, \"#fdca26\"], [1.0, \"#f0f921\"]], \"type\": \"surface\"}], \"table\": [{\"cells\": {\"fill\": {\"color\": \"#EBF0F8\"}, \"line\": {\"color\": \"white\"}}, \"header\": {\"fill\": {\"color\": \"#C8D4E3\"}, \"line\": {\"color\": \"white\"}}, \"type\": \"table\"}]}, \"layout\": {\"annotationdefaults\": {\"arrowcolor\": \"#2a3f5f\", \"arrowhead\": 0, \"arrowwidth\": 1}, \"autotypenumbers\": \"strict\", \"coloraxis\": {\"colorbar\": {\"outlinewidth\": 0, \"ticks\": \"\"}}, \"colorscale\": {\"diverging\": [[0, \"#8e0152\"], [0.1, \"#c51b7d\"], [0.2, \"#de77ae\"], [0.3, \"#f1b6da\"], [0.4, \"#fde0ef\"], [0.5, \"#f7f7f7\"], [0.6, \"#e6f5d0\"], [0.7, \"#b8e186\"], [0.8, \"#7fbc41\"], [0.9, \"#4d9221\"], [1, \"#276419\"]], \"sequential\": [[0.0, \"#0d0887\"], [0.1111111111111111, \"#46039f\"], [0.2222222222222222, \"#7201a8\"], [0.3333333333333333, \"#9c179e\"], [0.4444444444444444, \"#bd3786\"], [0.5555555555555556, \"#d8576b\"], [0.6666666666666666, \"#ed7953\"], [0.7777777777777778, \"#fb9f3a\"], [0.8888888888888888, \"#fdca26\"], [1.0, \"#f0f921\"]], \"sequentialminus\": [[0.0, \"#0d0887\"], [0.1111111111111111, \"#46039f\"], [0.2222222222222222, \"#7201a8\"], [0.3333333333333333, \"#9c179e\"], [0.4444444444444444, \"#bd3786\"], [0.5555555555555556, \"#d8576b\"], [0.6666666666666666, \"#ed7953\"], [0.7777777777777778, \"#fb9f3a\"], [0.8888888888888888, \"#fdca26\"], [1.0, \"#f0f921\"]]}, \"colorway\": [\"#636efa\", \"#EF553B\", \"#00cc96\", \"#ab63fa\", \"#FFA15A\", \"#19d3f3\", \"#FF6692\", \"#B6E880\", \"#FF97FF\", \"#FECB52\"], \"font\": {\"color\": \"#2a3f5f\"}, \"geo\": {\"bgcolor\": \"white\", \"lakecolor\": \"white\", \"landcolor\": \"#E5ECF6\", \"showlakes\": true, \"showland\": true, \"subunitcolor\": \"white\"}, \"hoverlabel\": {\"align\": \"left\"}, \"hovermode\": \"closest\", \"mapbox\": {\"style\": \"light\"}, \"paper_bgcolor\": \"white\", \"plot_bgcolor\": \"#E5ECF6\", \"polar\": {\"angularaxis\": {\"gridcolor\": \"white\", \"linecolor\": \"white\", \"ticks\": \"\"}, \"bgcolor\": \"#E5ECF6\", \"radialaxis\": {\"gridcolor\": \"white\", \"linecolor\": \"white\", \"ticks\": \"\"}}, \"scene\": {\"xaxis\": {\"backgroundcolor\": \"#E5ECF6\", \"gridcolor\": \"white\", \"gridwidth\": 2, \"linecolor\": \"white\", \"showbackground\": true, \"ticks\": \"\", \"zerolinecolor\": \"white\"}, \"yaxis\": {\"backgroundcolor\": \"#E5ECF6\", \"gridcolor\": \"white\", \"gridwidth\": 2, \"linecolor\": \"white\", \"showbackground\": true, \"ticks\": \"\", \"zerolinecolor\": \"white\"}, \"zaxis\": {\"backgroundcolor\": \"#E5ECF6\", \"gridcolor\": \"white\", \"gridwidth\": 2, \"linecolor\": \"white\", \"showbackground\": true, \"ticks\": \"\", \"zerolinecolor\": \"white\"}}, \"shapedefaults\": {\"line\": {\"color\": \"#2a3f5f\"}}, \"ternary\": {\"aaxis\": {\"gridcolor\": \"white\", \"linecolor\": \"white\", \"ticks\": \"\"}, \"baxis\": {\"gridcolor\": \"white\", \"linecolor\": \"white\", \"ticks\": \"\"}, \"bgcolor\": \"#E5ECF6\", \"caxis\": {\"gridcolor\": \"white\", \"linecolor\": \"white\", \"ticks\": \"\"}}, \"title\": {\"x\": 0.05}, \"xaxis\": {\"automargin\": true, \"gridcolor\": \"white\", \"linecolor\": \"white\", \"ticks\": \"\", \"title\": {\"standoff\": 15}, \"zerolinecolor\": \"white\", \"zerolinewidth\": 2}, \"yaxis\": {\"automargin\": true, \"gridcolor\": \"white\", \"linecolor\": \"white\", \"ticks\": \"\", \"title\": {\"standoff\": 15}, \"zerolinecolor\": \"white\", \"zerolinewidth\": 2}}}, \"title\": {\"text\": \"Year Wise GTA, Driver and Watch Dogs Series\"}, \"xaxis\": {\"anchor\": \"y\", \"domain\": [0.0, 1.0], \"title\": {\"text\": \"Global_Sales\"}}, \"yaxis\": {\"anchor\": \"x\", \"domain\": [0.0, 1.0], \"title\": {\"text\": \"Year\"}}},                        {\"responsive\": true}                    ).then(function(){\n",
       "                            \n",
       "var gd = document.getElementById('73c9af29-3250-421a-9c6e-2fce04c349fc');\n",
       "var x = new MutationObserver(function (mutations, observer) {{\n",
       "        var display = window.getComputedStyle(gd).display;\n",
       "        if (!display || display === 'none') {{\n",
       "            console.log([gd, 'removed!']);\n",
       "            Plotly.purge(gd);\n",
       "            observer.disconnect();\n",
       "        }}\n",
       "}});\n",
       "\n",
       "// Listen for the removal of the full notebook cells\n",
       "var notebookContainer = gd.closest('#notebook-container');\n",
       "if (notebookContainer) {{\n",
       "    x.observe(notebookContainer, {childList: true});\n",
       "}}\n",
       "\n",
       "// Listen for the clearing of the current output cell\n",
       "var outputEl = gd.closest('.output');\n",
       "if (outputEl) {{\n",
       "    x.observe(outputEl, {childList: true});\n",
       "}}\n",
       "\n",
       "                        })                };                });            </script>        </div>"
      ]
     },
     "metadata": {},
     "output_type": "display_data"
    }
   ],
   "source": [
    "# combine gta & driver & watchdogs\n",
    "frames = [GTA, Driver_and_WatchDogs]\n",
    "GTA_Driver_WatchDogs = pd.concat(frames)\n",
    "\n",
    "gdw_sales_inyears = GTA_Driver_WatchDogs.groupby(['Name','Year'], as_index=False)['Global_Sales'].sum()\n",
    "\n",
    "fig = px.scatter(gdw_sales_inyears, x=\"Global_Sales\", y=\"Year\", color=\"Name\", size=\"Global_Sales\",\n",
    "                hover_data=[\"Name\"], title=\"Year Wise GTA, Driver and Watch Dogs Series\",\n",
    "                labels={\"x\": \"Global_Sales\", \"y\": \"Year\"})\n",
    "fig.show()"
   ]
  },
  {
   "cell_type": "code",
   "execution_count": null,
   "metadata": {},
   "outputs": [],
   "source": []
  }
 ],
 "metadata": {
  "kernelspec": {
   "display_name": "Python 3",
   "language": "python",
   "name": "python3"
  },
  "language_info": {
   "codemirror_mode": {
    "name": "ipython",
    "version": 3
   },
   "file_extension": ".py",
   "mimetype": "text/x-python",
   "name": "python",
   "nbconvert_exporter": "python",
   "pygments_lexer": "ipython3",
   "version": "3.8.3"
  }
 },
 "nbformat": 4,
 "nbformat_minor": 4
}
